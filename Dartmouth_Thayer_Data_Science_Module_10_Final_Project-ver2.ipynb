{
 "cells": [
  {
   "cell_type": "markdown",
   "metadata": {},
   "source": [
    "<img src=\"https://s3.amazonaws.com/ByC_logo_prod/unit-26963.jpg\" alt=\"Alt text that describes the graphic\" width=\"600\" />"
   ]
  },
  {
   "cell_type": "markdown",
   "metadata": {},
   "source": [
    "# PATIENT SURVIVAL PREDICTION\n",
    "\n"
   ]
  },
  {
   "cell_type": "markdown",
   "metadata": {},
   "source": [
    "<img src=\"images/quote_start.jpg\">"
   ]
  },
  {
   "cell_type": "markdown",
   "metadata": {},
   "source": [
    "# Table of contents\n",
    "\n",
    "- [Abstract](#Abstract)\n",
    "- [Introduction](#Introduction)\n",
    "- [1. The problem](#1.-The-problem)\n",
    "- [2. Purpose of the study](#2.-Purpose-of-the-study)\n",
    "- [3. Project description](#3.-Project-description)\n",
    "    - [3.1 Hypothesis](#3.1-Hypothesis)\n",
    "    - [3.2 Workflow](#3.2-Workflow)\n",
    "    - [3.3 Methods](#3.3-Methods)\n",
    "    - [3.4Analysis](#3.4-Analysis)\n",
    "    - [3.5 Results](#3.5-Results)\n",
    "- [4. Implementation (optional)](#4.-Implementation-(optional))\n",
    "- [Conclusion](#Conclusion)\n",
    "- [References](#References)"
   ]
  },
  {
   "cell_type": "markdown",
   "metadata": {},
   "source": [
    "##  Abstract\n",
    "\n",
    "Brief description (300 words or less) of your analysis and results. "
   ]
  },
  {
   "cell_type": "markdown",
   "metadata": {},
   "source": [
    "## Introduction\n",
    "\n",
    "Introduce your project. Describe all the processes you followed to solve the problem."
   ]
  },
  {
   "cell_type": "markdown",
   "metadata": {},
   "source": [
    "## 1. The problem\n",
    "\n",
    "The dataset is sourced from open domain and is about data related to a hospital in Greenland. It is the responsibility of Hospital Administration to provide efficient and timely patient care to ensure that the individual concerned recovers from the illness completely. The Hospital admistration is seeking answers for improving the standard of medical care by addressing related factors. The data is related to a particular department in the Hospital where mortality rate is beyond acceptable levels. Accordingly, it is understood that towards this, the data related to patient has been obtained from multiple SQL tables in the database and collated. The historical data collates information regarding demographics of the patient as well as treatment and medical condition and includes a binary variable which indicates whether the patient survived at the end of 12 months of care. The attributes  which affect the patient survival in a significant way can also be flagged.\n",
    "\n",
    "The **Objective** of the Project is to analyse the factors given in the dataset and predict chance of survival of patient at the end of 12 months of treatment. \n",
    "\n",
    "[Back to top](#Table-of-contents)"
   ]
  },
  {
   "cell_type": "markdown",
   "metadata": {},
   "source": [
    "## 2. Purpose of the study\n",
    "\n",
    "Healthcare is one of the domains where Machine Learning has contributed immensely. Most common health care use case are automated medical billing, clinical decision support and development of clinical care guidelines. The proposed project for Patient Survival prediction can be categorized into the third element of developing patient care systmes. There are considerable number of Deep Learning Models which analyse medical images and assist the Doctors in diagnosis of medical condition. The purpose of this study is more genric as it intended to identify factors affecting the survival of patient over a period of time in a Hospital environment. Given certain attributes related to patient medical condition as well as his treatment partculars, the proposed model is intended to predict survival probability of the patient. The focus is provide optimum care to patient so that he recovers fully. The project outcome will help Hospital admnistration in identifying patient who are risk ans well identfy critical attributes and put efforts to improve them for improving the patient survival records\n",
    "\n",
    "**SOME CAVEATS ON APPLICATION OF ML IN HEALTHCARE**\n",
    "\n",
    "The article at refernce(2) has brought out  that application of ML in predicting healthcare status of patient should be done with lot of care as it requires lot of domain expertise. Some of the factors brought out by the author is need to understand whether this problem can be predicted using ML insufficent data related to one patient ( say we have Blood Pressure of the patient . But BP can vary for a patient over time and just having one datapoint is insufficent we tend to apply algorithm based on metrics like accuracy,precision etc without clear understanding of working of algorithm under the hood as well as adequate domain experience The issues brought out in the article are noted and flagged , however being a academic project the exercise is undertaken with available data and information available in open domain\n",
    "\n",
    "[Back to top](#Table-of-contents)"
   ]
  },
  {
   "cell_type": "markdown",
   "metadata": {},
   "source": [
    "## 3. Project Description\n",
    "\n",
    "The Project scope of study includes analyse the historical data related to patient medical condition and develop a Supervised Machine Learning Model which can predict whether a patient will survive or not at the end of 12 months of hospital care. The project will also make a user interface for the hopital administration to input the patient medical conditions and obtain probability of survival from the ML model. It is intended to upload the solution on cloud/server for easy acess.\n",
    "\n",
    "[Back to top](#Table-of-contents)"
   ]
  },
  {
   "cell_type": "markdown",
   "metadata": {},
   "source": [
    "### 3.1 Hypothesis\n",
    "\n",
    "What are the hypothesis that drive your project?\n",
    "\n",
    "Once the problem statement is finalized, we move on to the hypothesis generation part. Here, we try to point out the factors/features that can help us to solve the problem at hand.\n",
    "\n",
    "[Back to top](#Table-of-contents)"
   ]
  },
  {
   "cell_type": "markdown",
   "metadata": {},
   "source": [
    "### 3.2 Workflow\n",
    "\n",
    "- Define the problem \n",
    "- Map the system \n",
    "- Define suitable metrics \n",
    "- Exploratory Data Analysis and Pre-processing\n",
    "- Select modeling tools \n",
    "- Implement model  \n",
    "- Evaluate model \n",
    "- Deploy the final model \n",
    "\n",
    "[Back to top](#Table-of-contents)"
   ]
  },
  {
   "cell_type": "markdown",
   "metadata": {},
   "source": [
    "**DESCRIPTION OF DATASET**\n",
    "\n",
    "The \"Survived_1_year\" column is a target variable which has binary entries (0 or 1).\n",
    "\n",
    "Survived_1_year == 0, implies that the patient did not survive after 1 year of treatment\n",
    "Survived_1_year == 1, implies that the patient survived after 1 year of treatment\n",
    "\n",
    "The features in the dataset are as follows :-\n",
    "\n",
    "-ID_Patient_Care_Situation: Care situation of a patient during treatment\n",
    "\n",
    "-Diagnosed_Condition: The diagnosed condition of the patient\n",
    "\n",
    "\n",
    "-ID_Patient: Patient identifier number\n",
    "\n",
    "-Treatment_with_drugs: Class of drugs used during treatment\n",
    "\n",
    "-Survived_1_year: If the patient survived after one year (0 means did not survive; 1 means survived)\n",
    "\n",
    "-Patient_Age: Age of the patient\n",
    "\n",
    "-Patient_Body_Mass_Index: A calculated value based on the patient’s weight, height, etc.\n",
    "\n",
    "-Patient_Smoker: If the patient was a smoker or not\n",
    "\n",
    "-Patient_Rural_Urban: If the patient stayed in Rural or Urban part of the country\n",
    "\n",
    "-Previous_Condition: Condition of the patient before the start of the treatment ( This variable is splitted into 8 columns - A, B, C, D, E, F, Z and Number_of_prev_cond. A, B, C, D, E, F and Z are the previous conditions of the patient. Suppose for one patient, if the entry in column A is 1, it means that the previous condition of the patient was A. If the patient didn't have that condition, it is 0 and same for other conditions. If a patient has previous condition as A and C , columns A and C will have entries as 1 and 1 respectively while the other column B, D, E, F, Z will have entries 0, 0, 0, 0, 0 respectively. The column Number_of_prev_cond will have entry as 2 i.e. 1 + 0 + 1 + 0 + 0 + 0 + 0 + 0 = 2 in this case. )\n",
    "\n",
    "*As the patient data is also very sensitive, only limited demographic information related to the patient is available*"
   ]
  },
  {
   "cell_type": "code",
   "execution_count": 2,
   "metadata": {},
   "outputs": [],
   "source": [
    "# import necessary libraries\n",
    "import pandas as pd \n",
    "import numpy as np \n",
    "import matplotlib.pyplot as plt\n",
    "import seaborn as sns\n",
    "from termcolor import colored as color\n",
    "\n",
    "import warnings\n",
    "warnings.filterwarnings('ignore')\n",
    "\n",
    "sns.set_style('whitegrid')"
   ]
  },
  {
   "cell_type": "code",
   "execution_count": 3,
   "metadata": {},
   "outputs": [
    {
     "name": "stdout",
     "output_type": "stream",
     "text": [
      "\u001b[1m\u001b[34mOVERVIEW OF FIRST FEW ROWS OF DATASET....\u001b[0m\n"
     ]
    },
    {
     "data": {
      "text/html": [
       "<div>\n",
       "<style scoped>\n",
       "    .dataframe tbody tr th:only-of-type {\n",
       "        vertical-align: middle;\n",
       "    }\n",
       "\n",
       "    .dataframe tbody tr th {\n",
       "        vertical-align: top;\n",
       "    }\n",
       "\n",
       "    .dataframe thead th {\n",
       "        text-align: right;\n",
       "    }\n",
       "</style>\n",
       "<table border=\"1\" class=\"dataframe\">\n",
       "  <thead>\n",
       "    <tr style=\"text-align: right;\">\n",
       "      <th></th>\n",
       "      <th>Unnamed: 0</th>\n",
       "      <th>ID_Patient_Care_Situation</th>\n",
       "      <th>Diagnosed_Condition</th>\n",
       "      <th>Patient_ID</th>\n",
       "      <th>Treated_with_drugs</th>\n",
       "      <th>Patient_Age</th>\n",
       "      <th>Patient_Body_Mass_Index</th>\n",
       "      <th>Patient_Smoker</th>\n",
       "      <th>Patient_Rural_Urban</th>\n",
       "      <th>Patient_mental_condition</th>\n",
       "      <th>A</th>\n",
       "      <th>B</th>\n",
       "      <th>C</th>\n",
       "      <th>D</th>\n",
       "      <th>E</th>\n",
       "      <th>F</th>\n",
       "      <th>Z</th>\n",
       "      <th>Number_of_prev_cond</th>\n",
       "      <th>Survived_1_year</th>\n",
       "    </tr>\n",
       "  </thead>\n",
       "  <tbody>\n",
       "    <tr>\n",
       "      <th>0</th>\n",
       "      <td>0</td>\n",
       "      <td>22374</td>\n",
       "      <td>8</td>\n",
       "      <td>3333</td>\n",
       "      <td>DX6</td>\n",
       "      <td>56</td>\n",
       "      <td>18.479385</td>\n",
       "      <td>YES</td>\n",
       "      <td>URBAN</td>\n",
       "      <td>Stable</td>\n",
       "      <td>1.0</td>\n",
       "      <td>0.0</td>\n",
       "      <td>0.0</td>\n",
       "      <td>0.0</td>\n",
       "      <td>1.0</td>\n",
       "      <td>0.0</td>\n",
       "      <td>0.0</td>\n",
       "      <td>2.0</td>\n",
       "      <td>0</td>\n",
       "    </tr>\n",
       "    <tr>\n",
       "      <th>1</th>\n",
       "      <td>1</td>\n",
       "      <td>18164</td>\n",
       "      <td>5</td>\n",
       "      <td>5740</td>\n",
       "      <td>DX2</td>\n",
       "      <td>36</td>\n",
       "      <td>22.945566</td>\n",
       "      <td>YES</td>\n",
       "      <td>RURAL</td>\n",
       "      <td>Stable</td>\n",
       "      <td>1.0</td>\n",
       "      <td>0.0</td>\n",
       "      <td>0.0</td>\n",
       "      <td>0.0</td>\n",
       "      <td>0.0</td>\n",
       "      <td>0.0</td>\n",
       "      <td>0.0</td>\n",
       "      <td>1.0</td>\n",
       "      <td>1</td>\n",
       "    </tr>\n",
       "    <tr>\n",
       "      <th>2</th>\n",
       "      <td>2</td>\n",
       "      <td>6283</td>\n",
       "      <td>23</td>\n",
       "      <td>10446</td>\n",
       "      <td>DX6</td>\n",
       "      <td>48</td>\n",
       "      <td>27.510027</td>\n",
       "      <td>YES</td>\n",
       "      <td>RURAL</td>\n",
       "      <td>Stable</td>\n",
       "      <td>1.0</td>\n",
       "      <td>0.0</td>\n",
       "      <td>0.0</td>\n",
       "      <td>0.0</td>\n",
       "      <td>0.0</td>\n",
       "      <td>0.0</td>\n",
       "      <td>0.0</td>\n",
       "      <td>1.0</td>\n",
       "      <td>0</td>\n",
       "    </tr>\n",
       "    <tr>\n",
       "      <th>3</th>\n",
       "      <td>3</td>\n",
       "      <td>5339</td>\n",
       "      <td>51</td>\n",
       "      <td>12011</td>\n",
       "      <td>DX1</td>\n",
       "      <td>5</td>\n",
       "      <td>19.130976</td>\n",
       "      <td>NO</td>\n",
       "      <td>URBAN</td>\n",
       "      <td>Stable</td>\n",
       "      <td>1.0</td>\n",
       "      <td>0.0</td>\n",
       "      <td>0.0</td>\n",
       "      <td>0.0</td>\n",
       "      <td>0.0</td>\n",
       "      <td>0.0</td>\n",
       "      <td>0.0</td>\n",
       "      <td>1.0</td>\n",
       "      <td>1</td>\n",
       "    </tr>\n",
       "    <tr>\n",
       "      <th>4</th>\n",
       "      <td>4</td>\n",
       "      <td>33012</td>\n",
       "      <td>0</td>\n",
       "      <td>12513</td>\n",
       "      <td>NaN</td>\n",
       "      <td>128</td>\n",
       "      <td>1.348400</td>\n",
       "      <td>Cannot say</td>\n",
       "      <td>RURAL</td>\n",
       "      <td>Stable</td>\n",
       "      <td>0.0</td>\n",
       "      <td>0.0</td>\n",
       "      <td>0.0</td>\n",
       "      <td>0.0</td>\n",
       "      <td>0.0</td>\n",
       "      <td>0.0</td>\n",
       "      <td>1.0</td>\n",
       "      <td>1.0</td>\n",
       "      <td>1</td>\n",
       "    </tr>\n",
       "  </tbody>\n",
       "</table>\n",
       "</div>"
      ],
      "text/plain": [
       "   Unnamed: 0  ID_Patient_Care_Situation  Diagnosed_Condition  Patient_ID  \\\n",
       "0           0                      22374                    8        3333   \n",
       "1           1                      18164                    5        5740   \n",
       "2           2                       6283                   23       10446   \n",
       "3           3                       5339                   51       12011   \n",
       "4           4                      33012                    0       12513   \n",
       "\n",
       "  Treated_with_drugs  Patient_Age  Patient_Body_Mass_Index Patient_Smoker  \\\n",
       "0                DX6           56                18.479385            YES   \n",
       "1               DX2            36                22.945566            YES   \n",
       "2                DX6           48                27.510027            YES   \n",
       "3               DX1             5                19.130976             NO   \n",
       "4                NaN          128                 1.348400     Cannot say   \n",
       "\n",
       "  Patient_Rural_Urban Patient_mental_condition    A    B    C    D    E    F  \\\n",
       "0               URBAN                   Stable  1.0  0.0  0.0  0.0  1.0  0.0   \n",
       "1               RURAL                   Stable  1.0  0.0  0.0  0.0  0.0  0.0   \n",
       "2               RURAL                   Stable  1.0  0.0  0.0  0.0  0.0  0.0   \n",
       "3               URBAN                   Stable  1.0  0.0  0.0  0.0  0.0  0.0   \n",
       "4               RURAL                   Stable  0.0  0.0  0.0  0.0  0.0  0.0   \n",
       "\n",
       "     Z  Number_of_prev_cond  Survived_1_year  \n",
       "0  0.0                  2.0                0  \n",
       "1  0.0                  1.0                1  \n",
       "2  0.0                  1.0                0  \n",
       "3  0.0                  1.0                1  \n",
       "4  1.0                  1.0                1  "
      ]
     },
     "metadata": {},
     "output_type": "display_data"
    }
   ],
   "source": [
    "#importing the csv file and read into a dataframe\n",
    "patient = pd.read_csv('dataset/patient_survival.csv')\n",
    "print(color('OVERVIEW OF FIRST FEW ROWS OF DATASET....','blue',attrs=['bold']))\n",
    "display(patient.head())"
   ]
  },
  {
   "cell_type": "code",
   "execution_count": 4,
   "metadata": {},
   "outputs": [
    {
     "data": {
      "text/plain": [
       "(23097, 19)"
      ]
     },
     "execution_count": 4,
     "metadata": {},
     "output_type": "execute_result"
    }
   ],
   "source": [
    "# size of dataframe\n",
    "patient.shape"
   ]
  },
  {
   "cell_type": "markdown",
   "metadata": {},
   "source": [
    "We need to examine the distribution of target column to see if it is imbalanced and in case it is imbalanced we need to address the same. The evaluation metrics have to be decided accordingly"
   ]
  },
  {
   "cell_type": "code",
   "execution_count": 5,
   "metadata": {},
   "outputs": [
    {
     "data": {
      "text/plain": [
       "1    14603\n",
       "0     8494\n",
       "Name: Survived_1_year, dtype: int64"
      ]
     },
     "metadata": {},
     "output_type": "display_data"
    },
    {
     "data": {
      "image/png": "[encoded data removed]",
      "text/plain": [
       "<Figure size 432x288 with 1 Axes>"
      ]
     },
     "metadata": {},
     "output_type": "display_data"
    }
   ],
   "source": [
    "#check the distribution of target values\n",
    "display(patient['Survived_1_year'].value_counts())\n",
    "patient['Survived_1_year'].value_counts().plot.bar(color='g')\n",
    "plt.xlabel('Survived_1_year')\n",
    "plt.ylabel('count')\n",
    "plt.figtext(0.47, 0.96, \"COUNT PLOT OF TARGET VARIABLE( Survived_1_year)\", fontsize='large', color='r', ha ='center')\n",
    "plt.show()"
   ]
  },
  {
   "cell_type": "markdown",
   "metadata": {},
   "source": [
    "Scrutiny of target column reveals 63& patients have survived and 37% patients have not survived. There are around 14000 individuals survived as against 8500 individuals who did not survive after 1 year. The data is not imbalanced to a great extent such as 90:10 where model can develop serious bias towards surviving class. \n",
    "\n",
    "The target columns is not imbalanced and hence **would not require** any treatment for correcting class imbalance by oversampling/undersampling/SMOTE techniques etc\n",
    "\n",
    "The dataset has 23097 rows and 19 columns"
   ]
  },
  {
   "cell_type": "markdown",
   "metadata": {},
   "source": [
    "**ADDRESSING THE ISSUE OF DATA LEAKEGE**\n",
    "\n",
    "Data leakege(reference 3) is the problem of model getting biased from information outside the training data. The model developed should be able to predict on unseen data . One of the ways data leakge can take place is info leakege from test set during training . When we are doing EDA and preprocessing (like normalising) there are chances of distribution of test data getting into model training phase and this can create a bias. One approach is to split your training dataset into train and validation sets, and store away the validation dataset. Once you have completed your modeling process and actually created your final model, evaluate it on the validation dataset.\n",
    "\n",
    "It is intended to follow this approach by splitting the data into training and validation set initally . The validation set would be used at the end for one time validation of model."
   ]
  },
  {
   "cell_type": "markdown",
   "metadata": {},
   "source": [
    "**DEFINING EVALUATION METRICS**\n",
    "\n",
    "The evaluation metric for the model would be F1 metric and AUC-ROC curve"
   ]
  },
  {
   "cell_type": "markdown",
   "metadata": {},
   "source": [
    "### SPLIT THE DATASET INTO TRAINING AND TEST DATASET"
   ]
  },
  {
   "cell_type": "code",
   "execution_count": 6,
   "metadata": {},
   "outputs": [],
   "source": [
    "#separating X and y from the dataset\n",
    "X = patient.drop('Survived_1_year',axis=1)\n",
    "y = patient['Survived_1_year']"
   ]
  },
  {
   "cell_type": "code",
   "execution_count": 7,
   "metadata": {},
   "outputs": [],
   "source": [
    "from sklearn.model_selection import train_test_split\n",
    "X_train,X_valid,y_train,y_valid = train_test_split(X,y,test_size=0.15,stratify=y,random_state=42)"
   ]
  },
  {
   "cell_type": "code",
   "execution_count": 8,
   "metadata": {},
   "outputs": [
    {
     "data": {
      "text/plain": [
       "((19632, 18), (19632,), (3465, 18), (3465,))"
      ]
     },
     "execution_count": 8,
     "metadata": {},
     "output_type": "execute_result"
    }
   ],
   "source": [
    "#looking at shape of train and validation data\n",
    "X_train.shape,y_train.shape,X_valid.shape,y_valid.shape"
   ]
  },
  {
   "cell_type": "markdown",
   "metadata": {},
   "source": [
    "The train data has 19632 rows and validation data has 3465 rows. To preserve the proportion of target column in both train and valid , stratify parameter has been used."
   ]
  },
  {
   "cell_type": "markdown",
   "metadata": {},
   "source": [
    "### EDA AND DATA PRE-PROCESSING\n",
    "\n",
    "we shall examine each attribute in detail as well as understand insights from the dataset using EDA as well as visualisation tools. We shall restrict EDA only to train data and keep validation dataset for validation purposes at the end."
   ]
  },
  {
   "cell_type": "code",
   "execution_count": 9,
   "metadata": {},
   "outputs": [
    {
     "data": {
      "text/html": [
       "<div>\n",
       "<style scoped>\n",
       "    .dataframe tbody tr th:only-of-type {\n",
       "        vertical-align: middle;\n",
       "    }\n",
       "\n",
       "    .dataframe tbody tr th {\n",
       "        vertical-align: top;\n",
       "    }\n",
       "\n",
       "    .dataframe thead th {\n",
       "        text-align: right;\n",
       "    }\n",
       "</style>\n",
       "<table border=\"1\" class=\"dataframe\">\n",
       "  <thead>\n",
       "    <tr style=\"text-align: right;\">\n",
       "      <th></th>\n",
       "      <th>Unnamed: 0</th>\n",
       "      <th>ID_Patient_Care_Situation</th>\n",
       "      <th>Diagnosed_Condition</th>\n",
       "      <th>Patient_ID</th>\n",
       "      <th>Treated_with_drugs</th>\n",
       "      <th>Patient_Age</th>\n",
       "      <th>Patient_Body_Mass_Index</th>\n",
       "      <th>Patient_Smoker</th>\n",
       "      <th>Patient_Rural_Urban</th>\n",
       "      <th>Patient_mental_condition</th>\n",
       "      <th>A</th>\n",
       "      <th>B</th>\n",
       "      <th>C</th>\n",
       "      <th>D</th>\n",
       "      <th>E</th>\n",
       "      <th>F</th>\n",
       "      <th>Z</th>\n",
       "      <th>Number_of_prev_cond</th>\n",
       "    </tr>\n",
       "  </thead>\n",
       "  <tbody>\n",
       "    <tr>\n",
       "      <th>8098</th>\n",
       "      <td>8098</td>\n",
       "      <td>23837</td>\n",
       "      <td>13</td>\n",
       "      <td>8589</td>\n",
       "      <td>DX3 DX5</td>\n",
       "      <td>57</td>\n",
       "      <td>28.077127</td>\n",
       "      <td>YES</td>\n",
       "      <td>RURAL</td>\n",
       "      <td>Stable</td>\n",
       "      <td>1.0</td>\n",
       "      <td>0.0</td>\n",
       "      <td>0.0</td>\n",
       "      <td>0.0</td>\n",
       "      <td>0.0</td>\n",
       "      <td>1.0</td>\n",
       "      <td>0.0</td>\n",
       "      <td>2.0</td>\n",
       "    </tr>\n",
       "    <tr>\n",
       "      <th>21211</th>\n",
       "      <td>21211</td>\n",
       "      <td>6756</td>\n",
       "      <td>36</td>\n",
       "      <td>5369</td>\n",
       "      <td>DX2</td>\n",
       "      <td>2</td>\n",
       "      <td>19.784911</td>\n",
       "      <td>NO</td>\n",
       "      <td>RURAL</td>\n",
       "      <td>Stable</td>\n",
       "      <td>1.0</td>\n",
       "      <td>0.0</td>\n",
       "      <td>0.0</td>\n",
       "      <td>0.0</td>\n",
       "      <td>1.0</td>\n",
       "      <td>0.0</td>\n",
       "      <td>0.0</td>\n",
       "      <td>2.0</td>\n",
       "    </tr>\n",
       "    <tr>\n",
       "      <th>12024</th>\n",
       "      <td>12024</td>\n",
       "      <td>8476</td>\n",
       "      <td>16</td>\n",
       "      <td>557</td>\n",
       "      <td>DX1 DX5</td>\n",
       "      <td>0</td>\n",
       "      <td>21.440244</td>\n",
       "      <td>NO</td>\n",
       "      <td>RURAL</td>\n",
       "      <td>Stable</td>\n",
       "      <td>1.0</td>\n",
       "      <td>0.0</td>\n",
       "      <td>0.0</td>\n",
       "      <td>0.0</td>\n",
       "      <td>1.0</td>\n",
       "      <td>0.0</td>\n",
       "      <td>0.0</td>\n",
       "      <td>2.0</td>\n",
       "    </tr>\n",
       "    <tr>\n",
       "      <th>16529</th>\n",
       "      <td>16529</td>\n",
       "      <td>29717</td>\n",
       "      <td>20</td>\n",
       "      <td>3035</td>\n",
       "      <td>DX3 DX5</td>\n",
       "      <td>33</td>\n",
       "      <td>18.282131</td>\n",
       "      <td>YES</td>\n",
       "      <td>RURAL</td>\n",
       "      <td>Stable</td>\n",
       "      <td>1.0</td>\n",
       "      <td>0.0</td>\n",
       "      <td>0.0</td>\n",
       "      <td>0.0</td>\n",
       "      <td>1.0</td>\n",
       "      <td>0.0</td>\n",
       "      <td>0.0</td>\n",
       "      <td>2.0</td>\n",
       "    </tr>\n",
       "    <tr>\n",
       "      <th>4344</th>\n",
       "      <td>4344</td>\n",
       "      <td>5742</td>\n",
       "      <td>50</td>\n",
       "      <td>7291</td>\n",
       "      <td>DX2 DX3</td>\n",
       "      <td>24</td>\n",
       "      <td>23.857636</td>\n",
       "      <td>YES</td>\n",
       "      <td>RURAL</td>\n",
       "      <td>Stable</td>\n",
       "      <td>1.0</td>\n",
       "      <td>0.0</td>\n",
       "      <td>0.0</td>\n",
       "      <td>0.0</td>\n",
       "      <td>0.0</td>\n",
       "      <td>0.0</td>\n",
       "      <td>0.0</td>\n",
       "      <td>1.0</td>\n",
       "    </tr>\n",
       "  </tbody>\n",
       "</table>\n",
       "</div>"
      ],
      "text/plain": [
       "       Unnamed: 0  ID_Patient_Care_Situation  Diagnosed_Condition  Patient_ID  \\\n",
       "8098         8098                      23837                   13        8589   \n",
       "21211       21211                       6756                   36        5369   \n",
       "12024       12024                       8476                   16         557   \n",
       "16529       16529                      29717                   20        3035   \n",
       "4344         4344                       5742                   50        7291   \n",
       "\n",
       "      Treated_with_drugs  Patient_Age  Patient_Body_Mass_Index Patient_Smoker  \\\n",
       "8098            DX3 DX5            57                28.077127            YES   \n",
       "21211               DX2             2                19.784911             NO   \n",
       "12024           DX1 DX5             0                21.440244             NO   \n",
       "16529           DX3 DX5            33                18.282131            YES   \n",
       "4344            DX2 DX3            24                23.857636            YES   \n",
       "\n",
       "      Patient_Rural_Urban Patient_mental_condition    A    B    C    D    E  \\\n",
       "8098                RURAL                   Stable  1.0  0.0  0.0  0.0  0.0   \n",
       "21211               RURAL                   Stable  1.0  0.0  0.0  0.0  1.0   \n",
       "12024               RURAL                   Stable  1.0  0.0  0.0  0.0  1.0   \n",
       "16529               RURAL                   Stable  1.0  0.0  0.0  0.0  1.0   \n",
       "4344                RURAL                   Stable  1.0  0.0  0.0  0.0  0.0   \n",
       "\n",
       "         F    Z  Number_of_prev_cond  \n",
       "8098   1.0  0.0                  2.0  \n",
       "21211  0.0  0.0                  2.0  \n",
       "12024  0.0  0.0                  2.0  \n",
       "16529  0.0  0.0                  2.0  \n",
       "4344   0.0  0.0                  1.0  "
      ]
     },
     "execution_count": 9,
     "metadata": {},
     "output_type": "execute_result"
    }
   ],
   "source": [
    "#look at train data and columns\n",
    "X_train.head()"
   ]
  },
  {
   "cell_type": "code",
   "execution_count": 10,
   "metadata": {},
   "outputs": [
    {
     "name": "stdout",
     "output_type": "stream",
     "text": [
      "<class 'pandas.core.frame.DataFrame'>\n",
      "Int64Index: 19632 entries, 8098 to 3100\n",
      "Data columns (total 18 columns):\n",
      " #   Column                     Non-Null Count  Dtype  \n",
      "---  ------                     --------------  -----  \n",
      " 0   Unnamed: 0                 19632 non-null  int64  \n",
      " 1   ID_Patient_Care_Situation  19632 non-null  int64  \n",
      " 2   Diagnosed_Condition        19632 non-null  int64  \n",
      " 3   Patient_ID                 19632 non-null  int64  \n",
      " 4   Treated_with_drugs         19624 non-null  object \n",
      " 5   Patient_Age                19632 non-null  int64  \n",
      " 6   Patient_Body_Mass_Index    19632 non-null  float64\n",
      " 7   Patient_Smoker             19632 non-null  object \n",
      " 8   Patient_Rural_Urban        19632 non-null  object \n",
      " 9   Patient_mental_condition   19632 non-null  object \n",
      " 10  A                          18566 non-null  float64\n",
      " 11  B                          18566 non-null  float64\n",
      " 12  C                          18566 non-null  float64\n",
      " 13  D                          18566 non-null  float64\n",
      " 14  E                          18566 non-null  float64\n",
      " 15  F                          18566 non-null  float64\n",
      " 16  Z                          18566 non-null  float64\n",
      " 17  Number_of_prev_cond        18566 non-null  float64\n",
      "dtypes: float64(9), int64(5), object(4)\n",
      "memory usage: 2.8+ MB\n"
     ]
    }
   ],
   "source": [
    "#look at columns and datatype\n",
    "X_train.info()"
   ]
  },
  {
   "cell_type": "code",
   "execution_count": 11,
   "metadata": {},
   "outputs": [],
   "source": [
    "# we can drop Unnamed: 0 columns as it is same as index column\n",
    "X_train.drop('Unnamed: 0',axis=1,inplace=True)"
   ]
  },
  {
   "cell_type": "markdown",
   "metadata": {},
   "source": [
    "**data Pre-processing(1)- Drop 'unnamed column'**"
   ]
  },
  {
   "cell_type": "markdown",
   "metadata": {},
   "source": [
    "#### NUMERIC COLUMNS EDA"
   ]
  },
  {
   "cell_type": "code",
   "execution_count": 12,
   "metadata": {},
   "outputs": [
    {
     "data": {
      "text/plain": [
       "Index(['ID_Patient_Care_Situation', 'Diagnosed_Condition', 'Patient_ID',\n",
       "       'Treated_with_drugs', 'Patient_Age', 'Patient_Body_Mass_Index',\n",
       "       'Patient_Smoker', 'Patient_Rural_Urban', 'Patient_mental_condition',\n",
       "       'A', 'B', 'C', 'D', 'E', 'F', 'Z', 'Number_of_prev_cond'],\n",
       "      dtype='object')"
      ]
     },
     "execution_count": 12,
     "metadata": {},
     "output_type": "execute_result"
    }
   ],
   "source": [
    "X_train.columns"
   ]
  },
  {
   "cell_type": "markdown",
   "metadata": {},
   "source": [
    "- For univariate analysis of numeric columns, we have box plots as well as histograms to visualise the data. "
   ]
  },
  {
   "cell_type": "code",
   "execution_count": 13,
   "metadata": {},
   "outputs": [
    {
     "data": {
      "image/png": "[encoded data removed]",
      "text/plain": [
       "<Figure size 1440x720 with 4 Axes>"
      ]
     },
     "metadata": {},
     "output_type": "display_data"
    }
   ],
   "source": [
    "numeric_columns=['Patient_Age','Patient_Body_Mass_Index','Diagnosed_Condition','Number_of_prev_cond']\n",
    "f=plt.figure(figsize=(20,10))\n",
    "i=1\n",
    "for col in numeric_columns:\n",
    "    f.add_subplot(2,2,i)\n",
    "    sns.boxplot(y=col,data=X_train,x=y_train,showmeans=True,palette='Set1')\n",
    "    i+=1\n",
    "plt.show()"
   ]
  },
  {
   "cell_type": "markdown",
   "metadata": {},
   "source": [
    "A univariate plot shows the data and summarizes its distribution. \n",
    "\n",
    "**Plot1**  (Age)\n",
    "\n",
    "- the mean and meadian of age variable is more or less equal for survived and not survived class(for survived it is marginally \n",
    "  lower. \n",
    "- The age for survived has a few extreme values on the higher side\n",
    "- the spread of data seems to be similar for both classes.\n",
    "\n",
    "**Plot2** (BMI)\n",
    "-  The mean /median BMI of Not Survived class is higher than that of Survived column. The mean value of BMI for Not Survived is    around 25 which is overweight category. The mean value of Survived is around 22 which is considered more healthier. Howver   \n",
    "   the maximum value is same for both categories. \n",
    "- The range of BMI for Not survived is higher \n",
    "- The survived has a BMI value which is very small , which looks like an error in data and needs to be corrected.\n",
    "- BMI as a factor leading to the individual Not surviving or in other words BMI as a factor for survival is flagged.\n",
    "\n",
    "**plot3** (Diagonised Condition)\n",
    "- The Diagonized Condition mean for Not Survived is marginally higher than that of Survived category\n",
    "- The range of values for survived is higher \n",
    "- Max and min values for both categories are similar\n",
    "\n",
    "**plot4** (Number of prev condition)\n",
    "- the plot looks similar for Survived and Not Survived\n",
    "- The data is right skewed and few outliers are visible"
   ]
  },
  {
   "cell_type": "code",
   "execution_count": 14,
   "metadata": {},
   "outputs": [
    {
     "data": {
      "text/html": [
       "<div>\n",
       "<style scoped>\n",
       "    .dataframe tbody tr th:only-of-type {\n",
       "        vertical-align: middle;\n",
       "    }\n",
       "\n",
       "    .dataframe tbody tr th {\n",
       "        vertical-align: top;\n",
       "    }\n",
       "\n",
       "    .dataframe thead th {\n",
       "        text-align: right;\n",
       "    }\n",
       "</style>\n",
       "<table border=\"1\" class=\"dataframe\">\n",
       "  <thead>\n",
       "    <tr style=\"text-align: right;\">\n",
       "      <th></th>\n",
       "      <th>count</th>\n",
       "      <th>mean</th>\n",
       "      <th>std</th>\n",
       "      <th>min</th>\n",
       "      <th>25%</th>\n",
       "      <th>50%</th>\n",
       "      <th>75%</th>\n",
       "      <th>max</th>\n",
       "    </tr>\n",
       "  </thead>\n",
       "  <tbody>\n",
       "    <tr>\n",
       "      <th>Patient_Age</th>\n",
       "      <td>19632.0</td>\n",
       "      <td>33.213070</td>\n",
       "      <td>19.541484</td>\n",
       "      <td>0.0000</td>\n",
       "      <td>16.000000</td>\n",
       "      <td>33.000000</td>\n",
       "      <td>50.000000</td>\n",
       "      <td>149.000000</td>\n",
       "    </tr>\n",
       "    <tr>\n",
       "      <th>Patient_Body_Mass_Index</th>\n",
       "      <td>19632.0</td>\n",
       "      <td>23.452505</td>\n",
       "      <td>3.801194</td>\n",
       "      <td>1.0893</td>\n",
       "      <td>20.196148</td>\n",
       "      <td>23.386462</td>\n",
       "      <td>26.783362</td>\n",
       "      <td>29.999579</td>\n",
       "    </tr>\n",
       "    <tr>\n",
       "      <th>Diagnosed_Condition</th>\n",
       "      <td>19632.0</td>\n",
       "      <td>26.469132</td>\n",
       "      <td>15.024445</td>\n",
       "      <td>0.0000</td>\n",
       "      <td>13.000000</td>\n",
       "      <td>27.000000</td>\n",
       "      <td>40.000000</td>\n",
       "      <td>52.000000</td>\n",
       "    </tr>\n",
       "    <tr>\n",
       "      <th>Number_of_prev_cond</th>\n",
       "      <td>18566.0</td>\n",
       "      <td>1.749542</td>\n",
       "      <td>0.770076</td>\n",
       "      <td>1.0000</td>\n",
       "      <td>1.000000</td>\n",
       "      <td>2.000000</td>\n",
       "      <td>2.000000</td>\n",
       "      <td>5.000000</td>\n",
       "    </tr>\n",
       "  </tbody>\n",
       "</table>\n",
       "</div>"
      ],
      "text/plain": [
       "                           count       mean        std     min        25%  \\\n",
       "Patient_Age              19632.0  33.213070  19.541484  0.0000  16.000000   \n",
       "Patient_Body_Mass_Index  19632.0  23.452505   3.801194  1.0893  20.196148   \n",
       "Diagnosed_Condition      19632.0  26.469132  15.024445  0.0000  13.000000   \n",
       "Number_of_prev_cond      18566.0   1.749542   0.770076  1.0000   1.000000   \n",
       "\n",
       "                               50%        75%         max  \n",
       "Patient_Age              33.000000  50.000000  149.000000  \n",
       "Patient_Body_Mass_Index  23.386462  26.783362   29.999579  \n",
       "Diagnosed_Condition      27.000000  40.000000   52.000000  \n",
       "Number_of_prev_cond       2.000000   2.000000    5.000000  "
      ]
     },
     "metadata": {},
     "output_type": "display_data"
    }
   ],
   "source": [
    "# Looking at descriptive statistics of numeric columns\n",
    "display(X_train[numeric_columns].describe().T)"
   ]
  },
  {
   "cell_type": "markdown",
   "metadata": {},
   "source": [
    "- For Age the mean and median are more or less similar . hence the data does not have much skew. \n",
    "- Min and max value of Age needs examination (looks like error). The higher value of std dev could be because of these values\n",
    "- For BMI our earlier observations hold good. A few lower values may need further cleaning\n",
    "- For Diagnosed condition , maan and meadian values do not differ much . Hence there is not much skew in data"
   ]
  },
  {
   "cell_type": "code",
   "execution_count": 15,
   "metadata": {},
   "outputs": [
    {
     "data": {
      "image/png": "[encoded data removed]",
      "text/plain": [
       "<Figure size 1440x720 with 4 Axes>"
      ]
     },
     "metadata": {},
     "output_type": "display_data"
    }
   ],
   "source": [
    "# Examining the distribution of numeric variables\n",
    "f=plt.figure(figsize=(20,10))\n",
    "i=1\n",
    "for col in numeric_columns:\n",
    "    f.add_subplot(2,2,i)\n",
    "    sns.histplot(data=X_train,x=col,hue=y_train,kde=True,palette='Set1')\n",
    "    i+=1\n",
    "plt.show()"
   ]
  },
  {
   "cell_type": "markdown",
   "metadata": {},
   "source": [
    "- The Number of prev condition is discrete data. \n",
    "- Age is right skewed while BMI is left skewed"
   ]
  },
  {
   "cell_type": "markdown",
   "metadata": {},
   "source": [
    "As a next step , Looking at Numeric Columns one by one to address the missing values and outliers"
   ]
  },
  {
   "cell_type": "code",
   "execution_count": 90,
   "metadata": {},
   "outputs": [
    {
     "data": {
      "image/png": "[encoded data removed]",
      "text/plain": [
       "<Figure size 432x288 with 1 Axes>"
      ]
     },
     "metadata": {},
     "output_type": "display_data"
    }
   ],
   "source": [
    "sns.lineplot('Patient_Age','Patient_Body_Mass_Index',data=X_train)\n",
    "plt.show()"
   ]
  },
  {
   "cell_type": "markdown",
   "metadata": {},
   "source": [
    "- There is no clear trend emerging here between BMI and age "
   ]
  },
  {
   "cell_type": "code",
   "execution_count": 100,
   "metadata": {},
   "outputs": [
    {
     "data": {
      "image/png": "[encoded data removed]",
      "text/plain": [
       "<Figure size 432x288 with 2 Axes>"
      ]
     },
     "metadata": {},
     "output_type": "display_data"
    }
   ],
   "source": [
    "fig,(ax1,ax2) = plt.subplots(nrows=1,ncols=2) \n",
    "sns.countplot(X_train['Number_of_prev_cond'],hue=y_train,palette='Set1',ax=ax1)\n",
    "sns.countplot(X_train['Number_of_prev_cond'],hue=y_train,palette='Set1',ax=ax2)\n",
    "plt.ylim(0,250)\n",
    "plt.tight_layout()\n",
    "plt.show()"
   ]
  },
  {
   "cell_type": "markdown",
   "metadata": {},
   "source": [
    "- Most of the patients have number of prev condition 1 or 2 . \n",
    "- Patients with condition 4 and 5 are mostly not survived . Patients with Cond 4 and 5 needs very focused care"
   ]
  },
  {
   "cell_type": "code",
   "execution_count": 16,
   "metadata": {},
   "outputs": [
    {
     "data": {
      "image/png": "[encoded data removed]",
      "text/plain": [
       "<Figure size 432x288 with 1 Axes>"
      ]
     },
     "metadata": {},
     "output_type": "display_data"
    }
   ],
   "source": [
    "#lets look at boxplot of entire Age data\n",
    "sns.boxplot(y=X_train['Patient_Age'])\n",
    "plt.show()"
   ]
  },
  {
   "cell_type": "code",
   "execution_count": 17,
   "metadata": {},
   "outputs": [
    {
     "name": "stdout",
     "output_type": "stream",
     "text": [
      "34.0\n"
     ]
    }
   ],
   "source": [
    "# IQR for Age variable\n",
    "Q1 = X_train['Patient_Age'].quantile(0.25)\n",
    "Q3 = X_train['Patient_Age'].quantile(0.75)\n",
    "IQR_age = Q3 - Q1\n",
    "print(IQR_age)"
   ]
  },
  {
   "cell_type": "code",
   "execution_count": 18,
   "metadata": {},
   "outputs": [
    {
     "data": {
      "text/html": [
       "<div>\n",
       "<style scoped>\n",
       "    .dataframe tbody tr th:only-of-type {\n",
       "        vertical-align: middle;\n",
       "    }\n",
       "\n",
       "    .dataframe tbody tr th {\n",
       "        vertical-align: top;\n",
       "    }\n",
       "\n",
       "    .dataframe thead th {\n",
       "        text-align: right;\n",
       "    }\n",
       "</style>\n",
       "<table border=\"1\" class=\"dataframe\">\n",
       "  <thead>\n",
       "    <tr style=\"text-align: right;\">\n",
       "      <th></th>\n",
       "      <th>ID_Patient_Care_Situation</th>\n",
       "      <th>Diagnosed_Condition</th>\n",
       "      <th>Patient_ID</th>\n",
       "      <th>Treated_with_drugs</th>\n",
       "      <th>Patient_Age</th>\n",
       "      <th>Patient_Body_Mass_Index</th>\n",
       "      <th>Patient_Smoker</th>\n",
       "      <th>Patient_Rural_Urban</th>\n",
       "      <th>Patient_mental_condition</th>\n",
       "      <th>A</th>\n",
       "      <th>B</th>\n",
       "      <th>C</th>\n",
       "      <th>D</th>\n",
       "      <th>E</th>\n",
       "      <th>F</th>\n",
       "      <th>Z</th>\n",
       "      <th>Number_of_prev_cond</th>\n",
       "    </tr>\n",
       "  </thead>\n",
       "  <tbody>\n",
       "  </tbody>\n",
       "</table>\n",
       "</div>"
      ],
      "text/plain": [
       "Empty DataFrame\n",
       "Columns: [ID_Patient_Care_Situation, Diagnosed_Condition, Patient_ID, Treated_with_drugs, Patient_Age, Patient_Body_Mass_Index, Patient_Smoker, Patient_Rural_Urban, Patient_mental_condition, A, B, C, D, E, F, Z, Number_of_prev_cond]\n",
       "Index: []"
      ]
     },
     "execution_count": 18,
     "metadata": {},
     "output_type": "execute_result"
    }
   ],
   "source": [
    "#examining outliers on the lower side\n",
    "X_train[X_train['Patient_Age'] < (Q1 - 1.5 * IQR_age)] "
   ]
  },
  {
   "cell_type": "markdown",
   "metadata": {},
   "source": [
    "- There are no outliers on the lower side for Age variable"
   ]
  },
  {
   "cell_type": "code",
   "execution_count": 19,
   "metadata": {},
   "outputs": [
    {
     "data": {
      "text/html": [
       "<div>\n",
       "<style scoped>\n",
       "    .dataframe tbody tr th:only-of-type {\n",
       "        vertical-align: middle;\n",
       "    }\n",
       "\n",
       "    .dataframe tbody tr th {\n",
       "        vertical-align: top;\n",
       "    }\n",
       "\n",
       "    .dataframe thead th {\n",
       "        text-align: right;\n",
       "    }\n",
       "</style>\n",
       "<table border=\"1\" class=\"dataframe\">\n",
       "  <thead>\n",
       "    <tr style=\"text-align: right;\">\n",
       "      <th></th>\n",
       "      <th>ID_Patient_Care_Situation</th>\n",
       "      <th>Diagnosed_Condition</th>\n",
       "      <th>Patient_ID</th>\n",
       "      <th>Treated_with_drugs</th>\n",
       "      <th>Patient_Age</th>\n",
       "      <th>Patient_Body_Mass_Index</th>\n",
       "      <th>Patient_Smoker</th>\n",
       "      <th>Patient_Rural_Urban</th>\n",
       "      <th>Patient_mental_condition</th>\n",
       "      <th>A</th>\n",
       "      <th>B</th>\n",
       "      <th>C</th>\n",
       "      <th>D</th>\n",
       "      <th>E</th>\n",
       "      <th>F</th>\n",
       "      <th>Z</th>\n",
       "      <th>Number_of_prev_cond</th>\n",
       "    </tr>\n",
       "  </thead>\n",
       "  <tbody>\n",
       "    <tr>\n",
       "      <th>218</th>\n",
       "      <td>33008</td>\n",
       "      <td>0</td>\n",
       "      <td>12509</td>\n",
       "      <td>NaN</td>\n",
       "      <td>112</td>\n",
       "      <td>1.2925</td>\n",
       "      <td>Cannot say</td>\n",
       "      <td>RURAL</td>\n",
       "      <td>Stable</td>\n",
       "      <td>0.0</td>\n",
       "      <td>0.0</td>\n",
       "      <td>0.0</td>\n",
       "      <td>0.0</td>\n",
       "      <td>0.0</td>\n",
       "      <td>0.0</td>\n",
       "      <td>1.0</td>\n",
       "      <td>1.0</td>\n",
       "    </tr>\n",
       "    <tr>\n",
       "      <th>12782</th>\n",
       "      <td>33000</td>\n",
       "      <td>0</td>\n",
       "      <td>12501</td>\n",
       "      <td>NaN</td>\n",
       "      <td>112</td>\n",
       "      <td>1.5465</td>\n",
       "      <td>Cannot say</td>\n",
       "      <td>RURAL</td>\n",
       "      <td>Stable</td>\n",
       "      <td>0.0</td>\n",
       "      <td>0.0</td>\n",
       "      <td>0.0</td>\n",
       "      <td>0.0</td>\n",
       "      <td>0.0</td>\n",
       "      <td>0.0</td>\n",
       "      <td>1.0</td>\n",
       "      <td>1.0</td>\n",
       "    </tr>\n",
       "    <tr>\n",
       "      <th>21705</th>\n",
       "      <td>33013</td>\n",
       "      <td>0</td>\n",
       "      <td>12514</td>\n",
       "      <td>NaN</td>\n",
       "      <td>121</td>\n",
       "      <td>1.0893</td>\n",
       "      <td>Cannot say</td>\n",
       "      <td>RURAL</td>\n",
       "      <td>Stable</td>\n",
       "      <td>0.0</td>\n",
       "      <td>0.0</td>\n",
       "      <td>0.0</td>\n",
       "      <td>0.0</td>\n",
       "      <td>0.0</td>\n",
       "      <td>0.0</td>\n",
       "      <td>1.0</td>\n",
       "      <td>1.0</td>\n",
       "    </tr>\n",
       "    <tr>\n",
       "      <th>4308</th>\n",
       "      <td>33001</td>\n",
       "      <td>0</td>\n",
       "      <td>12502</td>\n",
       "      <td>NaN</td>\n",
       "      <td>114</td>\n",
       "      <td>1.6239</td>\n",
       "      <td>Cannot say</td>\n",
       "      <td>RURAL</td>\n",
       "      <td>Stable</td>\n",
       "      <td>0.0</td>\n",
       "      <td>0.0</td>\n",
       "      <td>0.0</td>\n",
       "      <td>0.0</td>\n",
       "      <td>0.0</td>\n",
       "      <td>0.0</td>\n",
       "      <td>1.0</td>\n",
       "      <td>1.0</td>\n",
       "    </tr>\n",
       "    <tr>\n",
       "      <th>2540</th>\n",
       "      <td>33014</td>\n",
       "      <td>0</td>\n",
       "      <td>12515</td>\n",
       "      <td>NaN</td>\n",
       "      <td>149</td>\n",
       "      <td>1.7784</td>\n",
       "      <td>Cannot say</td>\n",
       "      <td>RURAL</td>\n",
       "      <td>Stable</td>\n",
       "      <td>0.0</td>\n",
       "      <td>0.0</td>\n",
       "      <td>0.0</td>\n",
       "      <td>0.0</td>\n",
       "      <td>0.0</td>\n",
       "      <td>0.0</td>\n",
       "      <td>1.0</td>\n",
       "      <td>1.0</td>\n",
       "    </tr>\n",
       "    <tr>\n",
       "      <th>19123</th>\n",
       "      <td>33002</td>\n",
       "      <td>0</td>\n",
       "      <td>12503</td>\n",
       "      <td>NaN</td>\n",
       "      <td>115</td>\n",
       "      <td>1.8199</td>\n",
       "      <td>Cannot say</td>\n",
       "      <td>RURAL</td>\n",
       "      <td>Stable</td>\n",
       "      <td>0.0</td>\n",
       "      <td>0.0</td>\n",
       "      <td>0.0</td>\n",
       "      <td>0.0</td>\n",
       "      <td>0.0</td>\n",
       "      <td>0.0</td>\n",
       "      <td>1.0</td>\n",
       "      <td>1.0</td>\n",
       "    </tr>\n",
       "    <tr>\n",
       "      <th>10388</th>\n",
       "      <td>33006</td>\n",
       "      <td>0</td>\n",
       "      <td>12507</td>\n",
       "      <td>NaN</td>\n",
       "      <td>138</td>\n",
       "      <td>1.3745</td>\n",
       "      <td>Cannot say</td>\n",
       "      <td>RURAL</td>\n",
       "      <td>Stable</td>\n",
       "      <td>0.0</td>\n",
       "      <td>0.0</td>\n",
       "      <td>0.0</td>\n",
       "      <td>0.0</td>\n",
       "      <td>0.0</td>\n",
       "      <td>0.0</td>\n",
       "      <td>1.0</td>\n",
       "      <td>1.0</td>\n",
       "    </tr>\n",
       "    <tr>\n",
       "      <th>6308</th>\n",
       "      <td>33010</td>\n",
       "      <td>0</td>\n",
       "      <td>12511</td>\n",
       "      <td>NaN</td>\n",
       "      <td>142</td>\n",
       "      <td>1.5701</td>\n",
       "      <td>Cannot say</td>\n",
       "      <td>RURAL</td>\n",
       "      <td>Stable</td>\n",
       "      <td>0.0</td>\n",
       "      <td>0.0</td>\n",
       "      <td>0.0</td>\n",
       "      <td>0.0</td>\n",
       "      <td>0.0</td>\n",
       "      <td>0.0</td>\n",
       "      <td>1.0</td>\n",
       "      <td>1.0</td>\n",
       "    </tr>\n",
       "  </tbody>\n",
       "</table>\n",
       "</div>"
      ],
      "text/plain": [
       "       ID_Patient_Care_Situation  Diagnosed_Condition  Patient_ID  \\\n",
       "218                        33008                    0       12509   \n",
       "12782                      33000                    0       12501   \n",
       "21705                      33013                    0       12514   \n",
       "4308                       33001                    0       12502   \n",
       "2540                       33014                    0       12515   \n",
       "19123                      33002                    0       12503   \n",
       "10388                      33006                    0       12507   \n",
       "6308                       33010                    0       12511   \n",
       "\n",
       "      Treated_with_drugs  Patient_Age  Patient_Body_Mass_Index Patient_Smoker  \\\n",
       "218                  NaN          112                   1.2925     Cannot say   \n",
       "12782                NaN          112                   1.5465     Cannot say   \n",
       "21705                NaN          121                   1.0893     Cannot say   \n",
       "4308                 NaN          114                   1.6239     Cannot say   \n",
       "2540                 NaN          149                   1.7784     Cannot say   \n",
       "19123                NaN          115                   1.8199     Cannot say   \n",
       "10388                NaN          138                   1.3745     Cannot say   \n",
       "6308                 NaN          142                   1.5701     Cannot say   \n",
       "\n",
       "      Patient_Rural_Urban Patient_mental_condition    A    B    C    D    E  \\\n",
       "218                 RURAL                   Stable  0.0  0.0  0.0  0.0  0.0   \n",
       "12782               RURAL                   Stable  0.0  0.0  0.0  0.0  0.0   \n",
       "21705               RURAL                   Stable  0.0  0.0  0.0  0.0  0.0   \n",
       "4308                RURAL                   Stable  0.0  0.0  0.0  0.0  0.0   \n",
       "2540                RURAL                   Stable  0.0  0.0  0.0  0.0  0.0   \n",
       "19123               RURAL                   Stable  0.0  0.0  0.0  0.0  0.0   \n",
       "10388               RURAL                   Stable  0.0  0.0  0.0  0.0  0.0   \n",
       "6308                RURAL                   Stable  0.0  0.0  0.0  0.0  0.0   \n",
       "\n",
       "         F    Z  Number_of_prev_cond  \n",
       "218    0.0  1.0                  1.0  \n",
       "12782  0.0  1.0                  1.0  \n",
       "21705  0.0  1.0                  1.0  \n",
       "4308   0.0  1.0                  1.0  \n",
       "2540   0.0  1.0                  1.0  \n",
       "19123  0.0  1.0                  1.0  \n",
       "10388  0.0  1.0                  1.0  \n",
       "6308   0.0  1.0                  1.0  "
      ]
     },
     "execution_count": 19,
     "metadata": {},
     "output_type": "execute_result"
    }
   ],
   "source": [
    "Age_out = X_train[X_train['Patient_Age'] > (Q3 + 1.5 * IQR_age)] # columns with age values > (Q3 + 1.5 * IQR)\n",
    "Age_out"
   ]
  },
  {
   "cell_type": "markdown",
   "metadata": {},
   "source": [
    "On the extreme values for Age , the value ranges from 112-149..Removal of these data may have an adverse effect on info loss. Their corresponding BMI values also looks erroneous. If you disregard the above values, max age is 66 and examining the data for age = 66"
   ]
  },
  {
   "cell_type": "code",
   "execution_count": 20,
   "metadata": {},
   "outputs": [
    {
     "data": {
      "text/plain": [
       "(284, 17)"
      ]
     },
     "execution_count": 20,
     "metadata": {},
     "output_type": "execute_result"
    }
   ],
   "source": [
    "age_66 = X_train[X_train['Patient_Age'] ==66] # a sub dataframe for age = 66\n",
    "age_66.shape "
   ]
  },
  {
   "cell_type": "markdown",
   "metadata": {},
   "source": [
    "- There are 284 rows with age = 66 . We will use this age and corresponding mean BMI to impute rows of age beyond Q3_1.5*IQR_age"
   ]
  },
  {
   "cell_type": "code",
   "execution_count": 21,
   "metadata": {},
   "outputs": [
    {
     "data": {
      "text/plain": [
       "23.472638216024613"
      ]
     },
     "execution_count": 21,
     "metadata": {},
     "output_type": "execute_result"
    }
   ],
   "source": [
    "#mean BMI for age group\n",
    "age_66_meanBMI = age_66['Patient_Body_Mass_Index'].mean()\n",
    "age_66_meanBMI"
   ]
  },
  {
   "cell_type": "code",
   "execution_count": 22,
   "metadata": {},
   "outputs": [],
   "source": [
    "#assign age=66 and corresponding mean BMI to outliers\n",
    "index_age_out = list(Age_out.index)\n",
    "for index in index_age_out:\n",
    "    X_train['Patient_Age'][index] = 66\n",
    "    X_train['Patient_Body_Mass_Index'][index] = age_66_meanBMI"
   ]
  },
  {
   "cell_type": "code",
   "execution_count": 23,
   "metadata": {},
   "outputs": [
    {
     "data": {
      "text/html": [
       "<div>\n",
       "<style scoped>\n",
       "    .dataframe tbody tr th:only-of-type {\n",
       "        vertical-align: middle;\n",
       "    }\n",
       "\n",
       "    .dataframe tbody tr th {\n",
       "        vertical-align: top;\n",
       "    }\n",
       "\n",
       "    .dataframe thead th {\n",
       "        text-align: right;\n",
       "    }\n",
       "</style>\n",
       "<table border=\"1\" class=\"dataframe\">\n",
       "  <thead>\n",
       "    <tr style=\"text-align: right;\">\n",
       "      <th></th>\n",
       "      <th>ID_Patient_Care_Situation</th>\n",
       "      <th>Diagnosed_Condition</th>\n",
       "      <th>Patient_ID</th>\n",
       "      <th>Treated_with_drugs</th>\n",
       "      <th>Patient_Age</th>\n",
       "      <th>Patient_Body_Mass_Index</th>\n",
       "      <th>Patient_Smoker</th>\n",
       "      <th>Patient_Rural_Urban</th>\n",
       "      <th>Patient_mental_condition</th>\n",
       "      <th>A</th>\n",
       "      <th>B</th>\n",
       "      <th>C</th>\n",
       "      <th>D</th>\n",
       "      <th>E</th>\n",
       "      <th>F</th>\n",
       "      <th>Z</th>\n",
       "      <th>Number_of_prev_cond</th>\n",
       "    </tr>\n",
       "  </thead>\n",
       "  <tbody>\n",
       "  </tbody>\n",
       "</table>\n",
       "</div>"
      ],
      "text/plain": [
       "Empty DataFrame\n",
       "Columns: [ID_Patient_Care_Situation, Diagnosed_Condition, Patient_ID, Treated_with_drugs, Patient_Age, Patient_Body_Mass_Index, Patient_Smoker, Patient_Rural_Urban, Patient_mental_condition, A, B, C, D, E, F, Z, Number_of_prev_cond]\n",
       "Index: []"
      ]
     },
     "execution_count": 23,
     "metadata": {},
     "output_type": "execute_result"
    }
   ],
   "source": [
    "X_train[X_train['Patient_Age'] > (Q3 + 1.5 * IQR_age)]"
   ]
  },
  {
   "cell_type": "markdown",
   "metadata": {},
   "source": [
    "The extreme values on the higher side have been addressed"
   ]
  },
  {
   "cell_type": "markdown",
   "metadata": {},
   "source": [
    "**Dataprocessing (2) - Impute outlier age values to max age and corresponding BMI to mean BMI for age=66**"
   ]
  },
  {
   "cell_type": "code",
   "execution_count": 24,
   "metadata": {},
   "outputs": [],
   "source": [
    "#X_train[X_train['Patient_Age'] == 0]\n",
    "#Need to address lower values <5 ?"
   ]
  },
  {
   "cell_type": "code",
   "execution_count": 25,
   "metadata": {},
   "outputs": [
    {
     "data": {
      "text/plain": [
       "0"
      ]
     },
     "execution_count": 25,
     "metadata": {},
     "output_type": "execute_result"
    }
   ],
   "source": [
    "#looking at missing values\n",
    "X_train['Patient_Age'].isnull().sum()"
   ]
  },
  {
   "cell_type": "code",
   "execution_count": 26,
   "metadata": {},
   "outputs": [
    {
     "data": {
      "image/png": "[encoded data removed]",
      "text/plain": [
       "<Figure size 432x288 with 1 Axes>"
      ]
     },
     "metadata": {},
     "output_type": "display_data"
    }
   ],
   "source": [
    "# Looking at next numeric attribute BMI\n",
    "# boxplot for BMI\n",
    "sns.boxplot(y=X_train['Patient_Body_Mass_Index'],color='g',showmeans=True)\n",
    "plt.show()"
   ]
  },
  {
   "cell_type": "code",
   "execution_count": 27,
   "metadata": {},
   "outputs": [
    {
     "data": {
      "text/plain": [
       "count    19632.000000\n",
       "mean        23.461454\n",
       "std          3.775288\n",
       "min         17.000336\n",
       "25%         20.200412\n",
       "50%         23.392495\n",
       "75%         26.783362\n",
       "max         29.999579\n",
       "Name: Patient_Body_Mass_Index, dtype: float64"
      ]
     },
     "execution_count": 27,
     "metadata": {},
     "output_type": "execute_result"
    }
   ],
   "source": [
    "# the lower area of BMI(underweight) is from 18.5\n",
    "X_train['Patient_Body_Mass_Index'].describe()"
   ]
  },
  {
   "cell_type": "code",
   "execution_count": 28,
   "metadata": {},
   "outputs": [
    {
     "data": {
      "text/plain": [
       "0"
      ]
     },
     "execution_count": 28,
     "metadata": {},
     "output_type": "execute_result"
    }
   ],
   "source": [
    "X_train['Patient_Body_Mass_Index'].isnull().sum()"
   ]
  },
  {
   "cell_type": "markdown",
   "metadata": {},
   "source": [
    "The minimum and max values of BMI seems to be fine . There are no null values. "
   ]
  },
  {
   "cell_type": "code",
   "execution_count": 29,
   "metadata": {},
   "outputs": [
    {
     "data": {
      "image/png": "[encoded data removed]",
      "text/plain": [
       "<Figure size 432x288 with 1 Axes>"
      ]
     },
     "metadata": {},
     "output_type": "display_data"
    }
   ],
   "source": [
    "# Looking at next numeric variable \n",
    "X_train['Diagnosed_Condition'].plot.hist()\n",
    "plt.show()"
   ]
  },
  {
   "cell_type": "code",
   "execution_count": 30,
   "metadata": {},
   "outputs": [
    {
     "data": {
      "text/plain": [
       "0"
      ]
     },
     "execution_count": 30,
     "metadata": {},
     "output_type": "execute_result"
    }
   ],
   "source": [
    "X_train['Diagnosed_Condition'].isnull().sum()"
   ]
  },
  {
   "cell_type": "markdown",
   "metadata": {},
   "source": [
    "- The variable is sort of uniformly distributed having frequency similar for all the 10 buckets(minor variation for 30-40 and 40-50). There are no null values for this dataset."
   ]
  },
  {
   "cell_type": "code",
   "execution_count": 31,
   "metadata": {},
   "outputs": [
    {
     "data": {
      "text/plain": [
       "1066"
      ]
     },
     "execution_count": 31,
     "metadata": {},
     "output_type": "execute_result"
    }
   ],
   "source": [
    "# Examining the numeric variable Number_of_prev_cond\n",
    "X_train['Number_of_prev_cond'].isnull().sum()"
   ]
  },
  {
   "cell_type": "code",
   "execution_count": 32,
   "metadata": {},
   "outputs": [
    {
     "data": {
      "text/plain": [
       "count    18566.000000\n",
       "mean         1.749542\n",
       "std          0.770076\n",
       "min          1.000000\n",
       "25%          1.000000\n",
       "50%          2.000000\n",
       "75%          2.000000\n",
       "max          5.000000\n",
       "Name: Number_of_prev_cond, dtype: float64"
      ]
     },
     "execution_count": 32,
     "metadata": {},
     "output_type": "execute_result"
    }
   ],
   "source": [
    "X_train['Number_of_prev_cond'].describe()"
   ]
  },
  {
   "cell_type": "markdown",
   "metadata": {},
   "source": [
    "we will use median value of 2 to impute the missing values"
   ]
  },
  {
   "cell_type": "code",
   "execution_count": 33,
   "metadata": {},
   "outputs": [],
   "source": [
    "median_prev_cond = X_train['Number_of_prev_cond'].median()\n",
    "X_train['Number_of_prev_cond'].fillna(median_prev_cond,inplace=True)"
   ]
  },
  {
   "cell_type": "markdown",
   "metadata": {},
   "source": [
    "**Data pre-processing (3) Number of prev_cond to be imputed by median_prev-cond**"
   ]
  },
  {
   "cell_type": "code",
   "execution_count": 34,
   "metadata": {},
   "outputs": [
    {
     "data": {
      "text/plain": [
       "0"
      ]
     },
     "execution_count": 34,
     "metadata": {},
     "output_type": "execute_result"
    }
   ],
   "source": [
    "X_train['Number_of_prev_cond'].isnull().sum()"
   ]
  },
  {
   "cell_type": "markdown",
   "metadata": {},
   "source": [
    "Before moving into Categorical variables, examining the correlation between numeric variables"
   ]
  },
  {
   "cell_type": "code",
   "execution_count": 35,
   "metadata": {},
   "outputs": [
    {
     "data": {
      "text/plain": [
       "['Patient_Age',\n",
       " 'Patient_Body_Mass_Index',\n",
       " 'Diagnosed_Condition',\n",
       " 'Number_of_prev_cond']"
      ]
     },
     "execution_count": 35,
     "metadata": {},
     "output_type": "execute_result"
    }
   ],
   "source": [
    "numeric_columns"
   ]
  },
  {
   "cell_type": "code",
   "execution_count": 36,
   "metadata": {},
   "outputs": [
    {
     "data": {
      "image/png": "[encoded data removed]",
      "text/plain": [
       "<Figure size 432x288 with 2 Axes>"
      ]
     },
     "metadata": {},
     "output_type": "display_data"
    }
   ],
   "source": [
    "colormap = sns.diverging_palette(10, 220, as_cmap = True)\n",
    "sns.heatmap(X_train[numeric_columns].corr(),\n",
    "           cmap=colormap,\n",
    "           annot=True,\n",
    "           square=True)\n",
    "plt.show()"
   ]
  },
  {
   "cell_type": "markdown",
   "metadata": {},
   "source": [
    "There are no numeric attributes having a strong correlation between themselves causing interaction among attributes"
   ]
  },
  {
   "cell_type": "markdown",
   "metadata": {},
   "source": [
    "Examining the categorical attributes one by one"
   ]
  },
  {
   "cell_type": "code",
   "execution_count": 37,
   "metadata": {},
   "outputs": [
    {
     "data": {
      "text/html": [
       "<div>\n",
       "<style scoped>\n",
       "    .dataframe tbody tr th:only-of-type {\n",
       "        vertical-align: middle;\n",
       "    }\n",
       "\n",
       "    .dataframe tbody tr th {\n",
       "        vertical-align: top;\n",
       "    }\n",
       "\n",
       "    .dataframe thead th {\n",
       "        text-align: right;\n",
       "    }\n",
       "</style>\n",
       "<table border=\"1\" class=\"dataframe\">\n",
       "  <thead>\n",
       "    <tr style=\"text-align: right;\">\n",
       "      <th></th>\n",
       "      <th>ID_Patient_Care_Situation</th>\n",
       "      <th>Diagnosed_Condition</th>\n",
       "      <th>Patient_ID</th>\n",
       "      <th>Treated_with_drugs</th>\n",
       "      <th>Patient_Age</th>\n",
       "      <th>Patient_Body_Mass_Index</th>\n",
       "      <th>Patient_Smoker</th>\n",
       "      <th>Patient_Rural_Urban</th>\n",
       "      <th>Patient_mental_condition</th>\n",
       "      <th>A</th>\n",
       "      <th>B</th>\n",
       "      <th>C</th>\n",
       "      <th>D</th>\n",
       "      <th>E</th>\n",
       "      <th>F</th>\n",
       "      <th>Z</th>\n",
       "      <th>Number_of_prev_cond</th>\n",
       "    </tr>\n",
       "  </thead>\n",
       "  <tbody>\n",
       "    <tr>\n",
       "      <th>8098</th>\n",
       "      <td>23837</td>\n",
       "      <td>13</td>\n",
       "      <td>8589</td>\n",
       "      <td>DX3 DX5</td>\n",
       "      <td>57</td>\n",
       "      <td>28.077127</td>\n",
       "      <td>YES</td>\n",
       "      <td>RURAL</td>\n",
       "      <td>Stable</td>\n",
       "      <td>1.0</td>\n",
       "      <td>0.0</td>\n",
       "      <td>0.0</td>\n",
       "      <td>0.0</td>\n",
       "      <td>0.0</td>\n",
       "      <td>1.0</td>\n",
       "      <td>0.0</td>\n",
       "      <td>2.0</td>\n",
       "    </tr>\n",
       "    <tr>\n",
       "      <th>21211</th>\n",
       "      <td>6756</td>\n",
       "      <td>36</td>\n",
       "      <td>5369</td>\n",
       "      <td>DX2</td>\n",
       "      <td>2</td>\n",
       "      <td>19.784911</td>\n",
       "      <td>NO</td>\n",
       "      <td>RURAL</td>\n",
       "      <td>Stable</td>\n",
       "      <td>1.0</td>\n",
       "      <td>0.0</td>\n",
       "      <td>0.0</td>\n",
       "      <td>0.0</td>\n",
       "      <td>1.0</td>\n",
       "      <td>0.0</td>\n",
       "      <td>0.0</td>\n",
       "      <td>2.0</td>\n",
       "    </tr>\n",
       "    <tr>\n",
       "      <th>12024</th>\n",
       "      <td>8476</td>\n",
       "      <td>16</td>\n",
       "      <td>557</td>\n",
       "      <td>DX1 DX5</td>\n",
       "      <td>0</td>\n",
       "      <td>21.440244</td>\n",
       "      <td>NO</td>\n",
       "      <td>RURAL</td>\n",
       "      <td>Stable</td>\n",
       "      <td>1.0</td>\n",
       "      <td>0.0</td>\n",
       "      <td>0.0</td>\n",
       "      <td>0.0</td>\n",
       "      <td>1.0</td>\n",
       "      <td>0.0</td>\n",
       "      <td>0.0</td>\n",
       "      <td>2.0</td>\n",
       "    </tr>\n",
       "  </tbody>\n",
       "</table>\n",
       "</div>"
      ],
      "text/plain": [
       "       ID_Patient_Care_Situation  Diagnosed_Condition  Patient_ID  \\\n",
       "8098                       23837                   13        8589   \n",
       "21211                       6756                   36        5369   \n",
       "12024                       8476                   16         557   \n",
       "\n",
       "      Treated_with_drugs  Patient_Age  Patient_Body_Mass_Index Patient_Smoker  \\\n",
       "8098            DX3 DX5            57                28.077127            YES   \n",
       "21211               DX2             2                19.784911             NO   \n",
       "12024           DX1 DX5             0                21.440244             NO   \n",
       "\n",
       "      Patient_Rural_Urban Patient_mental_condition    A    B    C    D    E  \\\n",
       "8098                RURAL                   Stable  1.0  0.0  0.0  0.0  0.0   \n",
       "21211               RURAL                   Stable  1.0  0.0  0.0  0.0  1.0   \n",
       "12024               RURAL                   Stable  1.0  0.0  0.0  0.0  1.0   \n",
       "\n",
       "         F    Z  Number_of_prev_cond  \n",
       "8098   1.0  0.0                  2.0  \n",
       "21211  0.0  0.0                  2.0  \n",
       "12024  0.0  0.0                  2.0  "
      ]
     },
     "execution_count": 37,
     "metadata": {},
     "output_type": "execute_result"
    }
   ],
   "source": [
    "#checking for missing values in cat columns\n",
    "X_train.head(3)"
   ]
  },
  {
   "cell_type": "code",
   "execution_count": 38,
   "metadata": {},
   "outputs": [
    {
     "data": {
      "text/plain": [
       "ID_Patient_Care_Situation       0\n",
       "Diagnosed_Condition             0\n",
       "Patient_ID                      0\n",
       "Treated_with_drugs              8\n",
       "Patient_Age                     0\n",
       "Patient_Body_Mass_Index         0\n",
       "Patient_Smoker                  0\n",
       "Patient_Rural_Urban             0\n",
       "Patient_mental_condition        0\n",
       "A                            1066\n",
       "B                            1066\n",
       "C                            1066\n",
       "D                            1066\n",
       "E                            1066\n",
       "F                            1066\n",
       "Z                            1066\n",
       "Number_of_prev_cond             0\n",
       "dtype: int64"
      ]
     },
     "execution_count": 38,
     "metadata": {},
     "output_type": "execute_result"
    }
   ],
   "source": [
    "X_train.isnull().sum()"
   ]
  },
  {
   "cell_type": "code",
   "execution_count": 39,
   "metadata": {},
   "outputs": [
    {
     "data": {
      "text/plain": [
       "DX6                     7303\n",
       "DX2                     1641\n",
       "DX5                     1615\n",
       "DX1                     1567\n",
       "DX3                     1562\n",
       "DX4                     1520\n",
       "DX1 DX2                  389\n",
       "DX3 DX4                  382\n",
       "DX4 DX5                  370\n",
       "DX3 DX5                  356\n",
       "DX1 DX3                  352\n",
       "DX2 DX5                  352\n",
       "DX2 DX4                  340\n",
       "DX1 DX5                  339\n",
       "DX1 DX4                  333\n",
       "DX2 DX3                  329\n",
       "DX1 DX2 DX5               88\n",
       "DX1 DX3 DX5               85\n",
       "DX1 DX2 DX4               85\n",
       "DX1 DX2 DX3               84\n",
       "DX3 DX4 DX5               79\n",
       "DX2 DX3 DX5               79\n",
       "DX2 DX4 DX5               75\n",
       "DX2 DX3 DX4               72\n",
       "DX1 DX4 DX5               70\n",
       "DX1 DX3 DX4               65\n",
       "DX1 DX3 DX4 DX5           21\n",
       "DX2 DX3 DX4 DX5           20\n",
       "DX1 DX2 DX3 DX4           19\n",
       "DX1 DX2 DX4 DX5           16\n",
       "DX1 DX2 DX3 DX5           13\n",
       "DX1 DX2 DX3 DX4 DX5        3\n",
       "Name: Treated_with_drugs, dtype: int64"
      ]
     },
     "execution_count": 39,
     "metadata": {},
     "output_type": "execute_result"
    }
   ],
   "source": [
    "# looking at Treated_with_drugs \n",
    "X_train['Treated_with_drugs'].value_counts()"
   ]
  },
  {
   "cell_type": "markdown",
   "metadata": {},
   "source": [
    "There are 6 types of drugs being admistered to the patients,viz, DX1 DX2 DX3 DX4 DX5 DX6\n",
    "Most of the patients are being admnistered DX6 alone , while some of the patients get combination of drugs"
   ]
  },
  {
   "cell_type": "code",
   "execution_count": 40,
   "metadata": {},
   "outputs": [
    {
     "data": {
      "text/plain": [
       "'DX6'"
      ]
     },
     "execution_count": 40,
     "metadata": {},
     "output_type": "execute_result"
    }
   ],
   "source": [
    "mode_drugs= X_train['Treated_with_drugs'].mode()[0]# mode value for treated with drugs\n",
    "mode_drugs"
   ]
  },
  {
   "cell_type": "code",
   "execution_count": 41,
   "metadata": {},
   "outputs": [],
   "source": [
    " X_train['Treated_with_drugs'].fillna(mode_drugs,inplace=True) #impute with mode values"
   ]
  },
  {
   "cell_type": "code",
   "execution_count": 42,
   "metadata": {},
   "outputs": [
    {
     "data": {
      "text/plain": [
       "0"
      ]
     },
     "execution_count": 42,
     "metadata": {},
     "output_type": "execute_result"
    }
   ],
   "source": [
    " X_train['Treated_with_drugs'].isnull().sum()"
   ]
  },
  {
   "cell_type": "markdown",
   "metadata": {},
   "source": [
    "No null values for  X_train['Treated_with_drugs']..\n",
    "\n",
    "**Data preprocessing(3) ---impute  ['Treated_with_drugs'] with mode_drugs**"
   ]
  },
  {
   "cell_type": "markdown",
   "metadata": {},
   "source": [
    "There are 1066 missing values in the columns A-Z which is linked to number of prev condition"
   ]
  },
  {
   "cell_type": "code",
   "execution_count": 43,
   "metadata": {},
   "outputs": [],
   "source": [
    "# getting the index values of missing values for A to Z of prev condition\n",
    "A_missing_index = set(X_train[X_train.A.isnull()].index)\n",
    "B_missing_index = set(X_train[X_train.B.isnull()].index)\n",
    "C_missing_index = set(X_train[X_train.C.isnull()].index)\n",
    "D_missing_index = set(X_train[X_train.D.isnull()].index)\n",
    "E_missing_index = set(X_train[X_train.E.isnull()].index)\n",
    "F_missing_index = set(X_train[X_train.F.isnull()].index)\n",
    "Z_missing_index = set(X_train[X_train.Z.isnull()].index)\n",
    "u =set.intersection(A_missing_index,B_missing_index,C_missing_index,D_missing_index,E_missing_index,F_missing_index,Z_missing_index)"
   ]
  },
  {
   "cell_type": "code",
   "execution_count": 44,
   "metadata": {},
   "outputs": [
    {
     "data": {
      "text/plain": [
       "1066"
      ]
     },
     "execution_count": 44,
     "metadata": {},
     "output_type": "execute_result"
    }
   ],
   "source": [
    "# length of intersection of all missing values from A ,B , C, D , E,F,Z \n",
    "len(u)"
   ]
  },
  {
   "cell_type": "markdown",
   "metadata": {},
   "source": [
    "We see that len of index is equal to missing values in all columns from A to Z. Since all attributes A to Z are missing it is very difficult to impute the missing values"
   ]
  },
  {
   "cell_type": "code",
   "execution_count": 45,
   "metadata": {},
   "outputs": [],
   "source": [
    "u = list(u)\n",
    "prev_count_missing_val = []\n",
    "for index in u:\n",
    "    prev_count_missing_val.append(X_train['Number_of_prev_cond'][index])"
   ]
  },
  {
   "cell_type": "code",
   "execution_count": 46,
   "metadata": {},
   "outputs": [
    {
     "data": {
      "text/plain": [
       "2.0    1066\n",
       "dtype: int64"
      ]
     },
     "execution_count": 46,
     "metadata": {},
     "output_type": "execute_result"
    }
   ],
   "source": [
    "prev_count_missing_val = pd.Series(prev_count_missing_val)\n",
    "prev_count_missing_val.value_counts()"
   ]
  },
  {
   "cell_type": "markdown",
   "metadata": {},
   "source": [
    "we see that all missing values for prev_condition A-Z has 'Number of prev cond' as 2.0. Lets see if any pattren is there corresponsing to this value for imputing"
   ]
  },
  {
   "cell_type": "code",
   "execution_count": 47,
   "metadata": {},
   "outputs": [],
   "source": [
    "#create a sub dataframe where values of 'Number_of_prev_cond' is 2.0\n",
    "prev_cond_2 = X_train[X_train['Number_of_prev_cond']==2.0]"
   ]
  },
  {
   "cell_type": "code",
   "execution_count": 48,
   "metadata": {},
   "outputs": [
    {
     "data": {
      "text/plain": [
       "1.0    7146\n",
       "0.0     513\n",
       "Name: A, dtype: int64"
      ]
     },
     "metadata": {},
     "output_type": "display_data"
    },
    {
     "data": {
      "text/plain": [
       "0.0    6395\n",
       "1.0    1264\n",
       "Name: B, dtype: int64"
      ]
     },
     "metadata": {},
     "output_type": "display_data"
    },
    {
     "data": {
      "text/plain": [
       "0.0    6056\n",
       "1.0    1603\n",
       "Name: C, dtype: int64"
      ]
     },
     "metadata": {},
     "output_type": "display_data"
    },
    {
     "data": {
      "text/plain": [
       "0.0    7017\n",
       "1.0     642\n",
       "Name: D, dtype: int64"
      ]
     },
     "metadata": {},
     "output_type": "display_data"
    },
    {
     "data": {
      "text/plain": [
       "1.0    4237\n",
       "0.0    3422\n",
       "Name: E, dtype: int64"
      ]
     },
     "metadata": {},
     "output_type": "display_data"
    },
    {
     "data": {
      "text/plain": [
       "0.0    7233\n",
       "1.0     426\n",
       "Name: F, dtype: int64"
      ]
     },
     "metadata": {},
     "output_type": "display_data"
    },
    {
     "data": {
      "text/plain": [
       "0.0    7659\n",
       "Name: Z, dtype: int64"
      ]
     },
     "metadata": {},
     "output_type": "display_data"
    }
   ],
   "source": [
    "#looking at how columns A-Z are distributed for sub dataframe\n",
    "col_list = ['A','B','C','D','E','F','Z']\n",
    "for col in col_list:\n",
    "    display(prev_cond_2[col].value_counts())"
   ]
  },
  {
   "cell_type": "markdown",
   "metadata": {},
   "source": [
    "- if we look at the distribution A and E (1 value_counts of A and E are max)are mostly filled column for 'Number_of_prev_cond'=2. we can use this a impute value\n",
    "\n",
    "- so we fill all missing 1066 rows with A=1 and E=1 and rest B,C,D,F,Z =0"
   ]
  },
  {
   "cell_type": "code",
   "execution_count": 49,
   "metadata": {},
   "outputs": [],
   "source": [
    "#imputing as per above condition\n",
    "X_train['A'].fillna(1.0,inplace=True)\n",
    "X_train['B'].fillna(0,inplace=True)\n",
    "X_train['C'].fillna(0,inplace=True)\n",
    "X_train['D'].fillna(0,inplace=True)\n",
    "X_train['E'].fillna(1.0,inplace=True)\n",
    "X_train['F'].fillna(0,inplace=True)\n",
    "X_train['Z'].fillna(0,inplace=True)"
   ]
  },
  {
   "cell_type": "code",
   "execution_count": 50,
   "metadata": {},
   "outputs": [
    {
     "data": {
      "text/plain": [
       "ID_Patient_Care_Situation    0\n",
       "Diagnosed_Condition          0\n",
       "Patient_ID                   0\n",
       "Treated_with_drugs           0\n",
       "Patient_Age                  0\n",
       "Patient_Body_Mass_Index      0\n",
       "Patient_Smoker               0\n",
       "Patient_Rural_Urban          0\n",
       "Patient_mental_condition     0\n",
       "A                            0\n",
       "B                            0\n",
       "C                            0\n",
       "D                            0\n",
       "E                            0\n",
       "F                            0\n",
       "Z                            0\n",
       "Number_of_prev_cond          0\n",
       "dtype: int64"
      ]
     },
     "execution_count": 50,
     "metadata": {},
     "output_type": "execute_result"
    }
   ],
   "source": [
    "X_train.isnull().sum()"
   ]
  },
  {
   "cell_type": "markdown",
   "metadata": {},
   "source": [
    "- There are no missing values in X_train\n",
    "\n",
    "**Data pre-processing(4) - Impute columns A-Z**"
   ]
  },
  {
   "cell_type": "markdown",
   "metadata": {},
   "source": [
    "- As there are no more missing values in train data, we shall carry out EDA of categorical columns"
   ]
  },
  {
   "cell_type": "code",
   "execution_count": 51,
   "metadata": {},
   "outputs": [],
   "source": [
    "#segregating cat columns from total columns\n",
    "total_columns = list(X_train.columns)\n",
    "for col in numeric_columns:\n",
    "    total_columns.remove(col) #remove numeric cols already defined \n",
    "cat_columns = total_columns # assign truncated total columns to ca-columns"
   ]
  },
  {
   "cell_type": "code",
   "execution_count": 52,
   "metadata": {},
   "outputs": [
    {
     "name": "stdout",
     "output_type": "stream",
     "text": [
      "No of unique categories in ID_Patient_Care_Situation    19632\n",
      "No of unique categories in Patient_ID    9930\n",
      "No of unique categories in Treated_with_drugs    32\n",
      "No of unique categories in Patient_Smoker    3\n",
      "No of unique categories in Patient_Rural_Urban    2\n",
      "No of unique categories in Patient_mental_condition    1\n",
      "No of unique categories in A    2\n",
      "No of unique categories in B    2\n",
      "No of unique categories in C    2\n",
      "No of unique categories in D    2\n",
      "No of unique categories in E    2\n",
      "No of unique categories in F    2\n",
      "No of unique categories in Z    2\n"
     ]
    }
   ],
   "source": [
    "# checking no of unique vallues in each cat attribute\n",
    "for col in cat_columns:\n",
    "    print('No of unique categories in',col,'  ',X_train[col].nunique())"
   ]
  },
  {
   "cell_type": "markdown",
   "metadata": {},
   "source": [
    "- The ID_patient_care_situation corresponds to unique value in each row of X_train. \n",
    "- The patient ID gets repeated . So it is possible that patient gets treatment (idscharged and readmitted) multiple times \n",
    "- Patient_mental_condition has only one category . hence we can delete the column as it can't provide any valuable info\n",
    "- Patient Rural/Urban as well as prev_cond A-Z is binary"
   ]
  },
  {
   "cell_type": "code",
   "execution_count": 53,
   "metadata": {},
   "outputs": [
    {
     "data": {
      "text/plain": [
       "Stable    19632\n",
       "Name: Patient_mental_condition, dtype: int64"
      ]
     },
     "execution_count": 53,
     "metadata": {},
     "output_type": "execute_result"
    }
   ],
   "source": [
    "X_train.Patient_mental_condition.value_counts()"
   ]
  },
  {
   "cell_type": "code",
   "execution_count": 54,
   "metadata": {},
   "outputs": [],
   "source": [
    "#dropping Patient_mental_condition column\n",
    "X_train.drop('Patient_mental_condition',axis=1,inplace=True)"
   ]
  },
  {
   "cell_type": "markdown",
   "metadata": {},
   "source": [
    "**Note : Data preprocessing(6)-Drop 'Patient_mental_condition'**"
   ]
  },
  {
   "cell_type": "code",
   "execution_count": 55,
   "metadata": {},
   "outputs": [
    {
     "data": {
      "text/plain": [
       "array(['DX3 DX5 ', 'DX2 ', 'DX1 DX5 ', 'DX2 DX3 ', 'DX3 DX4 ', 'DX6',\n",
       "       'DX3 ', 'DX1 ', 'DX2 DX4 ', 'DX1 DX4 DX5 ', 'DX4 ', 'DX1 DX3 ',\n",
       "       'DX2 DX5 ', 'DX1 DX2 DX3 ', 'DX5 ', 'DX1 DX2 ', 'DX4 DX5 ',\n",
       "       'DX1 DX4 ', 'DX1 DX2 DX3 DX5 ', 'DX2 DX4 DX5 ', 'DX1 DX3 DX5 ',\n",
       "       'DX1 DX3 DX4 ', 'DX2 DX3 DX4 ', 'DX1 DX3 DX4 DX5 ', 'DX1 DX2 DX5 ',\n",
       "       'DX1 DX2 DX3 DX4 ', 'DX2 DX3 DX4 DX5 ', 'DX2 DX3 DX5 ',\n",
       "       'DX3 DX4 DX5 ', 'DX1 DX2 DX4 ', 'DX1 DX2 DX4 DX5 ',\n",
       "       'DX1 DX2 DX3 DX4 DX5 '], dtype=object)"
      ]
     },
     "execution_count": 55,
     "metadata": {},
     "output_type": "execute_result"
    }
   ],
   "source": [
    "# looking at distribution of treated_with_drugs\n",
    "X_train['Treated_with_drugs'].unique()"
   ]
  },
  {
   "cell_type": "markdown",
   "metadata": {},
   "source": [
    "- We can split the treated with columns similar to one hot encoding as the column is combination of drugs"
   ]
  },
  {
   "cell_type": "code",
   "execution_count": 56,
   "metadata": {},
   "outputs": [
    {
     "data": {
      "text/html": [
       "<div>\n",
       "<style scoped>\n",
       "    .dataframe tbody tr th:only-of-type {\n",
       "        vertical-align: middle;\n",
       "    }\n",
       "\n",
       "    .dataframe tbody tr th {\n",
       "        vertical-align: top;\n",
       "    }\n",
       "\n",
       "    .dataframe thead th {\n",
       "        text-align: right;\n",
       "    }\n",
       "</style>\n",
       "<table border=\"1\" class=\"dataframe\">\n",
       "  <thead>\n",
       "    <tr style=\"text-align: right;\">\n",
       "      <th></th>\n",
       "      <th>DX1</th>\n",
       "      <th>DX2</th>\n",
       "      <th>DX3</th>\n",
       "      <th>DX4</th>\n",
       "      <th>DX5</th>\n",
       "      <th>DX6</th>\n",
       "    </tr>\n",
       "  </thead>\n",
       "  <tbody>\n",
       "    <tr>\n",
       "      <th>8098</th>\n",
       "      <td>0</td>\n",
       "      <td>0</td>\n",
       "      <td>1</td>\n",
       "      <td>0</td>\n",
       "      <td>1</td>\n",
       "      <td>0</td>\n",
       "    </tr>\n",
       "    <tr>\n",
       "      <th>21211</th>\n",
       "      <td>0</td>\n",
       "      <td>1</td>\n",
       "      <td>0</td>\n",
       "      <td>0</td>\n",
       "      <td>0</td>\n",
       "      <td>0</td>\n",
       "    </tr>\n",
       "    <tr>\n",
       "      <th>12024</th>\n",
       "      <td>1</td>\n",
       "      <td>0</td>\n",
       "      <td>0</td>\n",
       "      <td>0</td>\n",
       "      <td>1</td>\n",
       "      <td>0</td>\n",
       "    </tr>\n",
       "    <tr>\n",
       "      <th>16529</th>\n",
       "      <td>0</td>\n",
       "      <td>0</td>\n",
       "      <td>1</td>\n",
       "      <td>0</td>\n",
       "      <td>1</td>\n",
       "      <td>0</td>\n",
       "    </tr>\n",
       "    <tr>\n",
       "      <th>4344</th>\n",
       "      <td>0</td>\n",
       "      <td>1</td>\n",
       "      <td>1</td>\n",
       "      <td>0</td>\n",
       "      <td>0</td>\n",
       "      <td>0</td>\n",
       "    </tr>\n",
       "  </tbody>\n",
       "</table>\n",
       "</div>"
      ],
      "text/plain": [
       "       DX1  DX2  DX3  DX4  DX5  DX6\n",
       "8098     0    0    1    0    1    0\n",
       "21211    0    1    0    0    0    0\n",
       "12024    1    0    0    0    1    0\n",
       "16529    0    0    1    0    1    0\n",
       "4344     0    1    1    0    0    0"
      ]
     },
     "execution_count": 56,
     "metadata": {},
     "output_type": "execute_result"
    }
   ],
   "source": [
    "drugs = X_train['Treated_with_drugs'].str.get_dummies(sep=' ')\n",
    "drugs.head()"
   ]
  },
  {
   "cell_type": "code",
   "execution_count": 57,
   "metadata": {},
   "outputs": [
    {
     "data": {
      "text/html": [
       "<div>\n",
       "<style scoped>\n",
       "    .dataframe tbody tr th:only-of-type {\n",
       "        vertical-align: middle;\n",
       "    }\n",
       "\n",
       "    .dataframe tbody tr th {\n",
       "        vertical-align: top;\n",
       "    }\n",
       "\n",
       "    .dataframe thead th {\n",
       "        text-align: right;\n",
       "    }\n",
       "</style>\n",
       "<table border=\"1\" class=\"dataframe\">\n",
       "  <thead>\n",
       "    <tr style=\"text-align: right;\">\n",
       "      <th></th>\n",
       "      <th>ID_Patient_Care_Situation</th>\n",
       "      <th>Diagnosed_Condition</th>\n",
       "      <th>Patient_ID</th>\n",
       "      <th>Treated_with_drugs</th>\n",
       "      <th>Patient_Age</th>\n",
       "      <th>Patient_Body_Mass_Index</th>\n",
       "      <th>Patient_Smoker</th>\n",
       "      <th>Patient_Rural_Urban</th>\n",
       "      <th>A</th>\n",
       "      <th>B</th>\n",
       "      <th>...</th>\n",
       "      <th>E</th>\n",
       "      <th>F</th>\n",
       "      <th>Z</th>\n",
       "      <th>Number_of_prev_cond</th>\n",
       "      <th>DX1</th>\n",
       "      <th>DX2</th>\n",
       "      <th>DX3</th>\n",
       "      <th>DX4</th>\n",
       "      <th>DX5</th>\n",
       "      <th>DX6</th>\n",
       "    </tr>\n",
       "  </thead>\n",
       "  <tbody>\n",
       "    <tr>\n",
       "      <th>8098</th>\n",
       "      <td>23837</td>\n",
       "      <td>13</td>\n",
       "      <td>8589</td>\n",
       "      <td>DX3 DX5</td>\n",
       "      <td>57</td>\n",
       "      <td>28.077127</td>\n",
       "      <td>YES</td>\n",
       "      <td>RURAL</td>\n",
       "      <td>1.0</td>\n",
       "      <td>0.0</td>\n",
       "      <td>...</td>\n",
       "      <td>0.0</td>\n",
       "      <td>1.0</td>\n",
       "      <td>0.0</td>\n",
       "      <td>2.0</td>\n",
       "      <td>0</td>\n",
       "      <td>0</td>\n",
       "      <td>1</td>\n",
       "      <td>0</td>\n",
       "      <td>1</td>\n",
       "      <td>0</td>\n",
       "    </tr>\n",
       "    <tr>\n",
       "      <th>21211</th>\n",
       "      <td>6756</td>\n",
       "      <td>36</td>\n",
       "      <td>5369</td>\n",
       "      <td>DX2</td>\n",
       "      <td>2</td>\n",
       "      <td>19.784911</td>\n",
       "      <td>NO</td>\n",
       "      <td>RURAL</td>\n",
       "      <td>1.0</td>\n",
       "      <td>0.0</td>\n",
       "      <td>...</td>\n",
       "      <td>1.0</td>\n",
       "      <td>0.0</td>\n",
       "      <td>0.0</td>\n",
       "      <td>2.0</td>\n",
       "      <td>0</td>\n",
       "      <td>1</td>\n",
       "      <td>0</td>\n",
       "      <td>0</td>\n",
       "      <td>0</td>\n",
       "      <td>0</td>\n",
       "    </tr>\n",
       "    <tr>\n",
       "      <th>12024</th>\n",
       "      <td>8476</td>\n",
       "      <td>16</td>\n",
       "      <td>557</td>\n",
       "      <td>DX1 DX5</td>\n",
       "      <td>0</td>\n",
       "      <td>21.440244</td>\n",
       "      <td>NO</td>\n",
       "      <td>RURAL</td>\n",
       "      <td>1.0</td>\n",
       "      <td>0.0</td>\n",
       "      <td>...</td>\n",
       "      <td>1.0</td>\n",
       "      <td>0.0</td>\n",
       "      <td>0.0</td>\n",
       "      <td>2.0</td>\n",
       "      <td>1</td>\n",
       "      <td>0</td>\n",
       "      <td>0</td>\n",
       "      <td>0</td>\n",
       "      <td>1</td>\n",
       "      <td>0</td>\n",
       "    </tr>\n",
       "  </tbody>\n",
       "</table>\n",
       "<p>3 rows × 22 columns</p>\n",
       "</div>"
      ],
      "text/plain": [
       "       ID_Patient_Care_Situation  Diagnosed_Condition  Patient_ID  \\\n",
       "8098                       23837                   13        8589   \n",
       "21211                       6756                   36        5369   \n",
       "12024                       8476                   16         557   \n",
       "\n",
       "      Treated_with_drugs  Patient_Age  Patient_Body_Mass_Index Patient_Smoker  \\\n",
       "8098            DX3 DX5            57                28.077127            YES   \n",
       "21211               DX2             2                19.784911             NO   \n",
       "12024           DX1 DX5             0                21.440244             NO   \n",
       "\n",
       "      Patient_Rural_Urban    A    B  ...    E    F    Z  Number_of_prev_cond  \\\n",
       "8098                RURAL  1.0  0.0  ...  0.0  1.0  0.0                  2.0   \n",
       "21211               RURAL  1.0  0.0  ...  1.0  0.0  0.0                  2.0   \n",
       "12024               RURAL  1.0  0.0  ...  1.0  0.0  0.0                  2.0   \n",
       "\n",
       "       DX1  DX2  DX3  DX4  DX5  DX6  \n",
       "8098     0    0    1    0    1    0  \n",
       "21211    0    1    0    0    0    0  \n",
       "12024    1    0    0    0    1    0  \n",
       "\n",
       "[3 rows x 22 columns]"
      ]
     },
     "execution_count": 57,
     "metadata": {},
     "output_type": "execute_result"
    }
   ],
   "source": [
    "X_train = pd.concat([X_train,drugs],axis=1)\n",
    "X_train.head(3)"
   ]
  },
  {
   "cell_type": "code",
   "execution_count": 58,
   "metadata": {},
   "outputs": [],
   "source": [
    "# we can drop Treated_with_drugs column\n",
    "X_train.drop('Treated_with_drugs',axis=1,inplace=True)"
   ]
  },
  {
   "cell_type": "markdown",
   "metadata": {},
   "source": [
    "**Note: Data preprocessing - create dummies columns and drop orginal column for 'Treated_with_drugs'**"
   ]
  },
  {
   "cell_type": "code",
   "execution_count": 59,
   "metadata": {},
   "outputs": [
    {
     "data": {
      "text/plain": [
       "NO            11254\n",
       "YES            8370\n",
       "Cannot say        8\n",
       "Name: Patient_Smoker, dtype: int64"
      ]
     },
     "execution_count": 59,
     "metadata": {},
     "output_type": "execute_result"
    }
   ],
   "source": [
    "# examining the 'Patient_smoker' column\n",
    "X_train['Patient_Smoker'].value_counts()"
   ]
  },
  {
   "cell_type": "markdown",
   "metadata": {},
   "source": [
    "- we have a category 'cannot say' but with very low count. we can reduce the attribute to binary column\n",
    "\n",
    "- we will use mode of the column , viz, NO to replace the 'cannot say' category"
   ]
  },
  {
   "cell_type": "code",
   "execution_count": 60,
   "metadata": {},
   "outputs": [],
   "source": [
    "X_train['Patient_Smoker'] = X_train['Patient_Smoker'].replace({'Cannot say':'NO'})"
   ]
  },
  {
   "cell_type": "markdown",
   "metadata": {},
   "source": [
    "**Date pre-processing replace 'cannot say' in smoker to NO**"
   ]
  },
  {
   "cell_type": "code",
   "execution_count": 61,
   "metadata": {},
   "outputs": [
    {
     "data": {
      "text/plain": [
       "NO     11262\n",
       "YES     8370\n",
       "Name: Patient_Smoker, dtype: int64"
      ]
     },
     "execution_count": 61,
     "metadata": {},
     "output_type": "execute_result"
    }
   ],
   "source": [
    "X_train['Patient_Smoker'].value_counts()"
   ]
  },
  {
   "cell_type": "code",
   "execution_count": 62,
   "metadata": {},
   "outputs": [
    {
     "data": {
      "image/png": "[encoded data removed]",
      "text/plain": [
       "<Figure size 432x288 with 1 Axes>"
      ]
     },
     "metadata": {},
     "output_type": "display_data"
    }
   ],
   "source": [
    "# examining the data distribution of smoker column\n",
    "sns.countplot(X_train['Patient_Smoker'],hue=y_train)\n",
    "plt.show()"
   ]
  },
  {
   "cell_type": "markdown",
   "metadata": {},
   "source": [
    "- Number smokers who have survuved and not survived are almost same count\n",
    "\n",
    "- It is seen that % of Non smokers who have survived compared to Not survived is significant. \n",
    "\n",
    "- smoking as expected could be a factor affecting probability of survival"
   ]
  },
  {
   "cell_type": "code",
   "execution_count": 63,
   "metadata": {},
   "outputs": [
    {
     "data": {
      "text/plain": [
       "RURAL    13753\n",
       "URBAN     5879\n",
       "Name: Patient_Rural_Urban, dtype: int64"
      ]
     },
     "execution_count": 63,
     "metadata": {},
     "output_type": "execute_result"
    }
   ],
   "source": [
    "# examining the rural/urban distribution\n",
    "X_train['Patient_Rural_Urban'].value_counts()"
   ]
  },
  {
   "cell_type": "code",
   "execution_count": 64,
   "metadata": {},
   "outputs": [
    {
     "data": {
      "image/png": "[encoded data removed]",
      "text/plain": [
       "<Figure size 432x288 with 1 Axes>"
      ]
     },
     "metadata": {},
     "output_type": "display_data"
    }
   ],
   "source": [
    "sns.countplot(X_train['Patient_Rural_Urban'],hue=y_train)\n",
    "plt.show()"
   ]
  },
  {
   "cell_type": "markdown",
   "metadata": {},
   "source": [
    "- The % patients who have survived from Rural background is higher\n",
    "- The count of patients who have survived and Not Survived from Urban areas are more or less same(Survived is marginally higher)"
   ]
  },
  {
   "cell_type": "markdown",
   "metadata": {},
   "source": [
    "Lets have a look whether our hypothesis of Smoker and Urban areas adversely affecting probability of survival by a chi-square hypothesis test"
   ]
  },
  {
   "cell_type": "markdown",
   "metadata": {},
   "source": [
    "#### CHI SQUARE HYPOTHESIS TEST FOR INDEPENDENCE"
   ]
  },
  {
   "cell_type": "code",
   "execution_count": 65,
   "metadata": {},
   "outputs": [
    {
     "data": {
      "text/html": [
       "<div>\n",
       "<style scoped>\n",
       "    .dataframe tbody tr th:only-of-type {\n",
       "        vertical-align: middle;\n",
       "    }\n",
       "\n",
       "    .dataframe tbody tr th {\n",
       "        vertical-align: top;\n",
       "    }\n",
       "\n",
       "    .dataframe thead th {\n",
       "        text-align: right;\n",
       "    }\n",
       "</style>\n",
       "<table border=\"1\" class=\"dataframe\">\n",
       "  <thead>\n",
       "    <tr style=\"text-align: right;\">\n",
       "      <th>Survived_1_year</th>\n",
       "      <th>0</th>\n",
       "      <th>1</th>\n",
       "    </tr>\n",
       "    <tr>\n",
       "      <th>Patient_Smoker</th>\n",
       "      <th></th>\n",
       "      <th></th>\n",
       "    </tr>\n",
       "  </thead>\n",
       "  <tbody>\n",
       "    <tr>\n",
       "      <th>NO</th>\n",
       "      <td>2945</td>\n",
       "      <td>8317</td>\n",
       "    </tr>\n",
       "    <tr>\n",
       "      <th>YES</th>\n",
       "      <td>4275</td>\n",
       "      <td>4095</td>\n",
       "    </tr>\n",
       "  </tbody>\n",
       "</table>\n",
       "</div>"
      ],
      "text/plain": [
       "Survived_1_year     0     1\n",
       "Patient_Smoker             \n",
       "NO               2945  8317\n",
       "YES              4275  4095"
      ]
     },
     "execution_count": 65,
     "metadata": {},
     "output_type": "execute_result"
    }
   ],
   "source": [
    "#hypothesis for significance in association between smoker and survived\n",
    "import scipy.stats as st\n",
    "\n",
    "pd.crosstab(X_train['Patient_Smoker'],y_train)"
   ]
  },
  {
   "cell_type": "code",
   "execution_count": 66,
   "metadata": {},
   "outputs": [
    {
     "data": {
      "text/plain": [
       "(1281.8798705082054,\n",
       " 9.794925757092706e-281,\n",
       " 1,\n",
       " array([[4141.79095355, 7120.20904645],\n",
       "        [3078.20904645, 5291.79095355]]))"
      ]
     },
     "execution_count": 66,
     "metadata": {},
     "output_type": "execute_result"
    }
   ],
   "source": [
    "table = [[2945,8317],[4275,4095]]\n",
    "st.chi2_contingency(table)"
   ]
  },
  {
   "cell_type": "markdown",
   "metadata": {},
   "source": [
    "The output of above method from scipy.stats is (a) computed_chi square stat (b) p value (c) degree of freedom (c) expected values\n",
    "\n",
    "It is seen that p value is extremely small indicative of the fact that Null hypothesis (no association between variables) can be rejected . *There is an association between two variables*"
   ]
  },
  {
   "cell_type": "code",
   "execution_count": 67,
   "metadata": {},
   "outputs": [
    {
     "data": {
      "text/html": [
       "<div>\n",
       "<style scoped>\n",
       "    .dataframe tbody tr th:only-of-type {\n",
       "        vertical-align: middle;\n",
       "    }\n",
       "\n",
       "    .dataframe tbody tr th {\n",
       "        vertical-align: top;\n",
       "    }\n",
       "\n",
       "    .dataframe thead th {\n",
       "        text-align: right;\n",
       "    }\n",
       "</style>\n",
       "<table border=\"1\" class=\"dataframe\">\n",
       "  <thead>\n",
       "    <tr style=\"text-align: right;\">\n",
       "      <th>Survived_1_year</th>\n",
       "      <th>0</th>\n",
       "      <th>1</th>\n",
       "    </tr>\n",
       "    <tr>\n",
       "      <th>Patient_Rural_Urban</th>\n",
       "      <th></th>\n",
       "      <th></th>\n",
       "    </tr>\n",
       "  </thead>\n",
       "  <tbody>\n",
       "    <tr>\n",
       "      <th>RURAL</th>\n",
       "      <td>4571</td>\n",
       "      <td>9182</td>\n",
       "    </tr>\n",
       "    <tr>\n",
       "      <th>URBAN</th>\n",
       "      <td>2649</td>\n",
       "      <td>3230</td>\n",
       "    </tr>\n",
       "  </tbody>\n",
       "</table>\n",
       "</div>"
      ],
      "text/plain": [
       "Survived_1_year         0     1\n",
       "Patient_Rural_Urban            \n",
       "RURAL                4571  9182\n",
       "URBAN                2649  3230"
      ]
     },
     "execution_count": 67,
     "metadata": {},
     "output_type": "execute_result"
    }
   ],
   "source": [
    "# checking association between Rural/Urban and Survived\n",
    "pd.crosstab(X_train['Patient_Rural_Urban'],y_train)"
   ]
  },
  {
   "cell_type": "code",
   "execution_count": 68,
   "metadata": {},
   "outputs": [
    {
     "data": {
      "text/plain": [
       "(247.05742891865316,\n",
       " 1.1375267824868701e-55,\n",
       " 1,\n",
       " array([[5057.89832926, 8695.10167074],\n",
       "        [2162.10167074, 3716.89832926]]))"
      ]
     },
     "execution_count": 68,
     "metadata": {},
     "output_type": "execute_result"
    }
   ],
   "source": [
    "table = [[4571,9182],[2649,3230]]\n",
    "st.chi2_contingency(table)"
   ]
  },
  {
   "cell_type": "markdown",
   "metadata": {},
   "source": [
    "- Here as well the p Value obtained is extremely small . hence we conclude that we reject Null Hypothesis and there is sufficent data to prove that there is an assciation between Rural/Urban and survived ."
   ]
  },
  {
   "cell_type": "code",
   "execution_count": 69,
   "metadata": {},
   "outputs": [
    {
     "data": {
      "image/png": "[encoded data removed]",
      "text/plain": [
       "<Figure size 432x288 with 2 Axes>"
      ]
     },
     "metadata": {},
     "output_type": "display_data"
    }
   ],
   "source": [
    "#Violin plot for “Age” vs. “Patient_smoker” and “Age” vs. “Patient_Rural_urban” grouped by “Survived”.\n",
    "fig,(ax1,ax2) = plt.subplots(nrows=1,ncols=2)\n",
    "sns.violinplot(x='Patient_Smoker', y='Patient_Age',hue=y_train, data=X_train,ax=ax1)\n",
    "sns.violinplot(x='Patient_Rural_Urban', y='Patient_Age',hue=y_train, data=X_train,ax=ax2)\n",
    "plt.tight_layout()\n",
    "plt.show()"
   ]
  },
  {
   "cell_type": "markdown",
   "metadata": {},
   "source": [
    "- The patient who are smokers and not survived count has a mode at around 60. This is age group of smokers we need too watch to improve survived count\n",
    "- The above category of patient age group are from both urban and rural , but count from rural is marginally high\n",
    "- Even though Non smokers (evidently) count of not survived in lower age group has a mode indicative of higher count. This needs further evaluation"
   ]
  },
  {
   "cell_type": "code",
   "execution_count": 75,
   "metadata": {},
   "outputs": [
    {
     "data": {
      "image/png": "[encoded data removed]",
      "text/plain": [
       "<Figure size 432x288 with 2 Axes>"
      ]
     },
     "metadata": {},
     "output_type": "display_data"
    }
   ],
   "source": [
    "#Factorplot for “smoker” vs. “Diag condition” grouped by “Survived” and 'patient_rural_urban' vs 'Dig condition' by 'survived'\n",
    "fig,(ax1,ax2) = plt.subplots(nrows=1,ncols=2)\n",
    "sns.violinplot(y='Diagnosed_Condition' , x ='Patient_Smoker',hue =y_train,data = X_train,ax=ax1) \n",
    "sns.violinplot(y='Diagnosed_Condition' , x ='Patient_Rural_Urban',hue =y_train,data = X_train,ax=ax2) \n",
    "plt.tight_layout()\n",
    "plt.show()"
   ]
  },
  {
   "cell_type": "markdown",
   "metadata": {},
   "source": [
    "- Patients who are smokers and did not survive have a considerable count for Diagnosed_condition between 15-35\n",
    "- Simlar range for patients from rural background\n",
    "- Urban patients have the Diagonized condition count higher for values around 8 and around 45(bi modal)"
   ]
  },
  {
   "cell_type": "code",
   "execution_count": 78,
   "metadata": {},
   "outputs": [
    {
     "data": {
      "image/png": "[encoded data removed]",
      "text/plain": [
       "<Figure size 360x360 with 1 Axes>"
      ]
     },
     "metadata": {},
     "output_type": "display_data"
    }
   ],
   "source": [
    "#Factorplot for “rural_urban” vs. “Survived”.\n",
    "sns.factorplot(x ='Patient_Rural_Urban', y =y_train,data = X_train) \n",
    "plt.show()"
   ]
  },
  {
   "cell_type": "markdown",
   "metadata": {},
   "source": [
    "- The survival and not survived for rural and urban have their error line not overlapping idicative of statistically significant difference\n",
    "- The patients from rural areas have better chance of survival"
   ]
  },
  {
   "cell_type": "code",
   "execution_count": 81,
   "metadata": {},
   "outputs": [
    {
     "data": {
      "image/png": "[encoded data removed]",
      "text/plain": [
       "<Figure size 360x360 with 1 Axes>"
      ]
     },
     "metadata": {},
     "output_type": "display_data"
    }
   ],
   "source": [
    "#Factorplot for “smoker” vs. “Survived”.\n",
    "sns.factorplot(x ='Patient_Smoker', y =y_train,data = X_train) \n",
    "plt.show()"
   ]
  },
  {
   "cell_type": "markdown",
   "metadata": {},
   "source": [
    "- The The survival and not survived for smoker and non smoker have their error line not overlapping indicative of statistically significant difference\n",
    "- Mean survived for smoker is considerably lower indicative of a factor for determining survived"
   ]
  },
  {
   "cell_type": "code",
   "execution_count": 82,
   "metadata": {},
   "outputs": [],
   "source": [
    "#using one hot encoding to convert cat columns to numeric\n",
    "X_train = pd.get_dummies(X_train,columns=['Patient_Smoker','Patient_Rural_Urban'])"
   ]
  },
  {
   "cell_type": "markdown",
   "metadata": {},
   "source": [
    " **Note : Data Pre-processing - ohe for Patient_Smoker\tPatient_Rural_Urban columns**"
   ]
  },
  {
   "cell_type": "code",
   "execution_count": 83,
   "metadata": {},
   "outputs": [
    {
     "name": "stdout",
     "output_type": "stream",
     "text": [
      "19632\n",
      "9930\n"
     ]
    }
   ],
   "source": [
    "print(X_train.ID_Patient_Care_Situation.nunique())     # nunique() gives you the count of unique values in the column\n",
    "print(X_train.Patient_ID.nunique())"
   ]
  },
  {
   "cell_type": "markdown",
   "metadata": {},
   "source": [
    "- As discussed earlier , ID_Patient_Care_Situation is a randomely generated number and will not get repeated in the future for prediction. However,the patient ID has some repetitions indicative of same patient coming back for same or some other tratement. The detais may vary in that case. We shall keep this attribute for the time being"
   ]
  },
  {
   "cell_type": "code",
   "execution_count": 84,
   "metadata": {},
   "outputs": [],
   "source": [
    "#dropping 'ID_Patient_Care_Situation'\n",
    "X_train.drop('ID_Patient_Care_Situation',axis=1,inplace=True)"
   ]
  },
  {
   "cell_type": "markdown",
   "metadata": {},
   "source": [
    "**Note : Data pre-processing - drop column ID_Patient_Care_Situation**"
   ]
  },
  {
   "cell_type": "markdown",
   "metadata": {},
   "source": [
    "## FEATURE ENGINEERING -"
   ]
  },
  {
   "cell_type": "markdown",
   "metadata": {},
   "source": [
    "\n",
    "- Close scrutiny of attributes of training data reveals the patient is being trated with different type of drugs DX1,DX2,...DX6\n",
    "- we have captured the type of drugs being treated for the patient in the attributes. However if is seen that the patient may be treated with more than one drugs. The number of drugs being admnistered to the patient will be captured in a separete attribute\n",
    "- The patient ID has been classified as selected feature and we will tell the model that it is categorical feature rather than continuous variable"
   ]
  },
  {
   "cell_type": "code",
   "execution_count": 85,
   "metadata": {},
   "outputs": [],
   "source": [
    "# create a column no of treatment drugs which is sum of columns DX1..DX6 \n",
    "X_train['No_of_treatment_drugs'] = X_train['DX1']+X_train['DX2']+ X_train['DX3']+X_train['DX4']+X_train['DX5']+X_train['DX6']"
   ]
  },
  {
   "cell_type": "code",
   "execution_count": 106,
   "metadata": {},
   "outputs": [],
   "source": [
    "# Patient ID to cat column\n",
    "X_train['Patient_ID'] = X_train['Patient_ID'].astype('int')"
   ]
  },
  {
   "cell_type": "code",
   "execution_count": 107,
   "metadata": {},
   "outputs": [
    {
     "data": {
      "text/html": [
       "<div>\n",
       "<style scoped>\n",
       "    .dataframe tbody tr th:only-of-type {\n",
       "        vertical-align: middle;\n",
       "    }\n",
       "\n",
       "    .dataframe tbody tr th {\n",
       "        vertical-align: top;\n",
       "    }\n",
       "\n",
       "    .dataframe thead th {\n",
       "        text-align: right;\n",
       "    }\n",
       "</style>\n",
       "<table border=\"1\" class=\"dataframe\">\n",
       "  <thead>\n",
       "    <tr style=\"text-align: right;\">\n",
       "      <th></th>\n",
       "      <th>Diagnosed_Condition</th>\n",
       "      <th>Patient_ID</th>\n",
       "      <th>Patient_Age</th>\n",
       "      <th>Patient_Body_Mass_Index</th>\n",
       "      <th>A</th>\n",
       "      <th>B</th>\n",
       "      <th>C</th>\n",
       "      <th>D</th>\n",
       "      <th>E</th>\n",
       "      <th>F</th>\n",
       "      <th>...</th>\n",
       "      <th>DX2</th>\n",
       "      <th>DX3</th>\n",
       "      <th>DX4</th>\n",
       "      <th>DX5</th>\n",
       "      <th>DX6</th>\n",
       "      <th>Patient_Smoker_NO</th>\n",
       "      <th>Patient_Smoker_YES</th>\n",
       "      <th>Patient_Rural_Urban_RURAL</th>\n",
       "      <th>Patient_Rural_Urban_URBAN</th>\n",
       "      <th>No_of_treatment_drugs</th>\n",
       "    </tr>\n",
       "  </thead>\n",
       "  <tbody>\n",
       "    <tr>\n",
       "      <th>14859</th>\n",
       "      <td>4</td>\n",
       "      <td>7071</td>\n",
       "      <td>0</td>\n",
       "      <td>22.232827</td>\n",
       "      <td>1.0</td>\n",
       "      <td>0.0</td>\n",
       "      <td>0.0</td>\n",
       "      <td>0.0</td>\n",
       "      <td>1.0</td>\n",
       "      <td>0.0</td>\n",
       "      <td>...</td>\n",
       "      <td>0</td>\n",
       "      <td>0</td>\n",
       "      <td>0</td>\n",
       "      <td>0</td>\n",
       "      <td>1</td>\n",
       "      <td>1</td>\n",
       "      <td>0</td>\n",
       "      <td>1</td>\n",
       "      <td>0</td>\n",
       "      <td>1</td>\n",
       "    </tr>\n",
       "    <tr>\n",
       "      <th>22171</th>\n",
       "      <td>49</td>\n",
       "      <td>5819</td>\n",
       "      <td>22</td>\n",
       "      <td>29.855100</td>\n",
       "      <td>1.0</td>\n",
       "      <td>0.0</td>\n",
       "      <td>0.0</td>\n",
       "      <td>0.0</td>\n",
       "      <td>1.0</td>\n",
       "      <td>0.0</td>\n",
       "      <td>...</td>\n",
       "      <td>0</td>\n",
       "      <td>0</td>\n",
       "      <td>0</td>\n",
       "      <td>0</td>\n",
       "      <td>1</td>\n",
       "      <td>0</td>\n",
       "      <td>1</td>\n",
       "      <td>1</td>\n",
       "      <td>0</td>\n",
       "      <td>1</td>\n",
       "    </tr>\n",
       "    <tr>\n",
       "      <th>11664</th>\n",
       "      <td>2</td>\n",
       "      <td>7649</td>\n",
       "      <td>19</td>\n",
       "      <td>19.220911</td>\n",
       "      <td>1.0</td>\n",
       "      <td>0.0</td>\n",
       "      <td>1.0</td>\n",
       "      <td>0.0</td>\n",
       "      <td>0.0</td>\n",
       "      <td>0.0</td>\n",
       "      <td>...</td>\n",
       "      <td>0</td>\n",
       "      <td>0</td>\n",
       "      <td>0</td>\n",
       "      <td>0</td>\n",
       "      <td>1</td>\n",
       "      <td>1</td>\n",
       "      <td>0</td>\n",
       "      <td>0</td>\n",
       "      <td>1</td>\n",
       "      <td>1</td>\n",
       "    </tr>\n",
       "  </tbody>\n",
       "</table>\n",
       "<p>3 rows × 23 columns</p>\n",
       "</div>"
      ],
      "text/plain": [
       "       Diagnosed_Condition  Patient_ID  Patient_Age  Patient_Body_Mass_Index  \\\n",
       "14859                    4        7071            0                22.232827   \n",
       "22171                   49        5819           22                29.855100   \n",
       "11664                    2        7649           19                19.220911   \n",
       "\n",
       "         A    B    C    D    E    F  ...  DX2  DX3  DX4  DX5  DX6  \\\n",
       "14859  1.0  0.0  0.0  0.0  1.0  0.0  ...    0    0    0    0    1   \n",
       "22171  1.0  0.0  0.0  0.0  1.0  0.0  ...    0    0    0    0    1   \n",
       "11664  1.0  0.0  1.0  0.0  0.0  0.0  ...    0    0    0    0    1   \n",
       "\n",
       "       Patient_Smoker_NO  Patient_Smoker_YES  Patient_Rural_Urban_RURAL  \\\n",
       "14859                  1                   0                          1   \n",
       "22171                  0                   1                          1   \n",
       "11664                  1                   0                          0   \n",
       "\n",
       "       Patient_Rural_Urban_URBAN  No_of_treatment_drugs  \n",
       "14859                          0                      1  \n",
       "22171                          0                      1  \n",
       "11664                          1                      1  \n",
       "\n",
       "[3 rows x 23 columns]"
      ]
     },
     "execution_count": 107,
     "metadata": {},
     "output_type": "execute_result"
    }
   ],
   "source": [
    "X_train.head(3)"
   ]
  },
  {
   "cell_type": "markdown",
   "metadata": {},
   "source": [
    "- all columns are numeric now \n"
   ]
  },
  {
   "cell_type": "markdown",
   "metadata": {},
   "source": [
    "### MODEL BUILDING"
   ]
  },
  {
   "cell_type": "markdown",
   "metadata": {},
   "source": [
    "### 3.3 Methods\n",
    "\n",
    "What mathematical and computational methods are you using?\n",
    "\n",
    "[Back to top](#Table-of-contents)"
   ]
  },
  {
   "cell_type": "markdown",
   "metadata": {},
   "source": [
    "- The project is a classification problem after one year of treatment,as the target column 'Survived_1_year' has two values 0 - means the patient did not survive after one year of treatment, 1 - means the patient survived after one year of treatment. We will use classification models for the problem solution\n",
    "\n"
   ]
  },
  {
   "cell_type": "markdown",
   "metadata": {},
   "source": [
    "- While there are large number of ML libraries which are used for classification problems, limitation in terms of computation power and academic nature of the current project, a set of typical ML algorithms have been used for the current project.\n",
    "- I have used following ML models in the current problem solving:-\n",
    "\n",
    "  (a) Logistic Regression : The Logistic regression is a linear model for classification problem. The model uses a logit curve(s-curve ) to establish probability of each class . This being workhorse of classification problem like Linear Regression will give us good baseline model\n",
    "  \n",
    "  (b) DecisionTreeClassifier : This is a tree based algorithm which decides the flow of decision based on information at each node. \n",
    "  \n",
    "  (c) KNN Model : The KNN algorithm assumes that similar things exist in close proximity. Based on distances between data points the model predicts a new datapoint to either 0 or 1 class. \n",
    "  \n",
    "  (d) Random Forest Classifier :  Random Forests grows many classification trees(multiple decision trees called bagging method). To classify a new object from an input vector, put the input vector down each of the trees in the forest. Each tree gives a classification, and we say the tree \"votes\" for that class. The forest chooses the classification having the most votes (over all the trees in the forest).\n",
    "  \n",
    "  (e) XGBoost Classifier : XGBoost is a decision-tree-based ensemble Machine Learning algorithm that uses a gradient boosting framework. While RF uses bagging method , boosting method works by improving the  weak learners using the gradient descent architecture.\n",
    "  \n",
    "  (f) LightGBM classifier : LightGBM is a gradient boosting framework that uses tree based learning algorithms. Both LightGBM and xgboost utilise histogram based split finding in contrast to sklearn which uses GBM.Hence it is quite fast in compuation and has good predictive power.\n",
    "  \n",
    "  (g) Catboost Classifier : “CatBoost” name comes from two words “Category” and “Boosting”.“Boost” comes from gradient boosting machine learning algorithm as this library is based on gradient boosting library. It can also return very good result with relatively less data, unlike DL models that need to learn from a massive amount of data."
   ]
  },
  {
   "cell_type": "markdown",
   "metadata": {},
   "source": [
    "- - Before building the model , we further divide the train data in train and test data for training and testing our model. The validation dataset we will use for final validation"
   ]
  },
  {
   "cell_type": "code",
   "execution_count": 108,
   "metadata": {},
   "outputs": [],
   "source": [
    "X_train,X_test,y_train,y_test = train_test_split(X_train,y_train,test_size=0.1,stratify=y_train,random_state=42)"
   ]
  },
  {
   "cell_type": "markdown",
   "metadata": {},
   "source": [
    "- In the first iteration we will use all the attributes and basic ML model and look at the results. Subsequently further iterations with crossfold validation and hyperparameter tuning along with feature selection"
   ]
  },
  {
   "cell_type": "code",
   "execution_count": 109,
   "metadata": {},
   "outputs": [
    {
     "data": {
      "text/plain": [
       "((15901, 23), (1767, 23), (15901,), (1767,))"
      ]
     },
     "execution_count": 109,
     "metadata": {},
     "output_type": "execute_result"
    }
   ],
   "source": [
    "#inspect size of train and valid dataset\n",
    "X_train.shape,X_test.shape,y_train.shape,y_test.shape"
   ]
  },
  {
   "cell_type": "markdown",
   "metadata": {},
   "source": [
    "## Iteration No 1 (Basic Model)"
   ]
  },
  {
   "cell_type": "code",
   "execution_count": 110,
   "metadata": {},
   "outputs": [],
   "source": [
    "#import necessary libraries\n",
    "from sklearn.linear_model import LogisticRegression\n",
    "from sklearn.tree import DecisionTreeClassifier\n",
    "from sklearn.neighbors import KNeighborsClassifier\n",
    "from sklearn.naive_bayes import GaussianNB\n",
    "from sklearn.ensemble import RandomForestClassifier\n",
    "from sklearn.svm import SVC\n",
    "from xgboost import XGBClassifier\n",
    "from catboost import CatBoostClassifier\n",
    "from lightgbm import LGBMClassifier\n",
    "from sklearn import metrics"
   ]
  },
  {
   "cell_type": "code",
   "execution_count": 111,
   "metadata": {},
   "outputs": [],
   "source": [
    "import time\n",
    "start = time.time() #start of the block timer\n",
    "#model building with basic models\n",
    "def basic_model_building(model,X_train,y_train,X_test,y_test):\n",
    "    ''' This function takes in a model and train and test dataset\n",
    "        and returns model, train and test accuracy score \n",
    "        for a classification problem'''\n",
    "    clf = model\n",
    "    clf.fit(X_train,y_train) #fit the model\n",
    "    y_train_pred = clf.predict(X_train) #prediction of trg set\n",
    "    y_pred = clf.predict(X_test) #prediction of test set\n",
    "    train_score = metrics.accuracy_score(y_train,y_train_pred) #trg accuracy\n",
    "    test_score  = metrics.accuracy_score(y_test,y_pred) #test accuracy\n",
    "    f1_score = metrics.f1_score(y_test,y_pred) #f1 score\n",
    "    test_auc_roc = metrics.roc_auc_score(y_test,y_pred) # auc_roc_score\n",
    "    \n",
    "    return train_score,test_score,f1_score,test_auc_roc"
   ]
  },
  {
   "cell_type": "code",
   "execution_count": 112,
   "metadata": {
    "scrolled": true
   },
   "outputs": [
    {
     "name": "stdout",
     "output_type": "stream",
     "text": [
      "[23:24:19] WARNING: C:/Users/Administrator/workspace/xgboost-win64_release_1.3.0/src/learner.cc:1061: Starting in XGBoost 1.3.0, the default evaluation metric used with the objective 'binary:logistic' was changed from 'error' to 'logloss'. Explicitly set eval_metric if you'd like to restore the old behavior.\n",
      "Time elapsed: 35.58333492279053\n"
     ]
    }
   ],
   "source": [
    "# define a list of models and model_names\n",
    "models = [LogisticRegression(max_iter = 1000),DecisionTreeClassifier(),KNeighborsClassifier(n_neighbors=5),\n",
    "          GaussianNB(),RandomForestClassifier(n_estimators=100),XGBClassifier(),LGBMClassifier(),CatBoostClassifier(verbose=0)]\n",
    "\n",
    "model_names = ['LogisticRegression','DecisionTree','KNN','Naive_Bayes','RandomForest','XGB','LGBM','catboost']\n",
    "#create empty list for storing model specific metrics\n",
    "Training_accuracy =[]\n",
    "Testing_accuracy =[]\n",
    "Test_f1 =[]\n",
    "Test_auc=[]\n",
    "#call the function and get metrics\n",
    "for model in models:\n",
    "    train_acc,test_acc,test_f1,test_auc = basic_model_building(model,X_train,y_train,X_test,y_test)\n",
    "    Testing_accuracy.append(test_acc)\n",
    "    Training_accuracy.append(train_acc)\n",
    "    Test_f1.append(test_f1)\n",
    "    Test_auc.append(test_auc)\n",
    "    \n",
    "#create a df for model vs trg and testing accuracy\n",
    "acc_df =pd.DataFrame({'Model':model_names,'Training_Accuracy':Training_accuracy,'Testing_Accuracy':Testing_accuracy,\n",
    "                     'f1score':Test_f1,'auc_roc_score':Test_auc})\n",
    "\n",
    "end = time.time() #end of block timer\n",
    "print (\"Time elapsed:\", end - start)"
   ]
  },
  {
   "cell_type": "code",
   "execution_count": 113,
   "metadata": {},
   "outputs": [
    {
     "data": {
      "text/html": [
       "<div>\n",
       "<style scoped>\n",
       "    .dataframe tbody tr th:only-of-type {\n",
       "        vertical-align: middle;\n",
       "    }\n",
       "\n",
       "    .dataframe tbody tr th {\n",
       "        vertical-align: top;\n",
       "    }\n",
       "\n",
       "    .dataframe thead th {\n",
       "        text-align: right;\n",
       "    }\n",
       "</style>\n",
       "<table border=\"1\" class=\"dataframe\">\n",
       "  <thead>\n",
       "    <tr style=\"text-align: right;\">\n",
       "      <th></th>\n",
       "      <th>Model</th>\n",
       "      <th>Training_Accuracy</th>\n",
       "      <th>Testing_Accuracy</th>\n",
       "      <th>f1score</th>\n",
       "      <th>auc_roc_score</th>\n",
       "    </tr>\n",
       "  </thead>\n",
       "  <tbody>\n",
       "    <tr>\n",
       "      <th>0</th>\n",
       "      <td>LogisticRegression</td>\n",
       "      <td>0.715804</td>\n",
       "      <td>0.700057</td>\n",
       "      <td>0.779167</td>\n",
       "      <td>0.650839</td>\n",
       "    </tr>\n",
       "    <tr>\n",
       "      <th>1</th>\n",
       "      <td>DecisionTree</td>\n",
       "      <td>0.999748</td>\n",
       "      <td>0.766836</td>\n",
       "      <td>0.813406</td>\n",
       "      <td>0.753508</td>\n",
       "    </tr>\n",
       "    <tr>\n",
       "      <th>2</th>\n",
       "      <td>KNN</td>\n",
       "      <td>0.743664</td>\n",
       "      <td>0.628183</td>\n",
       "      <td>0.724066</td>\n",
       "      <td>0.576624</td>\n",
       "    </tr>\n",
       "    <tr>\n",
       "      <th>3</th>\n",
       "      <td>Naive_Bayes</td>\n",
       "      <td>0.714546</td>\n",
       "      <td>0.698925</td>\n",
       "      <td>0.739980</td>\n",
       "      <td>0.706546</td>\n",
       "    </tr>\n",
       "    <tr>\n",
       "      <th>4</th>\n",
       "      <td>RandomForest</td>\n",
       "      <td>0.999748</td>\n",
       "      <td>0.813243</td>\n",
       "      <td>0.853594</td>\n",
       "      <td>0.796002</td>\n",
       "    </tr>\n",
       "    <tr>\n",
       "      <th>5</th>\n",
       "      <td>XGB</td>\n",
       "      <td>0.935161</td>\n",
       "      <td>0.826259</td>\n",
       "      <td>0.863858</td>\n",
       "      <td>0.809835</td>\n",
       "    </tr>\n",
       "    <tr>\n",
       "      <th>6</th>\n",
       "      <td>LGBM</td>\n",
       "      <td>0.878561</td>\n",
       "      <td>0.835314</td>\n",
       "      <td>0.869682</td>\n",
       "      <td>0.823108</td>\n",
       "    </tr>\n",
       "    <tr>\n",
       "      <th>7</th>\n",
       "      <td>catboost</td>\n",
       "      <td>0.888686</td>\n",
       "      <td>0.826259</td>\n",
       "      <td>0.863858</td>\n",
       "      <td>0.809835</td>\n",
       "    </tr>\n",
       "  </tbody>\n",
       "</table>\n",
       "</div>"
      ],
      "text/plain": [
       "                Model  Training_Accuracy  Testing_Accuracy   f1score  \\\n",
       "0  LogisticRegression           0.715804          0.700057  0.779167   \n",
       "1        DecisionTree           0.999748          0.766836  0.813406   \n",
       "2                 KNN           0.743664          0.628183  0.724066   \n",
       "3         Naive_Bayes           0.714546          0.698925  0.739980   \n",
       "4        RandomForest           0.999748          0.813243  0.853594   \n",
       "5                 XGB           0.935161          0.826259  0.863858   \n",
       "6                LGBM           0.878561          0.835314  0.869682   \n",
       "7            catboost           0.888686          0.826259  0.863858   \n",
       "\n",
       "   auc_roc_score  \n",
       "0       0.650839  \n",
       "1       0.753508  \n",
       "2       0.576624  \n",
       "3       0.706546  \n",
       "4       0.796002  \n",
       "5       0.809835  \n",
       "6       0.823108  \n",
       "7       0.809835  "
      ]
     },
     "execution_count": 113,
     "metadata": {},
     "output_type": "execute_result"
    }
   ],
   "source": [
    "acc_df"
   ]
  },
  {
   "cell_type": "markdown",
   "metadata": {},
   "source": [
    "- The scrutiny of performance of basic models on the training and test dataset reveals LGBM ,Catboost .XGB and Random Forest models have done relatively better than first four models(Logistic Regression, Decision Tree , KNN and Naive Bayes.\n",
    "\n",
    "- We have to be careful that accuracy score of training and test dataset should not be too far apart indicative of overfitting on training data."
   ]
  },
  {
   "cell_type": "markdown",
   "metadata": {},
   "source": [
    "## Iteration No 2 (Hyperparameter Tuning with all attributes)"
   ]
  },
  {
   "cell_type": "markdown",
   "metadata": {},
   "source": [
    "- The most efficient way to find an optimal set of hyperparameters for a machine learning model is to use random search.\n",
    "- The algorithm picks the most successful version of the model it’s seen after training N different versions of the model with different randomly selected hyperparameter combinations, leaving you with a model trained on a near-optimal set of hyperparameters\n",
    "- We can also use GridSearchCV() as well for hyperparameter tuning , but the same is computationally expensive(view number of models chosen with parameters) and given the academic nature of project the hyperparameter tuning is being carried out "
   ]
  },
  {
   "cell_type": "code",
   "execution_count": 114,
   "metadata": {},
   "outputs": [],
   "source": [
    "from sklearn.model_selection import RandomizedSearchCV\n"
   ]
  },
  {
   "cell_type": "code",
   "execution_count": 115,
   "metadata": {},
   "outputs": [],
   "source": [
    "#defining parameters for models we have chosen to be used for hyperparamter using Randomized search CV\n",
    "from scipy.stats import loguniform,randint\n",
    "xg_params = {\n",
    "             \"learning_rate\"    : [0.05, 0.10, 0.15, 0.20, 0.25, 0.30 ] ,\n",
    "             \"max_depth\"        : [ 3, 4, 5, 6, 8, 10, 12, 15],\n",
    "             \"min_child_weight\" : [ 1, 3, 5, 7 ],\n",
    "             \"gamma\"            : [ 0.0, 0.1, 0.2 , 0.3, 0.4 ],\n",
    "             \"colsample_bytree\" : [ 0.3, 0.4, 0.5 , 0.7 ] \n",
    "            }\n",
    "rf_params = {\n",
    "              'max_features'    : ['auto','sqrt','log2'],\n",
    "              'max_depth'       : [ 3, 4, 5, 6, 8, 10,15,20,40,50],\n",
    "             'min_samples_split': [2,5,10,15,20],\n",
    "             'min_samples_leaf' : [1,2,5,10,15],\n",
    "              'n_estimators'    : [500,800,1000]\n",
    "            }\n",
    "\n",
    "cat_params  = {'depth'           : [4,5,6,7,8,9, 10],\n",
    "                 'learning_rate' : [0.01,0.02,0.03,0.04],\n",
    "                  'iterations'   : [10, 20,30,40,50,60,70,80,90, 100]\n",
    "               }\n",
    "# Parameters to be used for RandomizedSearchCV-\n",
    "lightgbm_params = {\n",
    "            'bagging_fraction': (0.5, 0.8),\n",
    "            'bagging_frequency': (5, 8),\n",
    "            'feature_fraction': (0.5, 0.8),\n",
    "            'max_depth': (10, 13),\n",
    "            'min_data_in_leaf': (90, 120),\n",
    "            'num_leaves': (1200, 1550)\n",
    "\n",
    "}\n",
    "logistic_params = {'solver'  : ['newton-cg', 'lbfgs', 'liblinear'],\n",
    "                   'penalty' : ['none', 'l1', 'l2', 'elasticnet'],\n",
    "                   'C'       : loguniform(1e-5, 100)\n",
    "                  }\n",
    "dt_params = {'criterion': ['gini', 'entropy'],\n",
    "             'max_depth': [1, 2, 3, 4, 5, 6, 7, 8],\n",
    "             'min_samples_split': [2, 3]}\n",
    "\n",
    "knn_params = {'leaf_size'  : list(range(1,50)),\n",
    "              'n_neighbors': list(range(1,30)),\n",
    "              'p'           :[1,2]\n",
    "             }\n",
    "\n",
    "params_NB = {'var_smoothing': np.logspace(0,-9, num=100)}"
   ]
  },
  {
   "cell_type": "code",
   "execution_count": 116,
   "metadata": {},
   "outputs": [],
   "source": [
    "# defining a function to carry out randomized search cv\n",
    "def hyper_model(model,params,X_train,y_train,X_test,y_test):\n",
    "    # this will train 100 models over 5 folds of cross validation\n",
    "    random_search = RandomizedSearchCV(model, param_distributions=params,cv=5,n_iter=100,scoring= 'roc_auc', n_jobs= -1,verbose=0,random_state=42)\n",
    "    # train the random search meta-estimator to find the best model \n",
    "    hyper_model= random_search.fit(X_train, y_train)\n",
    "    print()\n",
    "    # print winning set of hyperparameters\n",
    "    print(model,'\\n',hyper_model.best_estimator_.get_params())\n",
    "    # generate predictions using the best-performing model\n",
    "    predictions = hyper_model.predict(X_test)\n",
    "    #estimate test accuracy ,f1score and auc_roc_score\n",
    "    test_score_hyper  = metrics.accuracy_score(y_test,predictions) #test accuracy\n",
    "    f1_score_hyper = metrics.f1_score(y_test,predictions) #f1 score\n",
    "    test_auc_roc_hyper = metrics.roc_auc_score(y_test,predictions) # auc_roc_score\n",
    "    \n",
    "    return test_score_hyper,f1_score_hyper,test_auc_roc_hyper"
   ]
  },
  {
   "cell_type": "code",
   "execution_count": 117,
   "metadata": {},
   "outputs": [
    {
     "name": "stdout",
     "output_type": "stream",
     "text": [
      "\n",
      "LogisticRegression(max_iter=1000) \n",
      " {'C': 63.38473335975546, 'class_weight': None, 'dual': False, 'fit_intercept': True, 'intercept_scaling': 1, 'l1_ratio': None, 'max_iter': 1000, 'multi_class': 'auto', 'n_jobs': None, 'penalty': 'l2', 'random_state': None, 'solver': 'newton-cg', 'tol': 0.0001, 'verbose': 0, 'warm_start': False}\n",
      "\n",
      "DecisionTreeClassifier() \n",
      " {'ccp_alpha': 0.0, 'class_weight': None, 'criterion': 'entropy', 'max_depth': 8, 'max_features': None, 'max_leaf_nodes': None, 'min_impurity_decrease': 0.0, 'min_impurity_split': None, 'min_samples_leaf': 1, 'min_samples_split': 3, 'min_weight_fraction_leaf': 0.0, 'random_state': None, 'splitter': 'best'}\n",
      "\n",
      "KNeighborsClassifier() \n",
      " {'algorithm': 'auto', 'leaf_size': 47, 'metric': 'minkowski', 'metric_params': None, 'n_jobs': None, 'n_neighbors': 5, 'p': 1, 'weights': 'uniform'}\n",
      "\n",
      "GaussianNB() \n",
      " {'priors': None, 'var_smoothing': 4.3287612810830526e-08}\n",
      "\n",
      "RandomForestClassifier() \n",
      " {'bootstrap': True, 'ccp_alpha': 0.0, 'class_weight': None, 'criterion': 'gini', 'max_depth': 15, 'max_features': 'sqrt', 'max_leaf_nodes': None, 'max_samples': None, 'min_impurity_decrease': 0.0, 'min_impurity_split': None, 'min_samples_leaf': 2, 'min_samples_split': 2, 'min_weight_fraction_leaf': 0.0, 'n_estimators': 800, 'n_jobs': None, 'oob_score': False, 'random_state': None, 'verbose': 0, 'warm_start': False}\n",
      "[23:56:30] WARNING: C:/Users/Administrator/workspace/xgboost-win64_release_1.3.0/src/learner.cc:1061: Starting in XGBoost 1.3.0, the default evaluation metric used with the objective 'binary:logistic' was changed from 'error' to 'logloss'. Explicitly set eval_metric if you'd like to restore the old behavior.\n",
      "\n",
      "XGBClassifier(base_score=None, booster=None, colsample_bylevel=None,\n",
      "              colsample_bynode=None, colsample_bytree=None, gamma=None,\n",
      "              gpu_id=None, importance_type='gain', interaction_constraints=None,\n",
      "              learning_rate=None, max_delta_step=None, max_depth=None,\n",
      "              min_child_weight=None, missing=nan, monotone_constraints=None,\n",
      "              n_estimators=100, n_jobs=None, num_parallel_tree=None,\n",
      "              random_state=None, reg_alpha=None, reg_lambda=None,\n",
      "              scale_pos_weight=None, subsample=None, tree_method=None,\n",
      "              validate_parameters=None, verbosity=None) \n",
      " {'objective': 'binary:logistic', 'use_label_encoder': True, 'base_score': 0.5, 'booster': 'gbtree', 'colsample_bylevel': 1, 'colsample_bynode': 1, 'colsample_bytree': 0.7, 'gamma': 0.0, 'gpu_id': -1, 'importance_type': 'gain', 'interaction_constraints': '', 'learning_rate': 0.3, 'max_delta_step': 0, 'max_depth': 4, 'min_child_weight': 7, 'missing': nan, 'monotone_constraints': '()', 'n_estimators': 100, 'n_jobs': 4, 'num_parallel_tree': 1, 'random_state': 0, 'reg_alpha': 0, 'reg_lambda': 1, 'scale_pos_weight': 1, 'subsample': 1, 'tree_method': 'exact', 'validate_parameters': 1, 'verbosity': None}\n",
      "[LightGBM] [Warning] Unknown parameter: bagging_frequency\n",
      "[LightGBM] [Warning] feature_fraction is set=0.8, colsample_bytree=1.0 will be ignored. Current value: feature_fraction=0.8\n",
      "[LightGBM] [Warning] min_data_in_leaf is set=120, min_child_samples=20 will be ignored. Current value: min_data_in_leaf=120\n",
      "[LightGBM] [Warning] bagging_fraction is set=0.5, subsample=1.0 will be ignored. Current value: bagging_fraction=0.5\n",
      "\n",
      "LGBMClassifier() \n",
      " {'boosting_type': 'gbdt', 'class_weight': None, 'colsample_bytree': 1.0, 'importance_type': 'split', 'learning_rate': 0.1, 'max_depth': 10, 'min_child_samples': 20, 'min_child_weight': 0.001, 'min_split_gain': 0.0, 'n_estimators': 100, 'n_jobs': -1, 'num_leaves': 1200, 'objective': None, 'random_state': None, 'reg_alpha': 0.0, 'reg_lambda': 0.0, 'silent': True, 'subsample': 1.0, 'subsample_for_bin': 200000, 'subsample_freq': 0, 'min_data_in_leaf': 120, 'feature_fraction': 0.8, 'bagging_frequency': 5, 'bagging_fraction': 0.5}\n",
      "\n",
      "<catboost.core.CatBoostClassifier object at 0x000001E0B83255E0> \n",
      " {'iterations': 100, 'learning_rate': 0.04, 'depth': 9, 'verbose': 0}\n",
      "Time elapsed: 2442.870002269745\n"
     ]
    }
   ],
   "source": [
    "start = time.time() #start of the block timer\n",
    "# call the function and pass models one by one \n",
    "#we have defined models and model names earlier ,for ease of coding the same is copied\n",
    "models = [LogisticRegression(max_iter = 1000),DecisionTreeClassifier(),KNeighborsClassifier(n_neighbors=5),\n",
    "          GaussianNB(),RandomForestClassifier(n_estimators=100),XGBClassifier(),LGBMClassifier(),CatBoostClassifier(verbose=0)]\n",
    "\n",
    "model_names = ['LogisticRegression','DecisionTree','KNN','Naive_Bayes','RandomForest','XGB','LGBM','catboost']\n",
    "hyper_score = []\n",
    "hyper_f1 =[]\n",
    "hyper_auc =[]\n",
    "model_params = [logistic_params,dt_params,knn_params,params_NB,rf_params,xg_params,lightgbm_params,cat_params]\n",
    "for i in range(len(models)):\n",
    "    score,f1_score,auc_score = hyper_model(models[i],model_params[i],X_train,y_train,X_test,y_test)\n",
    "    hyper_score.append(score)\n",
    "    hyper_f1.append(f1_score)\n",
    "    hyper_auc.append(auc_score)\n",
    "    \n",
    "end = time.time() #end of block timer\n",
    "print (\"Time elapsed:\", end - start)"
   ]
  },
  {
   "cell_type": "code",
   "execution_count": 118,
   "metadata": {},
   "outputs": [
    {
     "data": {
      "text/html": [
       "<div>\n",
       "<style scoped>\n",
       "    .dataframe tbody tr th:only-of-type {\n",
       "        vertical-align: middle;\n",
       "    }\n",
       "\n",
       "    .dataframe tbody tr th {\n",
       "        vertical-align: top;\n",
       "    }\n",
       "\n",
       "    .dataframe thead th {\n",
       "        text-align: right;\n",
       "    }\n",
       "</style>\n",
       "<table border=\"1\" class=\"dataframe\">\n",
       "  <thead>\n",
       "    <tr style=\"text-align: right;\">\n",
       "      <th></th>\n",
       "      <th>Model</th>\n",
       "      <th>Training_Accuracy</th>\n",
       "      <th>Testing_Accuracy</th>\n",
       "      <th>f1score</th>\n",
       "      <th>auc_roc_score</th>\n",
       "      <th>test_acc_tuned</th>\n",
       "      <th>test_f1_tuned</th>\n",
       "      <th>test_auc_roc_tuned</th>\n",
       "    </tr>\n",
       "  </thead>\n",
       "  <tbody>\n",
       "    <tr>\n",
       "      <th>0</th>\n",
       "      <td>LogisticRegression</td>\n",
       "      <td>0.715804</td>\n",
       "      <td>0.700057</td>\n",
       "      <td>0.779167</td>\n",
       "      <td>0.650839</td>\n",
       "      <td>0.731183</td>\n",
       "      <td>0.799831</td>\n",
       "      <td>0.688645</td>\n",
       "    </tr>\n",
       "    <tr>\n",
       "      <th>1</th>\n",
       "      <td>DecisionTree</td>\n",
       "      <td>0.999748</td>\n",
       "      <td>0.766836</td>\n",
       "      <td>0.813406</td>\n",
       "      <td>0.753508</td>\n",
       "      <td>0.794567</td>\n",
       "      <td>0.843871</td>\n",
       "      <td>0.764507</td>\n",
       "    </tr>\n",
       "    <tr>\n",
       "      <th>2</th>\n",
       "      <td>KNN</td>\n",
       "      <td>0.743664</td>\n",
       "      <td>0.628183</td>\n",
       "      <td>0.724066</td>\n",
       "      <td>0.576624</td>\n",
       "      <td>0.657046</td>\n",
       "      <td>0.746018</td>\n",
       "      <td>0.606850</td>\n",
       "    </tr>\n",
       "    <tr>\n",
       "      <th>3</th>\n",
       "      <td>Naive_Bayes</td>\n",
       "      <td>0.714546</td>\n",
       "      <td>0.698925</td>\n",
       "      <td>0.739980</td>\n",
       "      <td>0.706546</td>\n",
       "      <td>0.753254</td>\n",
       "      <td>0.821604</td>\n",
       "      <td>0.700957</td>\n",
       "    </tr>\n",
       "    <tr>\n",
       "      <th>4</th>\n",
       "      <td>RandomForest</td>\n",
       "      <td>0.999748</td>\n",
       "      <td>0.813243</td>\n",
       "      <td>0.853594</td>\n",
       "      <td>0.796002</td>\n",
       "      <td>0.820034</td>\n",
       "      <td>0.861257</td>\n",
       "      <td>0.797193</td>\n",
       "    </tr>\n",
       "    <tr>\n",
       "      <th>5</th>\n",
       "      <td>XGB</td>\n",
       "      <td>0.935161</td>\n",
       "      <td>0.826259</td>\n",
       "      <td>0.863858</td>\n",
       "      <td>0.809835</td>\n",
       "      <td>0.829655</td>\n",
       "      <td>0.867342</td>\n",
       "      <td>0.811235</td>\n",
       "    </tr>\n",
       "    <tr>\n",
       "      <th>6</th>\n",
       "      <td>LGBM</td>\n",
       "      <td>0.878561</td>\n",
       "      <td>0.835314</td>\n",
       "      <td>0.869682</td>\n",
       "      <td>0.823108</td>\n",
       "      <td>0.830787</td>\n",
       "      <td>0.866934</td>\n",
       "      <td>0.815989</td>\n",
       "    </tr>\n",
       "    <tr>\n",
       "      <th>7</th>\n",
       "      <td>catboost</td>\n",
       "      <td>0.888686</td>\n",
       "      <td>0.826259</td>\n",
       "      <td>0.863858</td>\n",
       "      <td>0.809835</td>\n",
       "      <td>0.822864</td>\n",
       "      <td>0.863735</td>\n",
       "      <td>0.799431</td>\n",
       "    </tr>\n",
       "  </tbody>\n",
       "</table>\n",
       "</div>"
      ],
      "text/plain": [
       "                Model  Training_Accuracy  Testing_Accuracy   f1score  \\\n",
       "0  LogisticRegression           0.715804          0.700057  0.779167   \n",
       "1        DecisionTree           0.999748          0.766836  0.813406   \n",
       "2                 KNN           0.743664          0.628183  0.724066   \n",
       "3         Naive_Bayes           0.714546          0.698925  0.739980   \n",
       "4        RandomForest           0.999748          0.813243  0.853594   \n",
       "5                 XGB           0.935161          0.826259  0.863858   \n",
       "6                LGBM           0.878561          0.835314  0.869682   \n",
       "7            catboost           0.888686          0.826259  0.863858   \n",
       "\n",
       "   auc_roc_score  test_acc_tuned  test_f1_tuned  test_auc_roc_tuned  \n",
       "0       0.650839        0.731183       0.799831            0.688645  \n",
       "1       0.753508        0.794567       0.843871            0.764507  \n",
       "2       0.576624        0.657046       0.746018            0.606850  \n",
       "3       0.706546        0.753254       0.821604            0.700957  \n",
       "4       0.796002        0.820034       0.861257            0.797193  \n",
       "5       0.809835        0.829655       0.867342            0.811235  \n",
       "6       0.823108        0.830787       0.866934            0.815989  \n",
       "7       0.809835        0.822864       0.863735            0.799431  "
      ]
     },
     "metadata": {},
     "output_type": "display_data"
    }
   ],
   "source": [
    "acc_df['test_acc_tuned'] = pd.Series(hyper_score)\n",
    "acc_df['test_f1_tuned'] = pd.Series(hyper_f1)\n",
    "acc_df['test_auc_roc_tuned'] = pd.Series(hyper_auc)\n",
    "display(acc_df)"
   ]
  },
  {
   "cell_type": "markdown",
   "metadata": {},
   "source": [
    "- we can see that  XGb,LGBM model, catboost and RandomForest models have performed relatively better than other models we have considered.\n",
    "- Post hyperparameter tuning the model peroformance has improved marginally \n",
    "- The hyperparameter tuning run has almost taken an hour and half using RandomizedSearchCV(). It is expected to take more time for GridSearchCV()\n",
    "- view computation time involved, we will shortlist the further iterations only with  shortlisted models "
   ]
  },
  {
   "cell_type": "markdown",
   "metadata": {},
   "source": [
    "### Iteration Run 3 : Use Feature Selection with shortlisted models "
   ]
  },
  {
   "cell_type": "markdown",
   "metadata": {},
   "source": [
    "- We will use Boruta (refernce 4) as a library for feature selection and explore the feasibility of reducing the number of attributes to increase model performance.\n",
    "- There are a couple of model selection algorithms available like RFE,SelectKBest,etc and there is no single answer as to what is the best feature selection algorothm for the project. The study of literature available indicates Boruta as one of the libraries available for this process.\n",
    "\n",
    "- we will use shortlisted 4 models to fit on  train data and generate feature rankings . We will evaluate the model with reduced features and comapre with earlier versions \n",
    "\n",
    "- Boruta tries to capture all the important  features  in the dataset with respect to Survived column. Boruta by default uses random forest although it works with other algorithms like LightGBM, XGBoost etc.\n",
    "\n",
    "- we can install Boruta using !pip install Boruta\n",
    "\n",
    "- The BorutaPy accepts numpy arrays and hence X_train and y_train must be converted to numpy ararys"
   ]
  },
  {
   "cell_type": "code",
   "execution_count": 121,
   "metadata": {},
   "outputs": [
    {
     "data": {
      "text/plain": [
       "['Diagnosed_Condition',\n",
       " 'Patient_ID',\n",
       " 'Patient_Age',\n",
       " 'Patient_Body_Mass_Index',\n",
       " 'A',\n",
       " 'B',\n",
       " 'C',\n",
       " 'D',\n",
       " 'E',\n",
       " 'F',\n",
       " 'Z',\n",
       " 'Number_of_prev_cond',\n",
       " 'DX1',\n",
       " 'DX2',\n",
       " 'DX3',\n",
       " 'DX4',\n",
       " 'DX5',\n",
       " 'DX6',\n",
       " 'Patient_Smoker_NO',\n",
       " 'Patient_Smoker_YES',\n",
       " 'Patient_Rural_Urban_RURAL',\n",
       " 'Patient_Rural_Urban_URBAN',\n",
       " 'No_of_treatment_drugs']"
      ]
     },
     "execution_count": 121,
     "metadata": {},
     "output_type": "execute_result"
    }
   ],
   "source": [
    "org_train_col_list = list(X_train.columns) # list of orginal attributes\n",
    "org_train_col_list"
   ]
  },
  {
   "cell_type": "code",
   "execution_count": 122,
   "metadata": {
    "scrolled": true
   },
   "outputs": [
    {
     "name": "stdout",
     "output_type": "stream",
     "text": [
      "Iteration: \t1 / 100\n",
      "Confirmed: \t0\n",
      "Tentative: \t23\n",
      "Rejected: \t0\n",
      "Iteration: \t2 / 100\n",
      "Confirmed: \t0\n",
      "Tentative: \t23\n",
      "Rejected: \t0\n",
      "Iteration: \t3 / 100\n",
      "Confirmed: \t0\n",
      "Tentative: \t23\n",
      "Rejected: \t0\n",
      "Iteration: \t4 / 100\n",
      "Confirmed: \t0\n",
      "Tentative: \t23\n",
      "Rejected: \t0\n",
      "Iteration: \t5 / 100\n",
      "Confirmed: \t0\n",
      "Tentative: \t23\n",
      "Rejected: \t0\n",
      "Iteration: \t6 / 100\n",
      "Confirmed: \t0\n",
      "Tentative: \t23\n",
      "Rejected: \t0\n",
      "Iteration: \t7 / 100\n",
      "Confirmed: \t0\n",
      "Tentative: \t23\n",
      "Rejected: \t0\n",
      "Iteration: \t8 / 100\n",
      "Confirmed: \t21\n",
      "Tentative: \t0\n",
      "Rejected: \t2\n",
      "\n",
      "\n",
      "BorutaPy finished running.\n",
      "\n",
      "Iteration: \t9 / 100\n",
      "Confirmed: \t21\n",
      "Tentative: \t0\n",
      "Rejected: \t2\n"
     ]
    },
    {
     "data": {
      "text/plain": [
       "BorutaPy(estimator=RandomForestClassifier(max_depth=5, n_estimators=135,\n",
       "                                          random_state=RandomState(MT19937) at 0x1E0B8CC8240),\n",
       "         n_estimators='auto', perc=80,\n",
       "         random_state=RandomState(MT19937) at 0x1E0B8CC8240, verbose=2)"
      ]
     },
     "execution_count": 122,
     "metadata": {},
     "output_type": "execute_result"
    }
   ],
   "source": [
    "from boruta import BorutaPy\n",
    "rfc = RandomForestClassifier(random_state=42, n_estimators=1000, max_depth=5) #default model for Boruta\n",
    "boruta_selector = BorutaPy(rfc, n_estimators='auto', verbose=2,perc=80,random_state=42)   # initialize the boruta selector\n",
    "boruta_selector.fit(np.array(X_train), np.array(y_train))       # fitting the boruta selector to get all relavent features. \n",
    "\n"
   ]
  },
  {
   "cell_type": "code",
   "execution_count": 123,
   "metadata": {},
   "outputs": [
    {
     "name": "stdout",
     "output_type": "stream",
     "text": [
      "Selected Features:  [ True  True  True  True  True  True  True  True  True False False  True\n",
      "  True  True  True  True  True  True  True  True  True  True  True]\n",
      "Ranking:  [1 1 1 1 1 1 1 1 1 2 3 1 1 1 1 1 1 1 1 1 1 1 1]\n",
      "No. of significant features:  21\n"
     ]
    }
   ],
   "source": [
    "print(\"Selected Features: \", boruta_selector.support_)    # check selected features\n",
    " \n",
    "\n",
    "print(\"Ranking: \",boruta_selector.ranking_)               # check ranking of features\n",
    "\n",
    "print(\"No. of significant features: \", boruta_selector.n_features_)"
   ]
  },
  {
   "cell_type": "code",
   "execution_count": 127,
   "metadata": {},
   "outputs": [
    {
     "data": {
      "text/html": [
       "<div>\n",
       "<style scoped>\n",
       "    .dataframe tbody tr th:only-of-type {\n",
       "        vertical-align: middle;\n",
       "    }\n",
       "\n",
       "    .dataframe tbody tr th {\n",
       "        vertical-align: top;\n",
       "    }\n",
       "\n",
       "    .dataframe thead th {\n",
       "        text-align: right;\n",
       "    }\n",
       "</style>\n",
       "<table border=\"1\" class=\"dataframe\">\n",
       "  <thead>\n",
       "    <tr style=\"text-align: right;\">\n",
       "      <th></th>\n",
       "      <th>Feature</th>\n",
       "      <th>Ranking</th>\n",
       "    </tr>\n",
       "  </thead>\n",
       "  <tbody>\n",
       "    <tr>\n",
       "      <th>0</th>\n",
       "      <td>Diagnosed_Condition</td>\n",
       "      <td>1</td>\n",
       "    </tr>\n",
       "    <tr>\n",
       "      <th>1</th>\n",
       "      <td>Patient_Rural_Urban_RURAL</td>\n",
       "      <td>1</td>\n",
       "    </tr>\n",
       "    <tr>\n",
       "      <th>2</th>\n",
       "      <td>Patient_Smoker_YES</td>\n",
       "      <td>1</td>\n",
       "    </tr>\n",
       "    <tr>\n",
       "      <th>3</th>\n",
       "      <td>Patient_Smoker_NO</td>\n",
       "      <td>1</td>\n",
       "    </tr>\n",
       "    <tr>\n",
       "      <th>4</th>\n",
       "      <td>DX6</td>\n",
       "      <td>1</td>\n",
       "    </tr>\n",
       "    <tr>\n",
       "      <th>5</th>\n",
       "      <td>DX5</td>\n",
       "      <td>1</td>\n",
       "    </tr>\n",
       "    <tr>\n",
       "      <th>6</th>\n",
       "      <td>DX4</td>\n",
       "      <td>1</td>\n",
       "    </tr>\n",
       "    <tr>\n",
       "      <th>7</th>\n",
       "      <td>DX3</td>\n",
       "      <td>1</td>\n",
       "    </tr>\n",
       "    <tr>\n",
       "      <th>8</th>\n",
       "      <td>DX2</td>\n",
       "      <td>1</td>\n",
       "    </tr>\n",
       "    <tr>\n",
       "      <th>9</th>\n",
       "      <td>DX1</td>\n",
       "      <td>1</td>\n",
       "    </tr>\n",
       "    <tr>\n",
       "      <th>10</th>\n",
       "      <td>Patient_Rural_Urban_URBAN</td>\n",
       "      <td>1</td>\n",
       "    </tr>\n",
       "    <tr>\n",
       "      <th>11</th>\n",
       "      <td>Number_of_prev_cond</td>\n",
       "      <td>1</td>\n",
       "    </tr>\n",
       "    <tr>\n",
       "      <th>12</th>\n",
       "      <td>E</td>\n",
       "      <td>1</td>\n",
       "    </tr>\n",
       "    <tr>\n",
       "      <th>13</th>\n",
       "      <td>D</td>\n",
       "      <td>1</td>\n",
       "    </tr>\n",
       "    <tr>\n",
       "      <th>14</th>\n",
       "      <td>C</td>\n",
       "      <td>1</td>\n",
       "    </tr>\n",
       "    <tr>\n",
       "      <th>15</th>\n",
       "      <td>B</td>\n",
       "      <td>1</td>\n",
       "    </tr>\n",
       "    <tr>\n",
       "      <th>16</th>\n",
       "      <td>A</td>\n",
       "      <td>1</td>\n",
       "    </tr>\n",
       "    <tr>\n",
       "      <th>17</th>\n",
       "      <td>Patient_Body_Mass_Index</td>\n",
       "      <td>1</td>\n",
       "    </tr>\n",
       "    <tr>\n",
       "      <th>18</th>\n",
       "      <td>Patient_Age</td>\n",
       "      <td>1</td>\n",
       "    </tr>\n",
       "    <tr>\n",
       "      <th>19</th>\n",
       "      <td>Patient_ID</td>\n",
       "      <td>1</td>\n",
       "    </tr>\n",
       "    <tr>\n",
       "      <th>20</th>\n",
       "      <td>No_of_treatment_drugs</td>\n",
       "      <td>1</td>\n",
       "    </tr>\n",
       "    <tr>\n",
       "      <th>21</th>\n",
       "      <td>F</td>\n",
       "      <td>2</td>\n",
       "    </tr>\n",
       "    <tr>\n",
       "      <th>22</th>\n",
       "      <td>Z</td>\n",
       "      <td>3</td>\n",
       "    </tr>\n",
       "  </tbody>\n",
       "</table>\n",
       "</div>"
      ],
      "text/plain": [
       "                      Feature  Ranking\n",
       "0         Diagnosed_Condition        1\n",
       "1   Patient_Rural_Urban_RURAL        1\n",
       "2          Patient_Smoker_YES        1\n",
       "3           Patient_Smoker_NO        1\n",
       "4                         DX6        1\n",
       "5                         DX5        1\n",
       "6                         DX4        1\n",
       "7                         DX3        1\n",
       "8                         DX2        1\n",
       "9                         DX1        1\n",
       "10  Patient_Rural_Urban_URBAN        1\n",
       "11        Number_of_prev_cond        1\n",
       "12                          E        1\n",
       "13                          D        1\n",
       "14                          C        1\n",
       "15                          B        1\n",
       "16                          A        1\n",
       "17    Patient_Body_Mass_Index        1\n",
       "18                Patient_Age        1\n",
       "19                 Patient_ID        1\n",
       "20      No_of_treatment_drugs        1\n",
       "21                          F        2\n",
       "22                          Z        3"
      ]
     },
     "execution_count": 127,
     "metadata": {},
     "output_type": "execute_result"
    }
   ],
   "source": [
    "select_features_df = pd.DataFrame({'Feature':list(X_train.columns),\n",
    "                                      'Ranking':boruta_selector.ranking_})\n",
    "select_features_df= select_features_df.sort_values(by='Ranking').reset_index(drop='first')\n",
    "select_features_df"
   ]
  },
  {
   "cell_type": "code",
   "execution_count": 129,
   "metadata": {},
   "outputs": [
    {
     "data": {
      "text/plain": [
       "array(['Diagnosed_Condition', 'Patient_Rural_Urban_RURAL',\n",
       "       'Patient_Smoker_YES', 'Patient_Smoker_NO', 'DX6', 'DX5', 'DX4',\n",
       "       'DX3', 'DX2', 'DX1', 'Patient_Rural_Urban_URBAN',\n",
       "       'Number_of_prev_cond', 'E', 'D', 'C', 'B', 'A',\n",
       "       'Patient_Body_Mass_Index', 'Patient_Age', 'Patient_ID'],\n",
       "      dtype=object)"
      ]
     },
     "execution_count": 129,
     "metadata": {},
     "output_type": "execute_result"
    }
   ],
   "source": [
    "select_features_df.iloc[:20,:].Feature.unique()"
   ]
  },
  {
   "cell_type": "markdown",
   "metadata": {},
   "source": [
    "- we can see that 21 features have been selected out of 22 features in training dataset\n",
    "- the attribute perc is a trade off between stringent selection and number of attributes selected.\n",
    "- we will modify training and test data set to include the above attributes and build a shortlisted model on the same"
   ]
  },
  {
   "cell_type": "code",
   "execution_count": 130,
   "metadata": {},
   "outputs": [],
   "source": [
    "#create training and test dataset with important features\n",
    "X_important_train = boruta_selector.transform(np.array(X_train))\n",
    "X_important_test = boruta_selector.transform(np.array(X_test))"
   ]
  },
  {
   "cell_type": "code",
   "execution_count": 133,
   "metadata": {},
   "outputs": [],
   "source": [
    "X_imp_cols = ['Diagnosed_Condition', 'Patient_ID', 'Patient_Age',\n",
    "       'Patient_Body_Mass_Index', 'A', 'B', 'C', 'D', 'E',\n",
    "       'Number_of_prev_cond', 'DX1', 'DX2', 'DX3', 'DX4', 'DX5', 'DX6',\n",
    "       'Patient_Smoker_NO', 'Patient_Smoker_YES', 'Patient_Rural_Urban_RURAL',\n",
    "       'Patient_Rural_Urban_URBAN', 'No_of_treatment_drugs']"
   ]
  },
  {
   "cell_type": "code",
   "execution_count": 134,
   "metadata": {},
   "outputs": [
    {
     "data": {
      "text/plain": [
       "21"
      ]
     },
     "execution_count": 134,
     "metadata": {},
     "output_type": "execute_result"
    }
   ],
   "source": [
    "len(X_imp_cols)"
   ]
  },
  {
   "cell_type": "code",
   "execution_count": 131,
   "metadata": {},
   "outputs": [
    {
     "data": {
      "text/plain": [
       "array([3.90000000e+01, 1.02320000e+04, 1.00000000e+01, 1.88163325e+01,\n",
       "       1.00000000e+00, 0.00000000e+00, 0.00000000e+00, 0.00000000e+00,\n",
       "       0.00000000e+00, 1.00000000e+00, 0.00000000e+00, 0.00000000e+00,\n",
       "       1.00000000e+00, 0.00000000e+00, 0.00000000e+00, 0.00000000e+00,\n",
       "       1.00000000e+00, 0.00000000e+00, 1.00000000e+00, 0.00000000e+00,\n",
       "       1.00000000e+00])"
      ]
     },
     "execution_count": 131,
     "metadata": {},
     "output_type": "execute_result"
    }
   ],
   "source": [
    "X_important_train[0] # checking numpy array"
   ]
  },
  {
   "cell_type": "code",
   "execution_count": 135,
   "metadata": {},
   "outputs": [],
   "source": [
    "#convert X_important_train and X_importnat_test to dataframe for easy manipulation\n",
    "X_important_train = pd.DataFrame(X_important_train, columns = X_imp_cols)\n",
    "X_important_test = pd.DataFrame(X_important_test, columns = X_imp_cols)"
   ]
  },
  {
   "cell_type": "code",
   "execution_count": 137,
   "metadata": {},
   "outputs": [
    {
     "data": {
      "text/html": [
       "<div>\n",
       "<style scoped>\n",
       "    .dataframe tbody tr th:only-of-type {\n",
       "        vertical-align: middle;\n",
       "    }\n",
       "\n",
       "    .dataframe tbody tr th {\n",
       "        vertical-align: top;\n",
       "    }\n",
       "\n",
       "    .dataframe thead th {\n",
       "        text-align: right;\n",
       "    }\n",
       "</style>\n",
       "<table border=\"1\" class=\"dataframe\">\n",
       "  <thead>\n",
       "    <tr style=\"text-align: right;\">\n",
       "      <th></th>\n",
       "      <th>Diagnosed_Condition</th>\n",
       "      <th>Patient_ID</th>\n",
       "      <th>Patient_Age</th>\n",
       "      <th>Patient_Body_Mass_Index</th>\n",
       "      <th>A</th>\n",
       "      <th>B</th>\n",
       "      <th>C</th>\n",
       "      <th>D</th>\n",
       "      <th>E</th>\n",
       "      <th>Number_of_prev_cond</th>\n",
       "      <th>...</th>\n",
       "      <th>DX2</th>\n",
       "      <th>DX3</th>\n",
       "      <th>DX4</th>\n",
       "      <th>DX5</th>\n",
       "      <th>DX6</th>\n",
       "      <th>Patient_Smoker_NO</th>\n",
       "      <th>Patient_Smoker_YES</th>\n",
       "      <th>Patient_Rural_Urban_RURAL</th>\n",
       "      <th>Patient_Rural_Urban_URBAN</th>\n",
       "      <th>No_of_treatment_drugs</th>\n",
       "    </tr>\n",
       "  </thead>\n",
       "  <tbody>\n",
       "    <tr>\n",
       "      <th>0</th>\n",
       "      <td>39.0</td>\n",
       "      <td>10232.0</td>\n",
       "      <td>10.0</td>\n",
       "      <td>18.816332</td>\n",
       "      <td>1.0</td>\n",
       "      <td>0.0</td>\n",
       "      <td>0.0</td>\n",
       "      <td>0.0</td>\n",
       "      <td>0.0</td>\n",
       "      <td>1.0</td>\n",
       "      <td>...</td>\n",
       "      <td>0.0</td>\n",
       "      <td>1.0</td>\n",
       "      <td>0.0</td>\n",
       "      <td>0.0</td>\n",
       "      <td>0.0</td>\n",
       "      <td>1.0</td>\n",
       "      <td>0.0</td>\n",
       "      <td>1.0</td>\n",
       "      <td>0.0</td>\n",
       "      <td>1.0</td>\n",
       "    </tr>\n",
       "    <tr>\n",
       "      <th>1</th>\n",
       "      <td>9.0</td>\n",
       "      <td>8237.0</td>\n",
       "      <td>30.0</td>\n",
       "      <td>27.483251</td>\n",
       "      <td>1.0</td>\n",
       "      <td>0.0</td>\n",
       "      <td>1.0</td>\n",
       "      <td>0.0</td>\n",
       "      <td>0.0</td>\n",
       "      <td>2.0</td>\n",
       "      <td>...</td>\n",
       "      <td>0.0</td>\n",
       "      <td>0.0</td>\n",
       "      <td>0.0</td>\n",
       "      <td>0.0</td>\n",
       "      <td>1.0</td>\n",
       "      <td>1.0</td>\n",
       "      <td>0.0</td>\n",
       "      <td>1.0</td>\n",
       "      <td>0.0</td>\n",
       "      <td>1.0</td>\n",
       "    </tr>\n",
       "  </tbody>\n",
       "</table>\n",
       "<p>2 rows × 21 columns</p>\n",
       "</div>"
      ],
      "text/plain": [
       "   Diagnosed_Condition  Patient_ID  Patient_Age  Patient_Body_Mass_Index    A  \\\n",
       "0                 39.0     10232.0         10.0                18.816332  1.0   \n",
       "1                  9.0      8237.0         30.0                27.483251  1.0   \n",
       "\n",
       "     B    C    D    E  Number_of_prev_cond  ...  DX2  DX3  DX4  DX5  DX6  \\\n",
       "0  0.0  0.0  0.0  0.0                  1.0  ...  0.0  1.0  0.0  0.0  0.0   \n",
       "1  0.0  1.0  0.0  0.0                  2.0  ...  0.0  0.0  0.0  0.0  1.0   \n",
       "\n",
       "   Patient_Smoker_NO  Patient_Smoker_YES  Patient_Rural_Urban_RURAL  \\\n",
       "0                1.0                 0.0                        1.0   \n",
       "1                1.0                 0.0                        1.0   \n",
       "\n",
       "   Patient_Rural_Urban_URBAN  No_of_treatment_drugs  \n",
       "0                        0.0                    1.0  \n",
       "1                        0.0                    1.0  \n",
       "\n",
       "[2 rows x 21 columns]"
      ]
     },
     "execution_count": 137,
     "metadata": {},
     "output_type": "execute_result"
    }
   ],
   "source": [
    "X_important_train.head(2)"
   ]
  },
  {
   "cell_type": "code",
   "execution_count": 138,
   "metadata": {},
   "outputs": [
    {
     "name": "stdout",
     "output_type": "stream",
     "text": [
      "Accuracy for RF on selected features 0.8245614035087719\n",
      "F1 score for RF on selected features 0.8647469458987784\n",
      "auc_roc_score for RF on selected features 0.8020604641553613\n"
     ]
    }
   ],
   "source": [
    "# we will use shortlisted model with above transformed dataset\n",
    "# we will start with RandomFores\n",
    "rf_imp = RandomForestClassifier(bootstrap= True,ccp_alpha= 0.0, class_weight= None, criterion= 'gini',\n",
    "                                max_depth= 15, max_features= 'sqrt', max_leaf_nodes= None, max_samples= None, \n",
    "                                min_impurity_decrease= 0.0, min_impurity_split= None,min_samples_leaf= 2,\n",
    "                                min_samples_split= 2,min_weight_fraction_leaf= 0.0,n_estimators= 800,n_jobs= None,\n",
    "                                oob_score= False,random_state=42,verbose= 0,warm_start= False)\n",
    "# Train the new classifier on the new dataset containing the most important features\n",
    "rf_imp.fit(X_important_train, y_train)\n",
    "y_pred_imp = rf_imp.predict(X_important_test)\n",
    "#accuracy of model,f1 score ,auc_roc_score\n",
    "print('Accuracy for RF on selected features',metrics.accuracy_score(y_test,y_pred_imp))\n",
    "print('F1 score for RF on selected features',metrics.f1_score(y_test,y_pred_imp))\n",
    "print('auc_roc_score for RF on selected features',metrics.roc_auc_score(y_test,y_pred_imp))"
   ]
  },
  {
   "cell_type": "code",
   "execution_count": 139,
   "metadata": {},
   "outputs": [
    {
     "name": "stdout",
     "output_type": "stream",
     "text": [
      "[00:28:00] WARNING: C:/Users/Administrator/workspace/xgboost-win64_release_1.3.0/src/learner.cc:1061: Starting in XGBoost 1.3.0, the default evaluation metric used with the objective 'binary:logistic' was changed from 'error' to 'logloss'. Explicitly set eval_metric if you'd like to restore the old behavior.\n",
      "Accuracy for XGB on selected features 0.8285229202037352\n",
      "F1 score for XGB on selected features 0.8659885006634233\n",
      "auc_roc_score for XGB on selected features 0.8113043178844432\n"
     ]
    }
   ],
   "source": [
    "# we will use XGBoost model on selected features\n",
    "xg_imp = XGBClassifier(objective='binary:logistic',use_label_encoder=True,base_score=0.5, booster='gbtree', colsample_bylevel=1,\n",
    "              colsample_bynode=1, colsample_bytree=0.5, gamma=0.1,\n",
    "              gpu_id=-1, importance_type='gain', interaction_constraints=None,\n",
    "              learning_rate=0.3, max_delta_step=0, max_depth=4,\n",
    "              min_child_weight=7, missing=np.nan, monotone_constraints='()',\n",
    "              n_estimators=100, n_jobs=4, num_parallel_tree=1,\n",
    "              random_state=42, reg_alpha=0, reg_lambda=1,\n",
    "              scale_pos_weight=1, subsample=1, tree_method='exact',\n",
    "              validate_parameters=1, verbosity=None) \n",
    "# Train the new classifier on the new dataset containing the most important features\n",
    "xg_imp.fit(X_important_train, y_train)\n",
    "y_pred_imp_xg = xg_imp.predict(X_important_test)\n",
    "#accuracy of model,f1 score ,auc_roc_score\n",
    "print('Accuracy for XGB on selected features',metrics.accuracy_score(y_test,y_pred_imp_xg))\n",
    "print('F1 score for XGB on selected features',metrics.f1_score(y_test,y_pred_imp_xg))\n",
    "print('auc_roc_score for XGB on selected features',metrics.roc_auc_score(y_test,y_pred_imp_xg))"
   ]
  },
  {
   "cell_type": "code",
   "execution_count": 140,
   "metadata": {},
   "outputs": [
    {
     "name": "stdout",
     "output_type": "stream",
     "text": [
      "[LightGBM] [Warning] Unknown parameter: bagging_frequency\n",
      "[LightGBM] [Warning] feature_fraction is set=0.8, colsample_bytree=1.0 will be ignored. Current value: feature_fraction=0.8\n",
      "[LightGBM] [Warning] min_data_in_leaf is set=120, min_child_samples=20 will be ignored. Current value: min_data_in_leaf=120\n",
      "[LightGBM] [Warning] bagging_fraction is set=0.5, subsample=1.0 will be ignored. Current value: bagging_fraction=0.5\n",
      "Accuracy for LGBM on selected features 0.8324844368986983\n",
      "F1 score for LGBM on selected features 0.8680926916221035\n",
      "auc_roc_score for LGBM on selected features 0.8182969492459196\n"
     ]
    }
   ],
   "source": [
    "# we will use LGBM on the select features\n",
    "lgbm_imp = LGBMClassifier(boosting_type= 'gbdt', class_weight= None, colsample_bytree= 1.0,importance_type= 'split',\n",
    "                          learning_rate=0.1, max_depth= 10,min_child_samples= 20, min_child_weight= 0.001,\n",
    "                          min_split_gain= 0.0,n_estimators= 100,n_jobs= -1,num_leaves=1200,objective= None, \n",
    "                          random_state=42, reg_alpha= 0.0,reg_lambda= 0.0,silent=True,subsample= 1.0,\n",
    "                          subsample_for_bin= 200000,subsample_freq= 0,min_data_in_leaf= 120,\n",
    "                          feature_fraction= 0.8,bagging_frequency= 5,bagging_fraction= 0.5)\n",
    "# Train the new classifier on the new dataset containing the most important features\n",
    "lgbm_imp.fit(X_important_train, y_train)\n",
    "y_pred_imp_lgbm = lgbm_imp.predict(X_important_test)\n",
    "#accuracy of model,f1 score ,auc_roc_score\n",
    "print('Accuracy for LGBM on selected features',metrics.accuracy_score(y_test,y_pred_imp_lgbm))\n",
    "print('F1 score for LGBM on selected features',metrics.f1_score(y_test,y_pred_imp_lgbm))\n",
    "print('auc_roc_score for LGBM on selected features',metrics.roc_auc_score(y_test,y_pred_imp_lgbm))"
   ]
  },
  {
   "cell_type": "code",
   "execution_count": 141,
   "metadata": {},
   "outputs": [
    {
     "name": "stdout",
     "output_type": "stream",
     "text": [
      "Accuracy for CatBoost on selected features 0.8251273344651953\n",
      "F1 score for CatBoost on selected features 0.865359477124183\n",
      "auc_roc_score for CatBoost on selected features 0.8021864885338477\n"
     ]
    }
   ],
   "source": [
    "# we will use catboost model on selected features\n",
    "cat_imp = CatBoostClassifier(iterations=100,learning_rate=0.04,depth=9,verbose=0)\n",
    "# Train the new classifier on the new dataset containing the most important features\n",
    "cat_imp.fit(X_important_train, y_train)\n",
    "y_pred_imp_cat = cat_imp.predict(X_important_test)\n",
    "#accuracy of model,f1 score ,auc_roc_score\n",
    "print('Accuracy for CatBoost on selected features',metrics.accuracy_score(y_test,y_pred_imp_cat))\n",
    "print('F1 score for CatBoost on selected features',metrics.f1_score(y_test,y_pred_imp_cat))\n",
    "print('auc_roc_score for CatBoost on selected features',metrics.roc_auc_score(y_test,y_pred_imp_cat))"
   ]
  },
  {
   "cell_type": "code",
   "execution_count": 142,
   "metadata": {},
   "outputs": [
    {
     "data": {
      "text/html": [
       "<div>\n",
       "<style scoped>\n",
       "    .dataframe tbody tr th:only-of-type {\n",
       "        vertical-align: middle;\n",
       "    }\n",
       "\n",
       "    .dataframe tbody tr th {\n",
       "        vertical-align: top;\n",
       "    }\n",
       "\n",
       "    .dataframe thead th {\n",
       "        text-align: right;\n",
       "    }\n",
       "</style>\n",
       "<table border=\"1\" class=\"dataframe\">\n",
       "  <thead>\n",
       "    <tr style=\"text-align: right;\">\n",
       "      <th></th>\n",
       "      <th>Model</th>\n",
       "      <th>Training_Accuracy</th>\n",
       "      <th>Testing_Accuracy</th>\n",
       "      <th>f1score</th>\n",
       "      <th>auc_roc_score</th>\n",
       "      <th>test_acc_tuned</th>\n",
       "      <th>test_f1_tuned</th>\n",
       "      <th>test_auc_roc_tuned</th>\n",
       "      <th>test_acc_imp</th>\n",
       "      <th>test_f1_imp</th>\n",
       "      <th>test_auc_roc_imp</th>\n",
       "    </tr>\n",
       "  </thead>\n",
       "  <tbody>\n",
       "    <tr>\n",
       "      <th>0</th>\n",
       "      <td>LogisticRegression</td>\n",
       "      <td>0.715804</td>\n",
       "      <td>0.700057</td>\n",
       "      <td>0.779167</td>\n",
       "      <td>0.650839</td>\n",
       "      <td>0.731183</td>\n",
       "      <td>0.799831</td>\n",
       "      <td>0.688645</td>\n",
       "      <td>0.00000</td>\n",
       "      <td>0.00000</td>\n",
       "      <td>0.00000</td>\n",
       "    </tr>\n",
       "    <tr>\n",
       "      <th>1</th>\n",
       "      <td>DecisionTree</td>\n",
       "      <td>0.999748</td>\n",
       "      <td>0.766836</td>\n",
       "      <td>0.813406</td>\n",
       "      <td>0.753508</td>\n",
       "      <td>0.794567</td>\n",
       "      <td>0.843871</td>\n",
       "      <td>0.764507</td>\n",
       "      <td>0.00000</td>\n",
       "      <td>0.00000</td>\n",
       "      <td>0.00000</td>\n",
       "    </tr>\n",
       "    <tr>\n",
       "      <th>2</th>\n",
       "      <td>KNN</td>\n",
       "      <td>0.743664</td>\n",
       "      <td>0.628183</td>\n",
       "      <td>0.724066</td>\n",
       "      <td>0.576624</td>\n",
       "      <td>0.657046</td>\n",
       "      <td>0.746018</td>\n",
       "      <td>0.606850</td>\n",
       "      <td>0.00000</td>\n",
       "      <td>0.00000</td>\n",
       "      <td>0.00000</td>\n",
       "    </tr>\n",
       "    <tr>\n",
       "      <th>3</th>\n",
       "      <td>Naive_Bayes</td>\n",
       "      <td>0.714546</td>\n",
       "      <td>0.698925</td>\n",
       "      <td>0.739980</td>\n",
       "      <td>0.706546</td>\n",
       "      <td>0.753254</td>\n",
       "      <td>0.821604</td>\n",
       "      <td>0.700957</td>\n",
       "      <td>0.00000</td>\n",
       "      <td>0.00000</td>\n",
       "      <td>0.00000</td>\n",
       "    </tr>\n",
       "    <tr>\n",
       "      <th>4</th>\n",
       "      <td>RandomForest</td>\n",
       "      <td>0.999748</td>\n",
       "      <td>0.813243</td>\n",
       "      <td>0.853594</td>\n",
       "      <td>0.796002</td>\n",
       "      <td>0.820034</td>\n",
       "      <td>0.861257</td>\n",
       "      <td>0.797193</td>\n",
       "      <td>0.82456</td>\n",
       "      <td>0.86474</td>\n",
       "      <td>0.80206</td>\n",
       "    </tr>\n",
       "    <tr>\n",
       "      <th>5</th>\n",
       "      <td>XGB</td>\n",
       "      <td>0.935161</td>\n",
       "      <td>0.826259</td>\n",
       "      <td>0.863858</td>\n",
       "      <td>0.809835</td>\n",
       "      <td>0.829655</td>\n",
       "      <td>0.867342</td>\n",
       "      <td>0.811235</td>\n",
       "      <td>0.82852</td>\n",
       "      <td>0.86598</td>\n",
       "      <td>0.81130</td>\n",
       "    </tr>\n",
       "    <tr>\n",
       "      <th>6</th>\n",
       "      <td>LGBM</td>\n",
       "      <td>0.878561</td>\n",
       "      <td>0.835314</td>\n",
       "      <td>0.869682</td>\n",
       "      <td>0.823108</td>\n",
       "      <td>0.830787</td>\n",
       "      <td>0.866934</td>\n",
       "      <td>0.815989</td>\n",
       "      <td>0.83248</td>\n",
       "      <td>0.86809</td>\n",
       "      <td>0.81829</td>\n",
       "    </tr>\n",
       "    <tr>\n",
       "      <th>7</th>\n",
       "      <td>catboost</td>\n",
       "      <td>0.888686</td>\n",
       "      <td>0.826259</td>\n",
       "      <td>0.863858</td>\n",
       "      <td>0.809835</td>\n",
       "      <td>0.822864</td>\n",
       "      <td>0.863735</td>\n",
       "      <td>0.799431</td>\n",
       "      <td>0.82512</td>\n",
       "      <td>0.86535</td>\n",
       "      <td>0.80218</td>\n",
       "    </tr>\n",
       "  </tbody>\n",
       "</table>\n",
       "</div>"
      ],
      "text/plain": [
       "                Model  Training_Accuracy  Testing_Accuracy   f1score  \\\n",
       "0  LogisticRegression           0.715804          0.700057  0.779167   \n",
       "1        DecisionTree           0.999748          0.766836  0.813406   \n",
       "2                 KNN           0.743664          0.628183  0.724066   \n",
       "3         Naive_Bayes           0.714546          0.698925  0.739980   \n",
       "4        RandomForest           0.999748          0.813243  0.853594   \n",
       "5                 XGB           0.935161          0.826259  0.863858   \n",
       "6                LGBM           0.878561          0.835314  0.869682   \n",
       "7            catboost           0.888686          0.826259  0.863858   \n",
       "\n",
       "   auc_roc_score  test_acc_tuned  test_f1_tuned  test_auc_roc_tuned  \\\n",
       "0       0.650839        0.731183       0.799831            0.688645   \n",
       "1       0.753508        0.794567       0.843871            0.764507   \n",
       "2       0.576624        0.657046       0.746018            0.606850   \n",
       "3       0.706546        0.753254       0.821604            0.700957   \n",
       "4       0.796002        0.820034       0.861257            0.797193   \n",
       "5       0.809835        0.829655       0.867342            0.811235   \n",
       "6       0.823108        0.830787       0.866934            0.815989   \n",
       "7       0.809835        0.822864       0.863735            0.799431   \n",
       "\n",
       "   test_acc_imp  test_f1_imp  test_auc_roc_imp  \n",
       "0       0.00000      0.00000           0.00000  \n",
       "1       0.00000      0.00000           0.00000  \n",
       "2       0.00000      0.00000           0.00000  \n",
       "3       0.00000      0.00000           0.00000  \n",
       "4       0.82456      0.86474           0.80206  \n",
       "5       0.82852      0.86598           0.81130  \n",
       "6       0.83248      0.86809           0.81829  \n",
       "7       0.82512      0.86535           0.80218  "
      ]
     },
     "execution_count": 142,
     "metadata": {},
     "output_type": "execute_result"
    }
   ],
   "source": [
    "acc_df['test_acc_imp'] = pd.Series([0,0,0,0,0.82456,0.82852,0.83248, 0.82512])\n",
    "acc_df['test_f1_imp']  = pd.Series([0.0,0,0,0,0.86474,0.86598,0.86809,0.86535])\n",
    "acc_df['test_auc_roc_imp'] = pd.Series([0,0,0,0,0.80206,0.81130,0.81829,0.80218])\n",
    "acc_df"
   ]
  },
  {
   "cell_type": "markdown",
   "metadata": {},
   "source": [
    "- We can see that short listed models have a marginal increase in metrics like F1 and auc-roc_score after feature selection\n",
    "- As XGBoost has performed equally well compared to  other models , we will choose XGBoost as our final model for deployment and further prediction(difference is only small) but model execution was fast"
   ]
  },
  {
   "cell_type": "code",
   "execution_count": 143,
   "metadata": {},
   "outputs": [
    {
     "name": "stdout",
     "output_type": "stream",
     "text": [
      "[00:34:44] WARNING: C:/Users/Administrator/workspace/xgboost-win64_release_1.3.0/src/learner.cc:1061: Starting in XGBoost 1.3.0, the default evaluation metric used with the objective 'binary:logistic' was changed from 'error' to 'logloss'. Explicitly set eval_metric if you'd like to restore the old behavior.\n",
      "Test Accuracy for Final XGB model on selected features 0.8285229202037352\n",
      "F1 Score for Final XGB model on selected features 0.8659885006634233\n",
      "Auc_Roc_score for finalXGB on selected features 0.8113043178844432\n"
     ]
    }
   ],
   "source": [
    "# choosing the final model and final fitting on training and evaluation of test set\n",
    "final_model = XGBClassifier(objective='binary:logistic',use_label_encoder=True,base_score=0.5, booster='gbtree', colsample_bylevel=1,\n",
    "              colsample_bynode=1, colsample_bytree=0.5, gamma=0.1,\n",
    "              gpu_id=-1, importance_type='gain', interaction_constraints=None,\n",
    "              learning_rate=0.3, max_delta_step=0, max_depth=4,\n",
    "              min_child_weight=7, missing=np.nan, monotone_constraints='()',\n",
    "              n_estimators=100, n_jobs=4, num_parallel_tree=1,\n",
    "              random_state=42, reg_alpha=0, reg_lambda=1,\n",
    "              scale_pos_weight=1, subsample=1, tree_method='exact',\n",
    "              validate_parameters=1, verbosity=None) \n",
    "# Train the new classifier on the new dataset containing the most important features\n",
    "final_model.fit(X_important_train, y_train)\n",
    "y_pred_final = final_model.predict(X_important_test)\n",
    "#accuracy of model,f1 score ,auc_roc_score\n",
    "print('Test Accuracy for Final XGB model on selected features',metrics.accuracy_score(y_test,y_pred_final))\n",
    "print('F1 Score for Final XGB model on selected features',metrics.f1_score(y_test,y_pred_final))\n",
    "print('Auc_Roc_score for finalXGB on selected features',metrics.roc_auc_score(y_test,y_pred_final))"
   ]
  },
  {
   "cell_type": "code",
   "execution_count": 144,
   "metadata": {},
   "outputs": [
    {
     "name": "stdout",
     "output_type": "stream",
     "text": [
      "\u001b[1m\u001b[32mCLASSIFICATION REPORT FOR FINAL CHOSEN XGBOOST MODEL...\n",
      "\u001b[0m\n",
      "              precision    recall  f1-score   support\n",
      "\n",
      "           0       0.78      0.75      0.76       650\n",
      "           1       0.86      0.88      0.87      1117\n",
      "\n",
      "    accuracy                           0.83      1767\n",
      "   macro avg       0.82      0.81      0.81      1767\n",
      "weighted avg       0.83      0.83      0.83      1767\n",
      "\n"
     ]
    }
   ],
   "source": [
    "# printing classification report\n",
    "print(color('CLASSIFICATION REPORT FOR FINAL CHOSEN XGBOOST MODEL...\\n','green',attrs=['bold']))\n",
    "print(metrics.classification_report(y_test,y_pred_final))"
   ]
  },
  {
   "cell_type": "code",
   "execution_count": 145,
   "metadata": {},
   "outputs": [
    {
     "name": "stdout",
     "output_type": "stream",
     "text": [
      "\u001b[1m\u001b[32mAUC_ROC_CURVE FOR FINAL CHOSEN XGBOOST MODEL...\n",
      "\u001b[0m\n"
     ]
    },
    {
     "data": {
      "image/png": "[encoded data removed]",
      "text/plain": [
       "<Figure size 432x288 with 1 Axes>"
      ]
     },
     "metadata": {},
     "output_type": "display_data"
    }
   ],
   "source": [
    "# Plotting auc_roc_curve\n",
    "print(color('AUC_ROC_CURVE FOR FINAL CHOSEN XGBOOST MODEL...\\n','green',attrs=['bold']))\n",
    "metrics.plot_roc_curve(final_model,X_important_test, y_test,color='g')\n",
    "plt.show()"
   ]
  },
  {
   "cell_type": "code",
   "execution_count": 146,
   "metadata": {
    "scrolled": true
   },
   "outputs": [
    {
     "name": "stdout",
     "output_type": "stream",
     "text": [
      "\u001b[1m\u001b[32mCONFUSION MATRIX FOR FINAL CHOSEN XGBOOST MODEL...\n",
      "\u001b[0m\n"
     ]
    },
    {
     "data": {
      "image/png": "[encoded data removed]",
      "text/plain": [
       "<Figure size 432x288 with 2 Axes>"
      ]
     },
     "metadata": {},
     "output_type": "display_data"
    }
   ],
   "source": [
    "#plotting confusion matrix\n",
    "print(color('CONFUSION MATRIX FOR FINAL CHOSEN XGBOOST MODEL...\\n','green',attrs=['bold']))\n",
    "metrics.plot_confusion_matrix(final_model,X_important_test, y_test,\n",
    "                                 cmap=plt.cm.Blues)\n",
    "                                 \n",
    "plt.show()"
   ]
  },
  {
   "cell_type": "markdown",
   "metadata": {},
   "source": [
    "- The FN is 138 and FP is 165 . As we desired we wanted to keep these numbers as low as possible. \n",
    "- The auc_roc_curve also gave a good output\n",
    "- In the classfication report , precison vs recall trade off has been quite good (for both classes, though recall for not survived could be imporved further )\n"
   ]
  },
  {
   "cell_type": "code",
   "execution_count": 147,
   "metadata": {},
   "outputs": [
    {
     "data": {
      "text/plain": [
       "['patient_survival.pkl']"
      ]
     },
     "execution_count": 147,
     "metadata": {},
     "output_type": "execute_result"
    }
   ],
   "source": [
    "## SAVING THE FINAL MODEL \n",
    "import joblib \n",
    "  \n",
    "# Save the model as a pickle in a file \n",
    "joblib.dump(final_model, 'patient_survival.pkl') \n",
    "  \n"
   ]
  },
  {
   "cell_type": "markdown",
   "metadata": {},
   "source": [
    "## USING THE MODEL TO PREDICT ON UNSEEN VALIDATION DATA "
   ]
  },
  {
   "cell_type": "markdown",
   "metadata": {},
   "source": [
    "- We need to process the validation data through the steps the training data went through and get ready for prediction by model"
   ]
  },
  {
   "cell_type": "code",
   "execution_count": 148,
   "metadata": {},
   "outputs": [
    {
     "data": {
      "text/plain": [
       "((3465, 18), (3465,))"
      ]
     },
     "execution_count": 148,
     "metadata": {},
     "output_type": "execute_result"
    }
   ],
   "source": [
    "X_valid.shape,y_valid.shape"
   ]
  },
  {
   "cell_type": "markdown",
   "metadata": {},
   "source": [
    "### Step 1"
   ]
  },
  {
   "cell_type": "code",
   "execution_count": 149,
   "metadata": {},
   "outputs": [],
   "source": [
    "#  drop Unnamed: 0 columns as it is same as index column\n",
    "X_valid.drop('Unnamed: 0',axis=1,inplace=True)\n"
   ]
  },
  {
   "cell_type": "markdown",
   "metadata": {},
   "source": [
    "### Step 2"
   ]
  },
  {
   "cell_type": "code",
   "execution_count": 150,
   "metadata": {},
   "outputs": [
    {
     "data": {
      "text/html": [
       "<div>\n",
       "<style scoped>\n",
       "    .dataframe tbody tr th:only-of-type {\n",
       "        vertical-align: middle;\n",
       "    }\n",
       "\n",
       "    .dataframe tbody tr th {\n",
       "        vertical-align: top;\n",
       "    }\n",
       "\n",
       "    .dataframe thead th {\n",
       "        text-align: right;\n",
       "    }\n",
       "</style>\n",
       "<table border=\"1\" class=\"dataframe\">\n",
       "  <thead>\n",
       "    <tr style=\"text-align: right;\">\n",
       "      <th></th>\n",
       "      <th>ID_Patient_Care_Situation</th>\n",
       "      <th>Diagnosed_Condition</th>\n",
       "      <th>Patient_ID</th>\n",
       "      <th>Treated_with_drugs</th>\n",
       "      <th>Patient_Age</th>\n",
       "      <th>Patient_Body_Mass_Index</th>\n",
       "      <th>Patient_Smoker</th>\n",
       "      <th>Patient_Rural_Urban</th>\n",
       "      <th>Patient_mental_condition</th>\n",
       "      <th>A</th>\n",
       "      <th>B</th>\n",
       "      <th>C</th>\n",
       "      <th>D</th>\n",
       "      <th>E</th>\n",
       "      <th>F</th>\n",
       "      <th>Z</th>\n",
       "      <th>Number_of_prev_cond</th>\n",
       "    </tr>\n",
       "  </thead>\n",
       "  <tbody>\n",
       "    <tr>\n",
       "      <th>2711</th>\n",
       "      <td>33004</td>\n",
       "      <td>0</td>\n",
       "      <td>12505</td>\n",
       "      <td>NaN</td>\n",
       "      <td>123</td>\n",
       "      <td>1.9290</td>\n",
       "      <td>Cannot say</td>\n",
       "      <td>RURAL</td>\n",
       "      <td>Stable</td>\n",
       "      <td>0.0</td>\n",
       "      <td>0.0</td>\n",
       "      <td>0.0</td>\n",
       "      <td>0.0</td>\n",
       "      <td>0.0</td>\n",
       "      <td>0.0</td>\n",
       "      <td>1.0</td>\n",
       "      <td>1.0</td>\n",
       "    </tr>\n",
       "    <tr>\n",
       "      <th>18630</th>\n",
       "      <td>33005</td>\n",
       "      <td>0</td>\n",
       "      <td>12506</td>\n",
       "      <td>NaN</td>\n",
       "      <td>125</td>\n",
       "      <td>1.2581</td>\n",
       "      <td>Cannot say</td>\n",
       "      <td>RURAL</td>\n",
       "      <td>Stable</td>\n",
       "      <td>0.0</td>\n",
       "      <td>0.0</td>\n",
       "      <td>0.0</td>\n",
       "      <td>0.0</td>\n",
       "      <td>0.0</td>\n",
       "      <td>0.0</td>\n",
       "      <td>1.0</td>\n",
       "      <td>1.0</td>\n",
       "    </tr>\n",
       "    <tr>\n",
       "      <th>10663</th>\n",
       "      <td>33009</td>\n",
       "      <td>0</td>\n",
       "      <td>12510</td>\n",
       "      <td>NaN</td>\n",
       "      <td>142</td>\n",
       "      <td>1.1450</td>\n",
       "      <td>Cannot say</td>\n",
       "      <td>RURAL</td>\n",
       "      <td>Stable</td>\n",
       "      <td>0.0</td>\n",
       "      <td>0.0</td>\n",
       "      <td>0.0</td>\n",
       "      <td>0.0</td>\n",
       "      <td>0.0</td>\n",
       "      <td>0.0</td>\n",
       "      <td>1.0</td>\n",
       "      <td>1.0</td>\n",
       "    </tr>\n",
       "    <tr>\n",
       "      <th>4887</th>\n",
       "      <td>33011</td>\n",
       "      <td>0</td>\n",
       "      <td>12512</td>\n",
       "      <td>NaN</td>\n",
       "      <td>132</td>\n",
       "      <td>1.9896</td>\n",
       "      <td>Cannot say</td>\n",
       "      <td>RURAL</td>\n",
       "      <td>Stable</td>\n",
       "      <td>0.0</td>\n",
       "      <td>0.0</td>\n",
       "      <td>0.0</td>\n",
       "      <td>0.0</td>\n",
       "      <td>0.0</td>\n",
       "      <td>0.0</td>\n",
       "      <td>1.0</td>\n",
       "      <td>1.0</td>\n",
       "    </tr>\n",
       "    <tr>\n",
       "      <th>4</th>\n",
       "      <td>33012</td>\n",
       "      <td>0</td>\n",
       "      <td>12513</td>\n",
       "      <td>NaN</td>\n",
       "      <td>128</td>\n",
       "      <td>1.3484</td>\n",
       "      <td>Cannot say</td>\n",
       "      <td>RURAL</td>\n",
       "      <td>Stable</td>\n",
       "      <td>0.0</td>\n",
       "      <td>0.0</td>\n",
       "      <td>0.0</td>\n",
       "      <td>0.0</td>\n",
       "      <td>0.0</td>\n",
       "      <td>0.0</td>\n",
       "      <td>1.0</td>\n",
       "      <td>1.0</td>\n",
       "    </tr>\n",
       "  </tbody>\n",
       "</table>\n",
       "</div>"
      ],
      "text/plain": [
       "       ID_Patient_Care_Situation  Diagnosed_Condition  Patient_ID  \\\n",
       "2711                       33004                    0       12505   \n",
       "18630                      33005                    0       12506   \n",
       "10663                      33009                    0       12510   \n",
       "4887                       33011                    0       12512   \n",
       "4                          33012                    0       12513   \n",
       "\n",
       "      Treated_with_drugs  Patient_Age  Patient_Body_Mass_Index Patient_Smoker  \\\n",
       "2711                 NaN          123                   1.9290     Cannot say   \n",
       "18630                NaN          125                   1.2581     Cannot say   \n",
       "10663                NaN          142                   1.1450     Cannot say   \n",
       "4887                 NaN          132                   1.9896     Cannot say   \n",
       "4                    NaN          128                   1.3484     Cannot say   \n",
       "\n",
       "      Patient_Rural_Urban Patient_mental_condition    A    B    C    D    E  \\\n",
       "2711                RURAL                   Stable  0.0  0.0  0.0  0.0  0.0   \n",
       "18630               RURAL                   Stable  0.0  0.0  0.0  0.0  0.0   \n",
       "10663               RURAL                   Stable  0.0  0.0  0.0  0.0  0.0   \n",
       "4887                RURAL                   Stable  0.0  0.0  0.0  0.0  0.0   \n",
       "4                   RURAL                   Stable  0.0  0.0  0.0  0.0  0.0   \n",
       "\n",
       "         F    Z  Number_of_prev_cond  \n",
       "2711   0.0  1.0                  1.0  \n",
       "18630  0.0  1.0                  1.0  \n",
       "10663  0.0  1.0                  1.0  \n",
       "4887   0.0  1.0                  1.0  \n",
       "4      0.0  1.0                  1.0  "
      ]
     },
     "execution_count": 150,
     "metadata": {},
     "output_type": "execute_result"
    }
   ],
   "source": [
    "#Impute outlier age values to max age and corresponding BMI to mean BMI for age=66\n",
    "Age_out_valid = X_valid[X_valid['Patient_Age'] > (Q3 + 1.5 * IQR_age)] # columns with age values > (Q3 + 1.5 * IQR)\n",
    "Age_out_valid"
   ]
  },
  {
   "cell_type": "code",
   "execution_count": 151,
   "metadata": {},
   "outputs": [],
   "source": [
    "#assign age=66 and corresponding mean BMI to outliers\n",
    "index_age_out_valid = list(Age_out_valid.index)\n",
    "for index in index_age_out_valid:\n",
    "    X_train['Patient_Age'][index] = 66\n",
    "    X_train['Patient_Body_Mass_Index'][index] = age_66_meanBMI"
   ]
  },
  {
   "cell_type": "markdown",
   "metadata": {},
   "source": [
    "### Step 3"
   ]
  },
  {
   "cell_type": "code",
   "execution_count": 152,
   "metadata": {},
   "outputs": [
    {
     "data": {
      "text/plain": [
       "ID_Patient_Care_Situation      0\n",
       "Diagnosed_Condition            0\n",
       "Patient_ID                     0\n",
       "Treated_with_drugs             5\n",
       "Patient_Age                    0\n",
       "Patient_Body_Mass_Index        0\n",
       "Patient_Smoker                 0\n",
       "Patient_Rural_Urban            0\n",
       "Patient_mental_condition       0\n",
       "A                            169\n",
       "B                            169\n",
       "C                            169\n",
       "D                            169\n",
       "E                            169\n",
       "F                            169\n",
       "Z                            169\n",
       "Number_of_prev_cond          169\n",
       "dtype: int64"
      ]
     },
     "execution_count": 152,
     "metadata": {},
     "output_type": "execute_result"
    }
   ],
   "source": [
    "X_valid.isnull().sum()"
   ]
  },
  {
   "cell_type": "code",
   "execution_count": 153,
   "metadata": {},
   "outputs": [],
   "source": [
    "# fill missing values of number of prev_cond\n",
    "X_valid['Number_of_prev_cond'].fillna(median_prev_cond,inplace=True)"
   ]
  },
  {
   "cell_type": "markdown",
   "metadata": {},
   "source": [
    "### Step 4"
   ]
  },
  {
   "cell_type": "code",
   "execution_count": 154,
   "metadata": {},
   "outputs": [],
   "source": [
    "X_valid['Treated_with_drugs'].fillna(mode_drugs,inplace=True) #impute with mode values"
   ]
  },
  {
   "cell_type": "markdown",
   "metadata": {},
   "source": [
    "### Step 5"
   ]
  },
  {
   "cell_type": "code",
   "execution_count": 155,
   "metadata": {},
   "outputs": [],
   "source": [
    "#imputing A-z previous condition with A and E as 1.0 and balance =0.0\n",
    "X_valid['A'].fillna(1.0,inplace=True)\n",
    "X_valid['B'].fillna(0,inplace=True)\n",
    "X_valid['C'].fillna(0,inplace=True)\n",
    "X_valid['D'].fillna(0,inplace=True)\n",
    "X_valid['E'].fillna(1.0,inplace=True)\n",
    "X_valid['F'].fillna(0,inplace=True)\n",
    "X_valid['Z'].fillna(0,inplace=True)"
   ]
  },
  {
   "cell_type": "markdown",
   "metadata": {},
   "source": [
    "### Step 6"
   ]
  },
  {
   "cell_type": "code",
   "execution_count": 156,
   "metadata": {},
   "outputs": [],
   "source": [
    "#dropping Patient_mental_condition column\n",
    "X_valid.drop('Patient_mental_condition',axis=1,inplace=True)"
   ]
  },
  {
   "cell_type": "markdown",
   "metadata": {},
   "source": [
    "### Step 7"
   ]
  },
  {
   "cell_type": "code",
   "execution_count": 157,
   "metadata": {},
   "outputs": [
    {
     "data": {
      "text/html": [
       "<div>\n",
       "<style scoped>\n",
       "    .dataframe tbody tr th:only-of-type {\n",
       "        vertical-align: middle;\n",
       "    }\n",
       "\n",
       "    .dataframe tbody tr th {\n",
       "        vertical-align: top;\n",
       "    }\n",
       "\n",
       "    .dataframe thead th {\n",
       "        text-align: right;\n",
       "    }\n",
       "</style>\n",
       "<table border=\"1\" class=\"dataframe\">\n",
       "  <thead>\n",
       "    <tr style=\"text-align: right;\">\n",
       "      <th></th>\n",
       "      <th>DX1</th>\n",
       "      <th>DX2</th>\n",
       "      <th>DX3</th>\n",
       "      <th>DX4</th>\n",
       "      <th>DX5</th>\n",
       "      <th>DX6</th>\n",
       "    </tr>\n",
       "  </thead>\n",
       "  <tbody>\n",
       "    <tr>\n",
       "      <th>21109</th>\n",
       "      <td>0</td>\n",
       "      <td>0</td>\n",
       "      <td>0</td>\n",
       "      <td>0</td>\n",
       "      <td>0</td>\n",
       "      <td>1</td>\n",
       "    </tr>\n",
       "    <tr>\n",
       "      <th>596</th>\n",
       "      <td>0</td>\n",
       "      <td>0</td>\n",
       "      <td>1</td>\n",
       "      <td>0</td>\n",
       "      <td>1</td>\n",
       "      <td>0</td>\n",
       "    </tr>\n",
       "    <tr>\n",
       "      <th>5750</th>\n",
       "      <td>0</td>\n",
       "      <td>0</td>\n",
       "      <td>0</td>\n",
       "      <td>0</td>\n",
       "      <td>0</td>\n",
       "      <td>1</td>\n",
       "    </tr>\n",
       "    <tr>\n",
       "      <th>13110</th>\n",
       "      <td>0</td>\n",
       "      <td>1</td>\n",
       "      <td>0</td>\n",
       "      <td>0</td>\n",
       "      <td>0</td>\n",
       "      <td>0</td>\n",
       "    </tr>\n",
       "    <tr>\n",
       "      <th>3353</th>\n",
       "      <td>1</td>\n",
       "      <td>0</td>\n",
       "      <td>0</td>\n",
       "      <td>0</td>\n",
       "      <td>1</td>\n",
       "      <td>0</td>\n",
       "    </tr>\n",
       "  </tbody>\n",
       "</table>\n",
       "</div>"
      ],
      "text/plain": [
       "       DX1  DX2  DX3  DX4  DX5  DX6\n",
       "21109    0    0    0    0    0    1\n",
       "596      0    0    1    0    1    0\n",
       "5750     0    0    0    0    0    1\n",
       "13110    0    1    0    0    0    0\n",
       "3353     1    0    0    0    1    0"
      ]
     },
     "execution_count": 157,
     "metadata": {},
     "output_type": "execute_result"
    }
   ],
   "source": [
    "drugs_valid = X_valid['Treated_with_drugs'].str.get_dummies(sep=' ')\n",
    "drugs_valid.head()"
   ]
  },
  {
   "cell_type": "code",
   "execution_count": 158,
   "metadata": {},
   "outputs": [],
   "source": [
    "X_valid = pd.concat([X_valid,drugs_valid],axis=1)\n",
    "# we can drop Treated_with_drugs column\n",
    "X_valid.drop('Treated_with_drugs',axis=1,inplace=True)"
   ]
  },
  {
   "cell_type": "markdown",
   "metadata": {},
   "source": [
    "### Step 8"
   ]
  },
  {
   "cell_type": "code",
   "execution_count": 159,
   "metadata": {},
   "outputs": [],
   "source": [
    "#replace 'cannot say' in smoker column to No category\n",
    "X_valid['Patient_Smoker'] = X_valid['Patient_Smoker'].replace({'Cannot say':'NO'})"
   ]
  },
  {
   "cell_type": "markdown",
   "metadata": {},
   "source": [
    "### Step 9"
   ]
  },
  {
   "cell_type": "code",
   "execution_count": 160,
   "metadata": {},
   "outputs": [],
   "source": [
    "#using one hot encoding to convert cat columns to numeric\n",
    "X_valid = pd.get_dummies(X_valid,columns=['Patient_Smoker','Patient_Rural_Urban'])"
   ]
  },
  {
   "cell_type": "markdown",
   "metadata": {},
   "source": [
    "### Step 10"
   ]
  },
  {
   "cell_type": "code",
   "execution_count": 161,
   "metadata": {},
   "outputs": [],
   "source": [
    "#dropping 'ID_Patient_Care_Situation'\n",
    "X_valid.drop('ID_Patient_Care_Situation',axis=1,inplace=True)"
   ]
  },
  {
   "cell_type": "markdown",
   "metadata": {},
   "source": [
    "### Step 11"
   ]
  },
  {
   "cell_type": "code",
   "execution_count": 162,
   "metadata": {},
   "outputs": [],
   "source": [
    "# Patient ID to cat column\n",
    "X_valid['Patient_ID'] = X_train['Patient_ID'].astype('category')"
   ]
  },
  {
   "cell_type": "markdown",
   "metadata": {},
   "source": [
    "### Step 12"
   ]
  },
  {
   "cell_type": "code",
   "execution_count": 163,
   "metadata": {},
   "outputs": [],
   "source": [
    "# create a column no of treatment drugs which is sum of columns DX1..DX6 \n",
    "X_valid['No_of_treatment_drugs'] = X_valid['DX1']+X_valid['DX2']+ X_valid['DX3']+X_valid['DX4']+X_valid['DX5']+X_valid['DX6']"
   ]
  },
  {
   "cell_type": "code",
   "execution_count": 164,
   "metadata": {},
   "outputs": [],
   "source": [
    "# we fit Boruta method to select features prior \n",
    "X_important_valid = boruta_selector.transform(np.array(X_valid))"
   ]
  },
  {
   "cell_type": "code",
   "execution_count": 165,
   "metadata": {},
   "outputs": [
    {
     "data": {
      "text/plain": [
       "(3465, 21)"
      ]
     },
     "execution_count": 165,
     "metadata": {},
     "output_type": "execute_result"
    }
   ],
   "source": [
    "X_important_valid.shape"
   ]
  },
  {
   "cell_type": "code",
   "execution_count": 166,
   "metadata": {},
   "outputs": [],
   "source": [
    "#converting valid numpy array to dataframe\n",
    "X_important_valid = pd.DataFrame(X_important_valid, columns = X_imp_cols)"
   ]
  },
  {
   "cell_type": "code",
   "execution_count": 167,
   "metadata": {},
   "outputs": [
    {
     "data": {
      "text/html": [
       "<div>\n",
       "<style scoped>\n",
       "    .dataframe tbody tr th:only-of-type {\n",
       "        vertical-align: middle;\n",
       "    }\n",
       "\n",
       "    .dataframe tbody tr th {\n",
       "        vertical-align: top;\n",
       "    }\n",
       "\n",
       "    .dataframe thead th {\n",
       "        text-align: right;\n",
       "    }\n",
       "</style>\n",
       "<table border=\"1\" class=\"dataframe\">\n",
       "  <thead>\n",
       "    <tr style=\"text-align: right;\">\n",
       "      <th></th>\n",
       "      <th>Diagnosed_Condition</th>\n",
       "      <th>Patient_ID</th>\n",
       "      <th>Patient_Age</th>\n",
       "      <th>Patient_Body_Mass_Index</th>\n",
       "      <th>A</th>\n",
       "      <th>B</th>\n",
       "      <th>C</th>\n",
       "      <th>D</th>\n",
       "      <th>E</th>\n",
       "      <th>Number_of_prev_cond</th>\n",
       "      <th>...</th>\n",
       "      <th>DX2</th>\n",
       "      <th>DX3</th>\n",
       "      <th>DX4</th>\n",
       "      <th>DX5</th>\n",
       "      <th>DX6</th>\n",
       "      <th>Patient_Smoker_NO</th>\n",
       "      <th>Patient_Smoker_YES</th>\n",
       "      <th>Patient_Rural_Urban_RURAL</th>\n",
       "      <th>Patient_Rural_Urban_URBAN</th>\n",
       "      <th>No_of_treatment_drugs</th>\n",
       "    </tr>\n",
       "  </thead>\n",
       "  <tbody>\n",
       "    <tr>\n",
       "      <th>0</th>\n",
       "      <td>23.0</td>\n",
       "      <td>NaN</td>\n",
       "      <td>26.0</td>\n",
       "      <td>29.957685</td>\n",
       "      <td>1.0</td>\n",
       "      <td>0.0</td>\n",
       "      <td>0.0</td>\n",
       "      <td>0.0</td>\n",
       "      <td>0.0</td>\n",
       "      <td>1.0</td>\n",
       "      <td>...</td>\n",
       "      <td>0.0</td>\n",
       "      <td>0.0</td>\n",
       "      <td>0.0</td>\n",
       "      <td>0.0</td>\n",
       "      <td>1.0</td>\n",
       "      <td>0.0</td>\n",
       "      <td>1.0</td>\n",
       "      <td>1.0</td>\n",
       "      <td>0.0</td>\n",
       "      <td>1.0</td>\n",
       "    </tr>\n",
       "    <tr>\n",
       "      <th>1</th>\n",
       "      <td>2.0</td>\n",
       "      <td>NaN</td>\n",
       "      <td>53.0</td>\n",
       "      <td>19.333621</td>\n",
       "      <td>1.0</td>\n",
       "      <td>0.0</td>\n",
       "      <td>0.0</td>\n",
       "      <td>0.0</td>\n",
       "      <td>1.0</td>\n",
       "      <td>2.0</td>\n",
       "      <td>...</td>\n",
       "      <td>0.0</td>\n",
       "      <td>1.0</td>\n",
       "      <td>0.0</td>\n",
       "      <td>1.0</td>\n",
       "      <td>0.0</td>\n",
       "      <td>1.0</td>\n",
       "      <td>0.0</td>\n",
       "      <td>1.0</td>\n",
       "      <td>0.0</td>\n",
       "      <td>2.0</td>\n",
       "    </tr>\n",
       "  </tbody>\n",
       "</table>\n",
       "<p>2 rows × 21 columns</p>\n",
       "</div>"
      ],
      "text/plain": [
       "   Diagnosed_Condition  Patient_ID  Patient_Age  Patient_Body_Mass_Index    A  \\\n",
       "0                 23.0         NaN         26.0                29.957685  1.0   \n",
       "1                  2.0         NaN         53.0                19.333621  1.0   \n",
       "\n",
       "     B    C    D    E  Number_of_prev_cond  ...  DX2  DX3  DX4  DX5  DX6  \\\n",
       "0  0.0  0.0  0.0  0.0                  1.0  ...  0.0  0.0  0.0  0.0  1.0   \n",
       "1  0.0  0.0  0.0  1.0                  2.0  ...  0.0  1.0  0.0  1.0  0.0   \n",
       "\n",
       "   Patient_Smoker_NO  Patient_Smoker_YES  Patient_Rural_Urban_RURAL  \\\n",
       "0                0.0                 1.0                        1.0   \n",
       "1                1.0                 0.0                        1.0   \n",
       "\n",
       "   Patient_Rural_Urban_URBAN  No_of_treatment_drugs  \n",
       "0                        0.0                    1.0  \n",
       "1                        0.0                    2.0  \n",
       "\n",
       "[2 rows x 21 columns]"
      ]
     },
     "execution_count": 167,
     "metadata": {},
     "output_type": "execute_result"
    }
   ],
   "source": [
    "X_important_valid.head(2)"
   ]
  },
  {
   "cell_type": "code",
   "execution_count": 168,
   "metadata": {},
   "outputs": [],
   "source": [
    "# Load the model from the file \n",
    "XGB_from_joblib = joblib.load('patient_survival.pkl')  \n",
    "#XGB_from_joblib.fit(X_important_train,y_train) \n",
    "# Use the loaded model to make predictions \n",
    "y_pred_valid= XGB_from_joblib.predict(X_important_valid) "
   ]
  },
  {
   "cell_type": "code",
   "execution_count": 169,
   "metadata": {},
   "outputs": [
    {
     "name": "stdout",
     "output_type": "stream",
     "text": [
      "Test Accuracy for Final XGB model on validation dataset 0.8354978354978355\n",
      "F1 Score for Final XGB model on validation dataset 0.8710407239819006\n",
      "Auc_Roc_score for finalXGB on validation dataset 0.8199878624342339\n"
     ]
    }
   ],
   "source": [
    "#accuracy of model,f1 score ,auc_roc_score\n",
    "print('Test Accuracy for Final XGB model on validation dataset',metrics.accuracy_score(y_valid,y_pred_valid))\n",
    "print('F1 Score for Final XGB model on validation dataset',metrics.f1_score(y_valid,y_pred_valid))\n",
    "print('Auc_Roc_score for finalXGB on validation dataset',metrics.roc_auc_score(y_valid,y_pred_valid))"
   ]
  },
  {
   "cell_type": "code",
   "execution_count": 170,
   "metadata": {},
   "outputs": [
    {
     "name": "stdout",
     "output_type": "stream",
     "text": [
      "\u001b[1m\u001b[32mAUC_ROC_CURVE FOR VALIDATION DATASET MODEL...\n",
      "\u001b[0m\n"
     ]
    },
    {
     "data": {
      "image/png": "[encoded data removed]",
      "text/plain": [
       "<Figure size 432x288 with 1 Axes>"
      ]
     },
     "metadata": {},
     "output_type": "display_data"
    }
   ],
   "source": [
    "# Plotting auc_roc_curve\n",
    "print(color('AUC_ROC_CURVE FOR VALIDATION DATASET MODEL...\\n','green',attrs=['bold']))\n",
    "metrics.plot_roc_curve(XGB_from_joblib,X_important_valid, y_valid,color='g')\n",
    "plt.show()\n",
    "plt.show()"
   ]
  },
  {
   "cell_type": "code",
   "execution_count": 171,
   "metadata": {},
   "outputs": [
    {
     "name": "stdout",
     "output_type": "stream",
     "text": [
      "\u001b[1m\u001b[32mCONFUSION MATRIX FOR FINAL VALIDATION SET...\n",
      "\u001b[0m\n"
     ]
    },
    {
     "data": {
      "image/png": "[encoded data removed]",
      "text/plain": [
       "<Figure size 432x288 with 2 Axes>"
      ]
     },
     "metadata": {},
     "output_type": "display_data"
    }
   ],
   "source": [
    "#plotting confusion matrix\n",
    "print(color('CONFUSION MATRIX FOR FINAL VALIDATION SET...\\n','green',attrs=['bold']))\n",
    "metrics.plot_confusion_matrix(XGB_from_joblib,X_important_valid, y_valid,\n",
    "                                 cmap=plt.cm.Blues)\n",
    "                                 \n",
    "plt.show()"
   ]
  },
  {
   "cell_type": "code",
   "execution_count": 172,
   "metadata": {},
   "outputs": [
    {
     "name": "stdout",
     "output_type": "stream",
     "text": [
      "\u001b[1m\u001b[32mCLASSIFICATION REPORT FOR FINAL CHOSEN XGBOOST MODEL...\n",
      "\u001b[0m\n",
      "              precision    recall  f1-score   support\n",
      "\n",
      "           0       0.78      0.76      0.77      1274\n",
      "           1       0.86      0.88      0.87      2191\n",
      "\n",
      "    accuracy                           0.84      3465\n",
      "   macro avg       0.82      0.82      0.82      3465\n",
      "weighted avg       0.83      0.84      0.83      3465\n",
      "\n"
     ]
    }
   ],
   "source": [
    "# printing classification report\n",
    "print(color('CLASSIFICATION REPORT FOR FINAL CHOSEN XGBOOST MODEL...\\n','green',attrs=['bold']))\n",
    "print(metrics.classification_report(y_valid,y_pred_valid))"
   ]
  },
  {
   "cell_type": "markdown",
   "metadata": {},
   "source": [
    "##  Interpreting Machine Learning Models using SHAP"
   ]
  },
  {
   "cell_type": "markdown",
   "metadata": {},
   "source": [
    "- ELI5 is an acronym for ‘Explain like I am a 5-year old’. Interpreting a machine learning model has two aspects to it:\n",
    "\n",
    "-Global Interpretation:  at a global level how the model works\n",
    "-Local Interpretation: Look at a single prediction and identify features leading to that prediction\n",
    "\n"
   ]
  },
  {
   "cell_type": "code",
   "execution_count": 173,
   "metadata": {},
   "outputs": [
    {
     "data": {
      "text/html": [
       "\n",
       "    <style>\n",
       "    table.eli5-weights tr:hover {\n",
       "        filter: brightness(85%);\n",
       "    }\n",
       "</style>\n",
       "\n",
       "\n",
       "\n",
       "    \n",
       "\n",
       "    \n",
       "\n",
       "    \n",
       "\n",
       "    \n",
       "\n",
       "    \n",
       "\n",
       "    \n",
       "\n",
       "\n",
       "    \n",
       "\n",
       "    \n",
       "\n",
       "    \n",
       "\n",
       "    \n",
       "\n",
       "    \n",
       "\n",
       "    \n",
       "\n",
       "\n",
       "    \n",
       "\n",
       "    \n",
       "\n",
       "    \n",
       "\n",
       "    \n",
       "\n",
       "    \n",
       "        <table class=\"eli5-weights eli5-feature-importances\" style=\"border-collapse: collapse; border: none; margin-top: 0em; table-layout: auto;\">\n",
       "    <thead>\n",
       "    <tr style=\"border: none;\">\n",
       "        <th style=\"padding: 0 1em 0 0.5em; text-align: right; border: none;\">Weight</th>\n",
       "        <th style=\"padding: 0 0.5em 0 0.5em; text-align: left; border: none;\">Feature</th>\n",
       "    </tr>\n",
       "    </thead>\n",
       "    <tbody>\n",
       "    \n",
       "        <tr style=\"background-color: hsl(120, 100.00%, 80.00%); border: none;\">\n",
       "            <td style=\"padding: 0 1em 0 0.5em; text-align: right; border: none;\">\n",
       "                0.1574\n",
       "                \n",
       "            </td>\n",
       "            <td style=\"padding: 0 0.5em 0 0.5em; text-align: left; border: none;\">\n",
       "                DX6\n",
       "            </td>\n",
       "        </tr>\n",
       "    \n",
       "        <tr style=\"background-color: hsl(120, 100.00%, 82.87%); border: none;\">\n",
       "            <td style=\"padding: 0 1em 0 0.5em; text-align: right; border: none;\">\n",
       "                0.1261\n",
       "                \n",
       "            </td>\n",
       "            <td style=\"padding: 0 0.5em 0 0.5em; text-align: left; border: none;\">\n",
       "                Patient_Smoker_NO\n",
       "            </td>\n",
       "        </tr>\n",
       "    \n",
       "        <tr style=\"background-color: hsl(120, 100.00%, 89.62%); border: none;\">\n",
       "            <td style=\"padding: 0 1em 0 0.5em; text-align: right; border: none;\">\n",
       "                0.0617\n",
       "                \n",
       "            </td>\n",
       "            <td style=\"padding: 0 0.5em 0 0.5em; text-align: left; border: none;\">\n",
       "                DX5\n",
       "            </td>\n",
       "        </tr>\n",
       "    \n",
       "        <tr style=\"background-color: hsl(120, 100.00%, 90.61%); border: none;\">\n",
       "            <td style=\"padding: 0 1em 0 0.5em; text-align: right; border: none;\">\n",
       "                0.0535\n",
       "                \n",
       "            </td>\n",
       "            <td style=\"padding: 0 0.5em 0 0.5em; text-align: left; border: none;\">\n",
       "                DX3\n",
       "            </td>\n",
       "        </tr>\n",
       "    \n",
       "        <tr style=\"background-color: hsl(120, 100.00%, 90.65%); border: none;\">\n",
       "            <td style=\"padding: 0 1em 0 0.5em; text-align: right; border: none;\">\n",
       "                0.0531\n",
       "                \n",
       "            </td>\n",
       "            <td style=\"padding: 0 0.5em 0 0.5em; text-align: left; border: none;\">\n",
       "                D\n",
       "            </td>\n",
       "        </tr>\n",
       "    \n",
       "        <tr style=\"background-color: hsl(120, 100.00%, 90.85%); border: none;\">\n",
       "            <td style=\"padding: 0 1em 0 0.5em; text-align: right; border: none;\">\n",
       "                0.0515\n",
       "                \n",
       "            </td>\n",
       "            <td style=\"padding: 0 0.5em 0 0.5em; text-align: left; border: none;\">\n",
       "                DX4\n",
       "            </td>\n",
       "        </tr>\n",
       "    \n",
       "        <tr style=\"background-color: hsl(120, 100.00%, 91.09%); border: none;\">\n",
       "            <td style=\"padding: 0 1em 0 0.5em; text-align: right; border: none;\">\n",
       "                0.0496\n",
       "                \n",
       "            </td>\n",
       "            <td style=\"padding: 0 0.5em 0 0.5em; text-align: left; border: none;\">\n",
       "                Diagnosed_Condition\n",
       "            </td>\n",
       "        </tr>\n",
       "    \n",
       "        <tr style=\"background-color: hsl(120, 100.00%, 91.28%); border: none;\">\n",
       "            <td style=\"padding: 0 1em 0 0.5em; text-align: right; border: none;\">\n",
       "                0.0481\n",
       "                \n",
       "            </td>\n",
       "            <td style=\"padding: 0 0.5em 0 0.5em; text-align: left; border: none;\">\n",
       "                Patient_Body_Mass_Index\n",
       "            </td>\n",
       "        </tr>\n",
       "    \n",
       "        <tr style=\"background-color: hsl(120, 100.00%, 91.33%); border: none;\">\n",
       "            <td style=\"padding: 0 1em 0 0.5em; text-align: right; border: none;\">\n",
       "                0.0477\n",
       "                \n",
       "            </td>\n",
       "            <td style=\"padding: 0 0.5em 0 0.5em; text-align: left; border: none;\">\n",
       "                A\n",
       "            </td>\n",
       "        </tr>\n",
       "    \n",
       "        <tr style=\"background-color: hsl(120, 100.00%, 91.59%); border: none;\">\n",
       "            <td style=\"padding: 0 1em 0 0.5em; text-align: right; border: none;\">\n",
       "                0.0457\n",
       "                \n",
       "            </td>\n",
       "            <td style=\"padding: 0 0.5em 0 0.5em; text-align: left; border: none;\">\n",
       "                Patient_Smoker_YES\n",
       "            </td>\n",
       "        </tr>\n",
       "    \n",
       "        <tr style=\"background-color: hsl(120, 100.00%, 91.78%); border: none;\">\n",
       "            <td style=\"padding: 0 1em 0 0.5em; text-align: right; border: none;\">\n",
       "                0.0442\n",
       "                \n",
       "            </td>\n",
       "            <td style=\"padding: 0 0.5em 0 0.5em; text-align: left; border: none;\">\n",
       "                Patient_Rural_Urban_RURAL\n",
       "            </td>\n",
       "        </tr>\n",
       "    \n",
       "        <tr style=\"background-color: hsl(120, 100.00%, 92.45%); border: none;\">\n",
       "            <td style=\"padding: 0 1em 0 0.5em; text-align: right; border: none;\">\n",
       "                0.0391\n",
       "                \n",
       "            </td>\n",
       "            <td style=\"padding: 0 0.5em 0 0.5em; text-align: left; border: none;\">\n",
       "                Patient_Age\n",
       "            </td>\n",
       "        </tr>\n",
       "    \n",
       "        <tr style=\"background-color: hsl(120, 100.00%, 92.65%); border: none;\">\n",
       "            <td style=\"padding: 0 1em 0 0.5em; text-align: right; border: none;\">\n",
       "                0.0377\n",
       "                \n",
       "            </td>\n",
       "            <td style=\"padding: 0 0.5em 0 0.5em; text-align: left; border: none;\">\n",
       "                Patient_Rural_Urban_URBAN\n",
       "            </td>\n",
       "        </tr>\n",
       "    \n",
       "        <tr style=\"background-color: hsl(120, 100.00%, 92.82%); border: none;\">\n",
       "            <td style=\"padding: 0 1em 0 0.5em; text-align: right; border: none;\">\n",
       "                0.0364\n",
       "                \n",
       "            </td>\n",
       "            <td style=\"padding: 0 0.5em 0 0.5em; text-align: left; border: none;\">\n",
       "                DX1\n",
       "            </td>\n",
       "        </tr>\n",
       "    \n",
       "        <tr style=\"background-color: hsl(120, 100.00%, 92.90%); border: none;\">\n",
       "            <td style=\"padding: 0 1em 0 0.5em; text-align: right; border: none;\">\n",
       "                0.0358\n",
       "                \n",
       "            </td>\n",
       "            <td style=\"padding: 0 0.5em 0 0.5em; text-align: left; border: none;\">\n",
       "                C\n",
       "            </td>\n",
       "        </tr>\n",
       "    \n",
       "        <tr style=\"background-color: hsl(120, 100.00%, 93.04%); border: none;\">\n",
       "            <td style=\"padding: 0 1em 0 0.5em; text-align: right; border: none;\">\n",
       "                0.0349\n",
       "                \n",
       "            </td>\n",
       "            <td style=\"padding: 0 0.5em 0 0.5em; text-align: left; border: none;\">\n",
       "                No_of_treatment_drugs\n",
       "            </td>\n",
       "        </tr>\n",
       "    \n",
       "        <tr style=\"background-color: hsl(120, 100.00%, 95.07%); border: none;\">\n",
       "            <td style=\"padding: 0 1em 0 0.5em; text-align: right; border: none;\">\n",
       "                0.0213\n",
       "                \n",
       "            </td>\n",
       "            <td style=\"padding: 0 0.5em 0 0.5em; text-align: left; border: none;\">\n",
       "                B\n",
       "            </td>\n",
       "        </tr>\n",
       "    \n",
       "        <tr style=\"background-color: hsl(120, 100.00%, 95.08%); border: none;\">\n",
       "            <td style=\"padding: 0 1em 0 0.5em; text-align: right; border: none;\">\n",
       "                0.0212\n",
       "                \n",
       "            </td>\n",
       "            <td style=\"padding: 0 0.5em 0 0.5em; text-align: left; border: none;\">\n",
       "                Number_of_prev_cond\n",
       "            </td>\n",
       "        </tr>\n",
       "    \n",
       "        <tr style=\"background-color: hsl(120, 100.00%, 96.27%); border: none;\">\n",
       "            <td style=\"padding: 0 1em 0 0.5em; text-align: right; border: none;\">\n",
       "                0.0143\n",
       "                \n",
       "            </td>\n",
       "            <td style=\"padding: 0 0.5em 0 0.5em; text-align: left; border: none;\">\n",
       "                E\n",
       "            </td>\n",
       "        </tr>\n",
       "    \n",
       "        <tr style=\"background-color: hsl(120, 100.00%, 96.40%); border: none;\">\n",
       "            <td style=\"padding: 0 1em 0 0.5em; text-align: right; border: none;\">\n",
       "                0.0136\n",
       "                \n",
       "            </td>\n",
       "            <td style=\"padding: 0 0.5em 0 0.5em; text-align: left; border: none;\">\n",
       "                DX2\n",
       "            </td>\n",
       "        </tr>\n",
       "    \n",
       "    \n",
       "        \n",
       "            <tr style=\"background-color: hsl(120, 100.00%, 96.40%); border: none;\">\n",
       "                <td colspan=\"2\" style=\"padding: 0 0.5em 0 0.5em; text-align: center; border: none; white-space: nowrap;\">\n",
       "                    <i>&hellip; 1 more &hellip;</i>\n",
       "                </td>\n",
       "            </tr>\n",
       "        \n",
       "    \n",
       "    </tbody>\n",
       "</table>\n",
       "    \n",
       "\n",
       "    \n",
       "\n",
       "\n",
       "    \n",
       "\n",
       "    \n",
       "\n",
       "    \n",
       "\n",
       "    \n",
       "\n",
       "    \n",
       "\n",
       "    \n",
       "\n",
       "\n",
       "\n"
      ],
      "text/plain": [
       "<IPython.core.display.HTML object>"
      ]
     },
     "execution_count": 173,
     "metadata": {},
     "output_type": "execute_result"
    }
   ],
   "source": [
    "import eli5\n",
    "eli5.show_weights(final_model) # clf is the model fitted "
   ]
  },
  {
   "cell_type": "code",
   "execution_count": 175,
   "metadata": {},
   "outputs": [
    {
     "data": {
      "text/html": [
       "\n",
       "    <style>\n",
       "    table.eli5-weights tr:hover {\n",
       "        filter: brightness(85%);\n",
       "    }\n",
       "</style>\n",
       "\n",
       "\n",
       "\n",
       "    \n",
       "\n",
       "    \n",
       "\n",
       "    \n",
       "\n",
       "    \n",
       "\n",
       "    \n",
       "\n",
       "    \n",
       "\n",
       "\n",
       "    \n",
       "\n",
       "    \n",
       "\n",
       "    \n",
       "\n",
       "    \n",
       "        \n",
       "\n",
       "    \n",
       "\n",
       "        \n",
       "            \n",
       "                \n",
       "                \n",
       "    \n",
       "        <p style=\"margin-bottom: 0.5em; margin-top: 0em\">\n",
       "            <b>\n",
       "    \n",
       "        y=1\n",
       "    \n",
       "</b>\n",
       "\n",
       "    \n",
       "    (probability <b>0.999</b>, score <b>6.955</b>)\n",
       "\n",
       "top features\n",
       "        </p>\n",
       "    \n",
       "    <table class=\"eli5-weights\"\n",
       "           style=\"border-collapse: collapse; border: none; margin-top: 0em; table-layout: auto; margin-bottom: 2em;\">\n",
       "        <thead>\n",
       "        <tr style=\"border: none;\">\n",
       "            \n",
       "                <th style=\"padding: 0 1em 0 0.5em; text-align: right; border: none;\" title=\"Feature contribution already accounts for the feature value (for linear models, contribution = weight * feature value), and the sum of feature contributions is equal to the score or, for some classifiers, to the probability. Feature values are shown if &quot;show_feature_values&quot; is True.\">\n",
       "                    Contribution<sup>?</sup>\n",
       "                </th>\n",
       "            \n",
       "            <th style=\"padding: 0 0.5em 0 0.5em; text-align: left; border: none;\">Feature</th>\n",
       "            \n",
       "        </tr>\n",
       "        </thead>\n",
       "        <tbody>\n",
       "        \n",
       "            <tr style=\"background-color: hsl(120, 100.00%, 80.00%); border: none;\">\n",
       "    <td style=\"padding: 0 1em 0 0.5em; text-align: right; border: none;\">\n",
       "        +1.229\n",
       "    </td>\n",
       "    <td style=\"padding: 0 0.5em 0 0.5em; text-align: left; border: none;\">\n",
       "        Diagnosed_Condition\n",
       "    </td>\n",
       "    \n",
       "</tr>\n",
       "        \n",
       "            <tr style=\"background-color: hsl(120, 100.00%, 81.00%); border: none;\">\n",
       "    <td style=\"padding: 0 1em 0 0.5em; text-align: right; border: none;\">\n",
       "        +1.142\n",
       "    </td>\n",
       "    <td style=\"padding: 0 0.5em 0 0.5em; text-align: left; border: none;\">\n",
       "        DX5\n",
       "    </td>\n",
       "    \n",
       "</tr>\n",
       "        \n",
       "            <tr style=\"background-color: hsl(120, 100.00%, 83.88%); border: none;\">\n",
       "    <td style=\"padding: 0 1em 0 0.5em; text-align: right; border: none;\">\n",
       "        +0.903\n",
       "    </td>\n",
       "    <td style=\"padding: 0 0.5em 0 0.5em; text-align: left; border: none;\">\n",
       "        DX6\n",
       "    </td>\n",
       "    \n",
       "</tr>\n",
       "        \n",
       "            <tr style=\"background-color: hsl(120, 100.00%, 85.68%); border: none;\">\n",
       "    <td style=\"padding: 0 1em 0 0.5em; text-align: right; border: none;\">\n",
       "        +0.762\n",
       "    </td>\n",
       "    <td style=\"padding: 0 0.5em 0 0.5em; text-align: left; border: none;\">\n",
       "        Patient_Body_Mass_Index\n",
       "    </td>\n",
       "    \n",
       "</tr>\n",
       "        \n",
       "            <tr style=\"background-color: hsl(120, 100.00%, 85.77%); border: none;\">\n",
       "    <td style=\"padding: 0 1em 0 0.5em; text-align: right; border: none;\">\n",
       "        +0.756\n",
       "    </td>\n",
       "    <td style=\"padding: 0 0.5em 0 0.5em; text-align: left; border: none;\">\n",
       "        Patient_Smoker_NO\n",
       "    </td>\n",
       "    \n",
       "</tr>\n",
       "        \n",
       "            <tr style=\"background-color: hsl(120, 100.00%, 87.60%); border: none;\">\n",
       "    <td style=\"padding: 0 1em 0 0.5em; text-align: right; border: none;\">\n",
       "        +0.621\n",
       "    </td>\n",
       "    <td style=\"padding: 0 0.5em 0 0.5em; text-align: left; border: none;\">\n",
       "        &lt;BIAS&gt;\n",
       "    </td>\n",
       "    \n",
       "</tr>\n",
       "        \n",
       "            <tr style=\"background-color: hsl(120, 100.00%, 89.91%); border: none;\">\n",
       "    <td style=\"padding: 0 1em 0 0.5em; text-align: right; border: none;\">\n",
       "        +0.462\n",
       "    </td>\n",
       "    <td style=\"padding: 0 0.5em 0 0.5em; text-align: left; border: none;\">\n",
       "        DX3\n",
       "    </td>\n",
       "    \n",
       "</tr>\n",
       "        \n",
       "            <tr style=\"background-color: hsl(120, 100.00%, 92.13%); border: none;\">\n",
       "    <td style=\"padding: 0 1em 0 0.5em; text-align: right; border: none;\">\n",
       "        +0.324\n",
       "    </td>\n",
       "    <td style=\"padding: 0 0.5em 0 0.5em; text-align: left; border: none;\">\n",
       "        Patient_Age\n",
       "    </td>\n",
       "    \n",
       "</tr>\n",
       "        \n",
       "            <tr style=\"background-color: hsl(120, 100.00%, 94.94%); border: none;\">\n",
       "    <td style=\"padding: 0 1em 0 0.5em; text-align: right; border: none;\">\n",
       "        +0.172\n",
       "    </td>\n",
       "    <td style=\"padding: 0 0.5em 0 0.5em; text-align: left; border: none;\">\n",
       "        D\n",
       "    </td>\n",
       "    \n",
       "</tr>\n",
       "        \n",
       "            <tr style=\"background-color: hsl(120, 100.00%, 95.68%); border: none;\">\n",
       "    <td style=\"padding: 0 1em 0 0.5em; text-align: right; border: none;\">\n",
       "        +0.138\n",
       "    </td>\n",
       "    <td style=\"padding: 0 0.5em 0 0.5em; text-align: left; border: none;\">\n",
       "        Patient_Smoker_YES\n",
       "    </td>\n",
       "    \n",
       "</tr>\n",
       "        \n",
       "            <tr style=\"background-color: hsl(120, 100.00%, 96.22%); border: none;\">\n",
       "    <td style=\"padding: 0 1em 0 0.5em; text-align: right; border: none;\">\n",
       "        +0.114\n",
       "    </td>\n",
       "    <td style=\"padding: 0 0.5em 0 0.5em; text-align: left; border: none;\">\n",
       "        Patient_Rural_Urban_RURAL\n",
       "    </td>\n",
       "    \n",
       "</tr>\n",
       "        \n",
       "            <tr style=\"background-color: hsl(120, 100.00%, 97.14%); border: none;\">\n",
       "    <td style=\"padding: 0 1em 0 0.5em; text-align: right; border: none;\">\n",
       "        +0.077\n",
       "    </td>\n",
       "    <td style=\"padding: 0 0.5em 0 0.5em; text-align: left; border: none;\">\n",
       "        Number_of_prev_cond\n",
       "    </td>\n",
       "    \n",
       "</tr>\n",
       "        \n",
       "            <tr style=\"background-color: hsl(120, 100.00%, 97.16%); border: none;\">\n",
       "    <td style=\"padding: 0 1em 0 0.5em; text-align: right; border: none;\">\n",
       "        +0.075\n",
       "    </td>\n",
       "    <td style=\"padding: 0 0.5em 0 0.5em; text-align: left; border: none;\">\n",
       "        Patient_Rural_Urban_URBAN\n",
       "    </td>\n",
       "    \n",
       "</tr>\n",
       "        \n",
       "            <tr style=\"background-color: hsl(120, 100.00%, 97.32%); border: none;\">\n",
       "    <td style=\"padding: 0 1em 0 0.5em; text-align: right; border: none;\">\n",
       "        +0.069\n",
       "    </td>\n",
       "    <td style=\"padding: 0 0.5em 0 0.5em; text-align: left; border: none;\">\n",
       "        C\n",
       "    </td>\n",
       "    \n",
       "</tr>\n",
       "        \n",
       "            <tr style=\"background-color: hsl(120, 100.00%, 97.85%); border: none;\">\n",
       "    <td style=\"padding: 0 1em 0 0.5em; text-align: right; border: none;\">\n",
       "        +0.051\n",
       "    </td>\n",
       "    <td style=\"padding: 0 0.5em 0 0.5em; text-align: left; border: none;\">\n",
       "        Patient_ID\n",
       "    </td>\n",
       "    \n",
       "</tr>\n",
       "        \n",
       "            <tr style=\"background-color: hsl(120, 100.00%, 98.26%); border: none;\">\n",
       "    <td style=\"padding: 0 1em 0 0.5em; text-align: right; border: none;\">\n",
       "        +0.038\n",
       "    </td>\n",
       "    <td style=\"padding: 0 0.5em 0 0.5em; text-align: left; border: none;\">\n",
       "        B\n",
       "    </td>\n",
       "    \n",
       "</tr>\n",
       "        \n",
       "            <tr style=\"background-color: hsl(120, 100.00%, 98.44%); border: none;\">\n",
       "    <td style=\"padding: 0 1em 0 0.5em; text-align: right; border: none;\">\n",
       "        +0.032\n",
       "    </td>\n",
       "    <td style=\"padding: 0 0.5em 0 0.5em; text-align: left; border: none;\">\n",
       "        No_of_treatment_drugs\n",
       "    </td>\n",
       "    \n",
       "</tr>\n",
       "        \n",
       "            <tr style=\"background-color: hsl(120, 100.00%, 99.34%); border: none;\">\n",
       "    <td style=\"padding: 0 1em 0 0.5em; text-align: right; border: none;\">\n",
       "        +0.009\n",
       "    </td>\n",
       "    <td style=\"padding: 0 0.5em 0 0.5em; text-align: left; border: none;\">\n",
       "        A\n",
       "    </td>\n",
       "    \n",
       "</tr>\n",
       "        \n",
       "            <tr style=\"background-color: hsl(120, 100.00%, 99.46%); border: none;\">\n",
       "    <td style=\"padding: 0 1em 0 0.5em; text-align: right; border: none;\">\n",
       "        +0.007\n",
       "    </td>\n",
       "    <td style=\"padding: 0 0.5em 0 0.5em; text-align: left; border: none;\">\n",
       "        DX1\n",
       "    </td>\n",
       "    \n",
       "</tr>\n",
       "        \n",
       "        \n",
       "\n",
       "        \n",
       "        \n",
       "            <tr style=\"background-color: hsl(0, 100.00%, 99.54%); border: none;\">\n",
       "    <td style=\"padding: 0 1em 0 0.5em; text-align: right; border: none;\">\n",
       "        -0.006\n",
       "    </td>\n",
       "    <td style=\"padding: 0 0.5em 0 0.5em; text-align: left; border: none;\">\n",
       "        DX2\n",
       "    </td>\n",
       "    \n",
       "</tr>\n",
       "        \n",
       "            <tr style=\"background-color: hsl(0, 100.00%, 98.85%); border: none;\">\n",
       "    <td style=\"padding: 0 1em 0 0.5em; text-align: right; border: none;\">\n",
       "        -0.021\n",
       "    </td>\n",
       "    <td style=\"padding: 0 0.5em 0 0.5em; text-align: left; border: none;\">\n",
       "        DX4\n",
       "    </td>\n",
       "    \n",
       "</tr>\n",
       "        \n",
       "\n",
       "        </tbody>\n",
       "    </table>\n",
       "\n",
       "            \n",
       "        \n",
       "\n",
       "        \n",
       "\n",
       "\n",
       "\n",
       "    \n",
       "\n",
       "    \n",
       "\n",
       "    \n",
       "\n",
       "    \n",
       "\n",
       "\n",
       "    \n",
       "\n",
       "    \n",
       "\n",
       "    \n",
       "\n",
       "    \n",
       "\n",
       "    \n",
       "\n",
       "    \n",
       "\n",
       "\n",
       "    \n",
       "\n",
       "    \n",
       "\n",
       "    \n",
       "\n",
       "    \n",
       "\n",
       "    \n",
       "\n",
       "    \n",
       "\n",
       "\n",
       "\n"
      ],
      "text/plain": [
       "<IPython.core.display.HTML object>"
      ]
     },
     "execution_count": 175,
     "metadata": {},
     "output_type": "execute_result"
    }
   ],
   "source": [
    "# what were the attributes which contributed in model prediction for first row of validation dataset\n",
    "eli5.show_prediction(final_model, X_important_valid.iloc[1])\n"
   ]
  },
  {
   "cell_type": "markdown",
   "metadata": {},
   "source": [
    "### CREATE  A PREDICTION DATAFRAME WITH MODEL PREDICTED OUTPUTS"
   ]
  },
  {
   "cell_type": "code",
   "execution_count": 232,
   "metadata": {},
   "outputs": [],
   "source": [
    "# taking out prediction and probability of prediction values for validation dataset\n",
    "y_pred_valid = pd.Series(y_pred_valid)\n",
    "y_pred_prob = list(XGB_from_joblib.predict_proba(X_important_valid)[:,1]) #sind predict_proba has two values we take \n",
    "#prob for predicting survived(=1)\n"
   ]
  },
  {
   "cell_type": "code",
   "execution_count": 233,
   "metadata": {},
   "outputs": [
    {
     "data": {
      "text/plain": [
       "([21109, 596, 5750, 13110, 3353], [1399, 3078, 10919, 10960, 3179])"
      ]
     },
     "execution_count": 233,
     "metadata": {},
     "output_type": "execute_result"
    }
   ],
   "source": [
    "# retriving the patient ID from orginal DF based on index values\n",
    "test_index = list(X_valid.index) # index of valid dataset\n",
    "Org_dataframe_index =[] \n",
    "Patient_ID = []\n",
    "for index in test_index:\n",
    "    Org_dataframe_index.append(index)\n",
    "    Patient_ID.append(patient.loc[index]['Patient_ID']) # retriving patient ID and appending to list\n",
    "    \n",
    "Org_dataframe_index[:5],Patient_ID[:5]"
   ]
  },
  {
   "cell_type": "code",
   "execution_count": 259,
   "metadata": {},
   "outputs": [
    {
     "name": "stdout",
     "output_type": "stream",
     "text": [
      "\u001b[1m\u001b[34mPredictions for Validation Dataset by Final Model\u001b[0m\n"
     ]
    },
    {
     "data": {
      "text/html": [
       "<style  type=\"text/css\" >\n",
       "#T_c3f82_row0_col0,#T_c3f82_row1_col2,#T_c3f82_row1_col3,#T_c3f82_row1_col4,#T_c3f82_row2_col2,#T_c3f82_row3_col1{\n",
       "            background-color:  #008000;\n",
       "            color:  #f1f1f1;\n",
       "        }#T_c3f82_row0_col1,#T_c3f82_row0_col2,#T_c3f82_row0_col3,#T_c3f82_row0_col4,#T_c3f82_row1_col0,#T_c3f82_row2_col3,#T_c3f82_row3_col2,#T_c3f82_row3_col3,#T_c3f82_row4_col2,#T_c3f82_row4_col3{\n",
       "            background-color:  #ebf3eb;\n",
       "            color:  #000000;\n",
       "        }#T_c3f82_row1_col1{\n",
       "            background-color:  #c2dfc2;\n",
       "            color:  #000000;\n",
       "        }#T_c3f82_row2_col0{\n",
       "            background-color:  #b0d6b0;\n",
       "            color:  #000000;\n",
       "        }#T_c3f82_row2_col1{\n",
       "            background-color:  #018001;\n",
       "            color:  #f1f1f1;\n",
       "        }#T_c3f82_row2_col4,#T_c3f82_row4_col4{\n",
       "            background-color:  #92c892;\n",
       "            color:  #000000;\n",
       "        }#T_c3f82_row3_col0{\n",
       "            background-color:  #5bad5b;\n",
       "            color:  #000000;\n",
       "        }#T_c3f82_row3_col4{\n",
       "            background-color:  #ddecdd;\n",
       "            color:  #000000;\n",
       "        }#T_c3f82_row4_col0{\n",
       "            background-color:  #cbe4cb;\n",
       "            color:  #000000;\n",
       "        }#T_c3f82_row4_col1{\n",
       "            background-color:  #bfdebf;\n",
       "            color:  #000000;\n",
       "        }</style><table id=\"T_c3f82_\" ><thead>    <tr>        <th class=\"blank level0\" ></th>        <th class=\"col_heading level0 col0\" >Original_DF_Index</th>        <th class=\"col_heading level0 col1\" >Patient_ID</th>        <th class=\"col_heading level0 col2\" >True_Value(Survived_1_year)</th>        <th class=\"col_heading level0 col3\" >model_prediction</th>        <th class=\"col_heading level0 col4\" >Model_pred_probability_for_Survived</th>    </tr></thead><tbody>\n",
       "                <tr>\n",
       "                        <th id=\"T_c3f82_level0_row0\" class=\"row_heading level0 row0\" >0</th>\n",
       "                        <td id=\"T_c3f82_row0_col0\" class=\"data row0 col0\" >21109</td>\n",
       "                        <td id=\"T_c3f82_row0_col1\" class=\"data row0 col1\" >1399</td>\n",
       "                        <td id=\"T_c3f82_row0_col2\" class=\"data row0 col2\" >0</td>\n",
       "                        <td id=\"T_c3f82_row0_col3\" class=\"data row0 col3\" >0</td>\n",
       "                        <td id=\"T_c3f82_row0_col4\" class=\"data row0 col4\" >0.012010</td>\n",
       "            </tr>\n",
       "            <tr>\n",
       "                        <th id=\"T_c3f82_level0_row1\" class=\"row_heading level0 row1\" >1</th>\n",
       "                        <td id=\"T_c3f82_row1_col0\" class=\"data row1 col0\" >596</td>\n",
       "                        <td id=\"T_c3f82_row1_col1\" class=\"data row1 col1\" >3078</td>\n",
       "                        <td id=\"T_c3f82_row1_col2\" class=\"data row1 col2\" >1</td>\n",
       "                        <td id=\"T_c3f82_row1_col3\" class=\"data row1 col3\" >1</td>\n",
       "                        <td id=\"T_c3f82_row1_col4\" class=\"data row1 col4\" >0.999047</td>\n",
       "            </tr>\n",
       "            <tr>\n",
       "                        <th id=\"T_c3f82_level0_row2\" class=\"row_heading level0 row2\" >2</th>\n",
       "                        <td id=\"T_c3f82_row2_col0\" class=\"data row2 col0\" >5750</td>\n",
       "                        <td id=\"T_c3f82_row2_col1\" class=\"data row2 col1\" >10919</td>\n",
       "                        <td id=\"T_c3f82_row2_col2\" class=\"data row2 col2\" >1</td>\n",
       "                        <td id=\"T_c3f82_row2_col3\" class=\"data row2 col3\" >0</td>\n",
       "                        <td id=\"T_c3f82_row2_col4\" class=\"data row2 col4\" >0.384766</td>\n",
       "            </tr>\n",
       "            <tr>\n",
       "                        <th id=\"T_c3f82_level0_row3\" class=\"row_heading level0 row3\" >3</th>\n",
       "                        <td id=\"T_c3f82_row3_col0\" class=\"data row3 col0\" >13110</td>\n",
       "                        <td id=\"T_c3f82_row3_col1\" class=\"data row3 col1\" >10960</td>\n",
       "                        <td id=\"T_c3f82_row3_col2\" class=\"data row3 col2\" >0</td>\n",
       "                        <td id=\"T_c3f82_row3_col3\" class=\"data row3 col3\" >0</td>\n",
       "                        <td id=\"T_c3f82_row3_col4\" class=\"data row3 col4\" >0.072845</td>\n",
       "            </tr>\n",
       "            <tr>\n",
       "                        <th id=\"T_c3f82_level0_row4\" class=\"row_heading level0 row4\" >4</th>\n",
       "                        <td id=\"T_c3f82_row4_col0\" class=\"data row4 col0\" >3353</td>\n",
       "                        <td id=\"T_c3f82_row4_col1\" class=\"data row4 col1\" >3179</td>\n",
       "                        <td id=\"T_c3f82_row4_col2\" class=\"data row4 col2\" >0</td>\n",
       "                        <td id=\"T_c3f82_row4_col3\" class=\"data row4 col3\" >0</td>\n",
       "                        <td id=\"T_c3f82_row4_col4\" class=\"data row4 col4\" >0.384953</td>\n",
       "            </tr>\n",
       "    </tbody></table>"
      ],
      "text/plain": [
       "<pandas.io.formats.style.Styler at 0x1e0b7a8e040>"
      ]
     },
     "execution_count": 259,
     "metadata": {},
     "output_type": "execute_result"
    }
   ],
   "source": [
    "#create a new dataframe \n",
    "cm = sns.light_palette(\"green\", as_cmap=True)\n",
    "y_true_valid = list(y_valid.values)\n",
    "output_df = pd.DataFrame({'Original_DF_Index':Org_dataframe_index,'Patient_ID':Patient_ID,'True_Value(Survived_1_year)':y_true_valid})\n",
    "output_df['model_prediction']= pd.Series(y_pred_valid)\n",
    "output_df['Model_pred_probability_for_Survived'] = pd.Series(y_pred_prob)\n",
    "s = output_df.head().style.background_gradient(cmap=cm)\n",
    "print(color('Predictions for Validation Dataset by Final Model','blue',attrs=['bold']))\n",
    "s"
   ]
  },
  {
   "cell_type": "markdown",
   "metadata": {},
   "source": [
    "  - Model prediction and probability ofprediction can be compared with true value in the dataframe\n",
    "  - as seen the model got probability of survuval for Patient ID 1399 as 0.012, hence it the patient was classified as not_survived\n",
    "  - while in case of Pateint ID 3078, the probablity of prediction was 0.999 , hence classified as Survived"
   ]
  },
  {
   "cell_type": "markdown",
   "metadata": {},
   "source": [
    "### 3.4 Analysis \n",
    "\n",
    "Spend some time analysing your models, data and processes.\n",
    "\n",
    "[Back to top](#Table-of-contents)"
   ]
  },
  {
   "cell_type": "markdown",
   "metadata": {},
   "source": [
    "### 3.5 Results\n",
    "\n",
    "What are your results?\n",
    "\n",
    "[Back to top](#Table-of-contents)"
   ]
  },
  {
   "cell_type": "markdown",
   "metadata": {},
   "source": [
    "## 4. Implementation (optional)\n",
    "\n",
    "Ab attempt has been made as a part of deployment of model to create an App in streamlit to predict survived_1_year given attributes for a patient. The streamlit is a user friendly tool in python which has inbuilt method to design a webpage similar to html and css using Flask. The code caters for basic description of data along with description of features and plots . The App accepts user inputs for a patient and uses the saved model (patient_survival.pkl) to predict survived_1_year for the patient. To regulate the access of App a user name and password protection has been provided. The code has been written in VS code (newapp.py). \n",
    "\n",
    "[Back to top](#Table-of-contents)"
   ]
  },
  {
   "cell_type": "markdown",
   "metadata": {},
   "source": [
    "## Conclusion\n",
    "\n",
    "What are your conclusions?\n",
    "\n",
    "[Back to top](#Table-of-contents)"
   ]
  },
  {
   "cell_type": "markdown",
   "metadata": {},
   "source": [
    "## References\n",
    "\n",
    "(1) https://www.foreseemed.com/blog/machine-learning-in-healthcare Benefits of Machine Learning in Healthcare\n",
    "\n",
    "(2) https://www.kdnuggets.com/2020/11/predicting-heart-disease-machine-learning.html by Venkat Raman,Data Scientist at True  \n",
    "    Influence\n",
    "\n",
    "(3) https://machinelearningmastery.com/data-leakage-machine-learning/ Data Leakege in Machine Learning by Jason Brownlee\n",
    "\n",
    "(4) https://github.com/scikit-learn-contrib/boruta_py GitHub repository for Boruta Feature Selection method\n",
    "\n",
    "(5) https://www.analyticsvidhya.com/blog/2020/03/6-python-libraries-interpret-machine-learning-models/ The Case for Building Trust in Machine Learning Models by Purva\n",
    "\n",
    "(6) https://www.analyticsvidhya.com/blog/2020/12/deploying-machine-learning-models-using-streamlit-an-introductory-guide-to-model-deployment/ Deploying machine learning models using Streamlit – An introductory guide to Model Deployment\n",
    "\n",
    "(7) https://towardsdatascience.com/streamlit-101-an-in-depth-introduction-fc8aad9492f2  Streamlit 101: An in-depth introduction\n",
    "\n",
    "[Back to top](#Table-of-contents)"
   ]
  },
  {
   "cell_type": "code",
   "execution_count": 249,
   "metadata": {},
   "outputs": [
    {
     "data": {
      "text/plain": [
       "Diagnosed_Condition          23.000000\n",
       "Patient_ID                         NaN\n",
       "Patient_Age                  26.000000\n",
       "Patient_Body_Mass_Index      29.957685\n",
       "A                             1.000000\n",
       "B                             0.000000\n",
       "C                             0.000000\n",
       "D                             0.000000\n",
       "E                             0.000000\n",
       "F                             0.000000\n",
       "Z                             0.000000\n",
       "Number_of_prev_cond           1.000000\n",
       "DX1                           0.000000\n",
       "DX2                           0.000000\n",
       "DX3                           0.000000\n",
       "DX4                           0.000000\n",
       "DX5                           0.000000\n",
       "DX6                           1.000000\n",
       "Patient_Smoker_NO             0.000000\n",
       "Patient_Smoker_YES            1.000000\n",
       "Patient_Rural_Urban_RURAL     1.000000\n",
       "Patient_Rural_Urban_URBAN     0.000000\n",
       "No_of_treatment_drugs         1.000000\n",
       "Name: 21109, dtype: float64"
      ]
     },
     "execution_count": 249,
     "metadata": {},
     "output_type": "execute_result"
    }
   ],
   "source": [
    "X_valid.loc[21109]"
   ]
  },
  {
   "cell_type": "code",
   "execution_count": 251,
   "metadata": {},
   "outputs": [
    {
     "data": {
      "text/plain": [
       "Index(['Diagnosed_Condition', 'Patient_ID', 'Patient_Age',\n",
       "       'Patient_Body_Mass_Index', 'A', 'B', 'C', 'D', 'E',\n",
       "       'Number_of_prev_cond', 'DX1', 'DX2', 'DX3', 'DX4', 'DX5', 'DX6',\n",
       "       'Patient_Smoker_NO', 'Patient_Smoker_YES', 'Patient_Rural_Urban_RURAL',\n",
       "       'Patient_Rural_Urban_URBAN', 'No_of_treatment_drugs'],\n",
       "      dtype='object')"
      ]
     },
     "execution_count": 251,
     "metadata": {},
     "output_type": "execute_result"
    }
   ],
   "source": [
    "X_important_valid.columns"
   ]
  },
  {
   "cell_type": "code",
   "execution_count": null,
   "metadata": {},
   "outputs": [],
   "source": []
  }
 ],
 "metadata": {
  "kernelspec": {
   "display_name": "Python 3",
   "language": "python",
   "name": "python3"
  },
  "language_info": {
   "codemirror_mode": {
    "name": "ipython",
    "version": 3
   },
   "file_extension": ".py",
   "mimetype": "text/x-python",
   "name": "python",
   "nbconvert_exporter": "python",
   "pygments_lexer": "ipython3",
   "version": "3.9.1"
  }
 },
 "nbformat": 4,
 "nbformat_minor": 4
}
